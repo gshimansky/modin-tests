{
 "cells": [
  {
   "cell_type": "markdown",
   "source": [
    "# Predicting NYC Taxi Fares with Intel Optimizations on Full Dataset"
   ],
   "metadata": {
    "collapsed": false
   }
  },
  {
   "cell_type": "markdown",
   "source": [
    "This is a notebook originally written for Rapids but converted to use Modin on Omnisci."
   ],
   "metadata": {
    "collapsed": false
   }
  },
  {
   "cell_type": "code",
   "execution_count": 7,
   "outputs": [],
   "source": [
    "%matplotlib inline\n",
    "import glob\n",
    "#import matplotlib.pyplot as plt\n",
    "#import socket, time\n",
    "import pandas as modin_omni_pd\n",
    "#import xgboost as xgb\n",
    "\n",
    "#To install Holoviews and hvplot\n",
    "#conda install -c conda-forge holoviews\n",
    "#conda install -c pyviz hvplot\n",
    "#import holoviews as hv\n",
    "#from holoviews import opts\n",
    "import numpy as np\n",
    "#import hvplot.pandas\n",
    "#import hvplot.dask"
   ],
   "metadata": {
    "collapsed": false,
    "pycharm": {
     "name": "#%%\n"
    }
   }
  },
  {
   "cell_type": "markdown",
   "source": [
    "# Inspecting the Data\n",
    "\n",
    "We'll use Modin on Omnisci to load and parse all CSV files into a DataFrame. It makes it 30 files overall."
   ],
   "metadata": {
    "collapsed": false
   }
  },
  {
   "cell_type": "markdown",
   "source": [
    "# Data Cleanup\n",
    "\n",
    "As usual, the data needs to be massaged a bit before we can start adding features that are useful to an ML model.\n",
    "\n",
    "For example, in the 2014 taxi CSV files, there are `pickup_datetime` and `dropoff_datetime` columns. The 2015 CSVs have `tpep_pickup_datetime` and `tpep_dropoff_datetime`, which are the same columns. One year has `rate_code`, and another `RateCodeID`.\n",
    "\n",
    "Also, some CSV files have column names with extraneous spaces in them.\n",
    "\n",
    "Worst of all, starting in the July 2016 CSVs, pickup & dropoff latitude and longitude data were replaced by location IDs, making the second half of the year useless to us.\n",
    "\n",
    "We'll do a little string manipulation, column renaming, and concatenating of DataFrames to sidestep the problems."
   ],
   "metadata": {
    "collapsed": false
   }
  },
  {
   "cell_type": "code",
   "execution_count": 8,
   "outputs": [],
   "source": [
    "#Dictionary of required columns and their datatypes\n",
    "drop_columns = [\n",
    "    \"surcharge\", \"extra\", \"improvement_surcharge\"\n",
    "]"
   ],
   "metadata": {
    "collapsed": false,
    "pycharm": {
     "name": "#%%\n"
    }
   }
  },
  {
   "cell_type": "code",
   "execution_count": 9,
   "outputs": [],
   "source": [
    "def clean(ddf):\n",
    "    # replace the extraneous spaces in column names and lower the font type\n",
    "    tmp = {col:col.strip().lower() for col in list(ddf.columns)}\n",
    "    ddf = ddf.rename(columns=tmp)\n",
    "\n",
    "    ddf = ddf.rename(columns={\n",
    "        'tpep_pickup_datetime': 'pickup_datetime',\n",
    "        'tpep_dropoff_datetime': 'dropoff_datetime',\n",
    "        'ratecodeid': 'rate_code',\n",
    "        'vendorid': 'vendor_id'\n",
    "    })\n",
    "\n",
    "    print(\"columns = \", ddf.columns)\n",
    "    for col in ddf.columns:\n",
    "        if col in drop_columns:\n",
    "            print(\"dropping column = \", col)\n",
    "            ddf = ddf.drop(columns=col)\n",
    "            continue\n",
    "        if ddf[col].dtype == 'object':\n",
    "            ddf[col] = ddf[col].fillna('-1')\n",
    "\n",
    "    return ddf"
   ],
   "metadata": {
    "collapsed": false,
    "pycharm": {
     "name": "#%%\n"
    }
   }
  },
  {
   "cell_type": "code",
   "execution_count": 10,
   "outputs": [
    {
     "name": "stdout",
     "output_type": "stream",
     "text": [
      "columns =  Index(['vendor_id', 'pickup_datetime', 'dropoff_datetime', 'passenger_count',\n",
      "       'trip_distance', 'pickup_longitude', 'pickup_latitude', 'rate_code',\n",
      "       'store_and_fwd_flag', 'dropoff_longitude', 'dropoff_latitude',\n",
      "       'payment_type', 'fare_amount', 'surcharge', 'mta_tax', 'tip_amount',\n",
      "       'tolls_amount', 'total_amount'],\n",
      "      dtype='object')\n",
      "dropping column =  surcharge\n",
      "columns =  Index(['vendor_id', 'pickup_datetime', 'dropoff_datetime', 'passenger_count',\n",
      "       'trip_distance', 'pickup_longitude', 'pickup_latitude', 'rate_code',\n",
      "       'store_and_fwd_flag', 'dropoff_longitude', 'dropoff_latitude',\n",
      "       'payment_type', 'fare_amount', 'surcharge', 'mta_tax', 'tip_amount',\n",
      "       'tolls_amount', 'total_amount'],\n",
      "      dtype='object')\n",
      "dropping column =  surcharge\n",
      "columns =  Index(['vendor_id', 'pickup_datetime', 'dropoff_datetime', 'passenger_count',\n",
      "       'trip_distance', 'pickup_longitude', 'pickup_latitude', 'rate_code',\n",
      "       'store_and_fwd_flag', 'dropoff_longitude', 'dropoff_latitude',\n",
      "       'payment_type', 'fare_amount', 'surcharge', 'mta_tax', 'tip_amount',\n",
      "       'tolls_amount', 'total_amount'],\n",
      "      dtype='object')\n",
      "dropping column =  surcharge\n",
      "columns =  Index(['vendor_id', 'pickup_datetime', 'dropoff_datetime', 'passenger_count',\n",
      "       'trip_distance', 'pickup_longitude', 'pickup_latitude', 'rate_code',\n",
      "       'store_and_fwd_flag', 'dropoff_longitude', 'dropoff_latitude',\n",
      "       'payment_type', 'fare_amount', 'surcharge', 'mta_tax', 'tip_amount',\n",
      "       'tolls_amount', 'total_amount'],\n",
      "      dtype='object')\n",
      "dropping column =  surcharge\n"
     ]
    },
    {
     "name": "stderr",
     "output_type": "stream",
     "text": [
      "/tmp/ipykernel_1498506/2064344179.py:3: DtypeWarning: Columns (8) have mixed types.Specify dtype option on import or set low_memory=False.\n",
      "  df_2014 = modin_omni_pd.concat([\n"
     ]
    },
    {
     "name": "stdout",
     "output_type": "stream",
     "text": [
      "columns =  Index(['vendor_id', 'pickup_datetime', 'dropoff_datetime', 'passenger_count',\n",
      "       'trip_distance', 'pickup_longitude', 'pickup_latitude', 'rate_code',\n",
      "       'store_and_fwd_flag', 'dropoff_longitude', 'dropoff_latitude',\n",
      "       'payment_type', 'fare_amount', 'surcharge', 'mta_tax', 'tip_amount',\n",
      "       'tolls_amount', 'total_amount'],\n",
      "      dtype='object')\n",
      "dropping column =  surcharge\n",
      "columns =  Index(['vendor_id', 'pickup_datetime', 'dropoff_datetime', 'passenger_count',\n",
      "       'trip_distance', 'pickup_longitude', 'pickup_latitude', 'rate_code',\n",
      "       'store_and_fwd_flag', 'dropoff_longitude', 'dropoff_latitude',\n",
      "       'payment_type', 'fare_amount', 'surcharge', 'mta_tax', 'tip_amount',\n",
      "       'tolls_amount', 'total_amount'],\n",
      "      dtype='object')\n",
      "dropping column =  surcharge\n",
      "columns =  Index(['vendor_id', 'pickup_datetime', 'dropoff_datetime', 'passenger_count',\n",
      "       'trip_distance', 'pickup_longitude', 'pickup_latitude', 'rate_code',\n",
      "       'store_and_fwd_flag', 'dropoff_longitude', 'dropoff_latitude',\n",
      "       'payment_type', 'fare_amount', 'surcharge', 'mta_tax', 'tip_amount',\n",
      "       'tolls_amount', 'total_amount'],\n",
      "      dtype='object')\n",
      "dropping column =  surcharge\n",
      "columns =  Index(['vendor_id', 'pickup_datetime', 'dropoff_datetime', 'passenger_count',\n",
      "       'trip_distance', 'pickup_longitude', 'pickup_latitude', 'rate_code',\n",
      "       'store_and_fwd_flag', 'dropoff_longitude', 'dropoff_latitude',\n",
      "       'payment_type', 'fare_amount', 'surcharge', 'mta_tax', 'tip_amount',\n",
      "       'tolls_amount', 'total_amount'],\n",
      "      dtype='object')\n",
      "dropping column =  surcharge\n",
      "columns =  Index(['vendor_id', 'pickup_datetime', 'dropoff_datetime', 'passenger_count',\n",
      "       'trip_distance', 'pickup_longitude', 'pickup_latitude', 'rate_code',\n",
      "       'store_and_fwd_flag', 'dropoff_longitude', 'dropoff_latitude',\n",
      "       'payment_type', 'fare_amount', 'surcharge', 'mta_tax', 'tip_amount',\n",
      "       'tolls_amount', 'total_amount'],\n",
      "      dtype='object')\n",
      "dropping column =  surcharge\n",
      "columns =  Index(['vendor_id', 'pickup_datetime', 'dropoff_datetime', 'passenger_count',\n",
      "       'trip_distance', 'pickup_longitude', 'pickup_latitude', 'rate_code',\n",
      "       'store_and_fwd_flag', 'dropoff_longitude', 'dropoff_latitude',\n",
      "       'payment_type', 'fare_amount', 'surcharge', 'mta_tax', 'tip_amount',\n",
      "       'tolls_amount', 'total_amount'],\n",
      "      dtype='object')\n",
      "dropping column =  surcharge\n",
      "columns =  Index(['vendor_id', 'pickup_datetime', 'dropoff_datetime', 'passenger_count',\n",
      "       'trip_distance', 'pickup_longitude', 'pickup_latitude', 'rate_code',\n",
      "       'store_and_fwd_flag', 'dropoff_longitude', 'dropoff_latitude',\n",
      "       'payment_type', 'fare_amount', 'surcharge', 'mta_tax', 'tip_amount',\n",
      "       'tolls_amount', 'total_amount'],\n",
      "      dtype='object')\n",
      "dropping column =  surcharge\n",
      "columns =  Index(['vendor_id', 'pickup_datetime', 'dropoff_datetime', 'passenger_count',\n",
      "       'trip_distance', 'pickup_longitude', 'pickup_latitude', 'rate_code',\n",
      "       'store_and_fwd_flag', 'dropoff_longitude', 'dropoff_latitude',\n",
      "       'payment_type', 'fare_amount', 'surcharge', 'mta_tax', 'tip_amount',\n",
      "       'tolls_amount', 'total_amount'],\n",
      "      dtype='object')\n",
      "dropping column =  surcharge\n"
     ]
    }
   ],
   "source": [
    "base_path = '/localdisk/benchmark_datasets/yellow-taxi-dataset/'\n",
    "\n",
    "df_2014 = modin_omni_pd.concat([\n",
    "    clean(modin_omni_pd.read_csv(x, parse_dates=[' pickup_datetime', ' dropoff_datetime']))\n",
    "    for x in glob.glob(base_path+'2014/yellow_*.csv')], ignore_index=True)"
   ],
   "metadata": {
    "collapsed": false,
    "pycharm": {
     "name": "#%%\n"
    }
   }
  },
  {
   "cell_type": "code",
   "execution_count": 11,
   "outputs": [
    {
     "data": {
      "text/plain": "vendor_id                     object\npickup_datetime       datetime64[ns]\ndropoff_datetime      datetime64[ns]\npassenger_count                int64\ntrip_distance                float64\npickup_longitude             float64\npickup_latitude              float64\nrate_code                      int64\nstore_and_fwd_flag            object\ndropoff_longitude            float64\ndropoff_latitude             float64\npayment_type                  object\nfare_amount                  float64\nmta_tax                      float64\ntip_amount                   float64\ntolls_amount                 float64\ntotal_amount                 float64\ndtype: object"
     },
     "execution_count": 11,
     "metadata": {},
     "output_type": "execute_result"
    }
   ],
   "source": [
    "df_2014.dtypes"
   ],
   "metadata": {
    "collapsed": false,
    "pycharm": {
     "name": "#%%\n"
    }
   }
  },
  {
   "cell_type": "markdown",
   "source": [
    "<b> NOTE: </b>We will realize that some of 2015 data has column name as `RateCodeID` and others have `RatecodeID`. When we rename the columns in the clean function, it internally doesn't pass meta while calling map_partitions(). This leads to the error of column name mismatch in the returned data. For this reason, we will call the clean function with map_partition and pass the meta to it. Here is the link to the bug created for that: https://github.com/rapidsai/cudf/issues/5413"
   ],
   "metadata": {
    "collapsed": false
   }
  },
  {
   "cell_type": "code",
   "execution_count": 12,
   "outputs": [
    {
     "data": {
      "text/plain": "(165114361, 17)"
     },
     "execution_count": 12,
     "metadata": {},
     "output_type": "execute_result"
    }
   ],
   "source": [
    "df_2014.shape"
   ],
   "metadata": {
    "collapsed": false,
    "pycharm": {
     "name": "#%%\n"
    }
   }
  },
  {
   "cell_type": "markdown",
   "source": [
    "We still have 2015 and the first half of 2016's data to read and clean. Let's increase our dataset."
   ],
   "metadata": {
    "collapsed": false
   }
  },
  {
   "cell_type": "code",
   "execution_count": 13,
   "outputs": [
    {
     "name": "stdout",
     "output_type": "stream",
     "text": [
      "columns =  Index(['vendor_id', 'pickup_datetime', 'dropoff_datetime', 'passenger_count',\n",
      "       'trip_distance', 'pickup_longitude', 'pickup_latitude', 'rate_code',\n",
      "       'store_and_fwd_flag', 'dropoff_longitude', 'dropoff_latitude',\n",
      "       'payment_type', 'fare_amount', 'extra', 'mta_tax', 'tip_amount',\n",
      "       'tolls_amount', 'improvement_surcharge', 'total_amount'],\n",
      "      dtype='object')\n",
      "dropping column =  extra\n",
      "dropping column =  improvement_surcharge\n",
      "columns =  Index(['vendor_id', 'pickup_datetime', 'dropoff_datetime', 'passenger_count',\n",
      "       'trip_distance', 'pickup_longitude', 'pickup_latitude', 'rate_code',\n",
      "       'store_and_fwd_flag', 'dropoff_longitude', 'dropoff_latitude',\n",
      "       'payment_type', 'fare_amount', 'extra', 'mta_tax', 'tip_amount',\n",
      "       'tolls_amount', 'improvement_surcharge', 'total_amount'],\n",
      "      dtype='object')\n",
      "dropping column =  extra\n",
      "dropping column =  improvement_surcharge\n",
      "columns =  Index(['vendor_id', 'pickup_datetime', 'dropoff_datetime', 'passenger_count',\n",
      "       'trip_distance', 'pickup_longitude', 'pickup_latitude', 'rate_code',\n",
      "       'store_and_fwd_flag', 'dropoff_longitude', 'dropoff_latitude',\n",
      "       'payment_type', 'fare_amount', 'extra', 'mta_tax', 'tip_amount',\n",
      "       'tolls_amount', 'improvement_surcharge', 'total_amount'],\n",
      "      dtype='object')\n",
      "dropping column =  extra\n",
      "dropping column =  improvement_surcharge\n",
      "columns =  Index(['vendor_id', 'pickup_datetime', 'dropoff_datetime', 'passenger_count',\n",
      "       'trip_distance', 'pickup_longitude', 'pickup_latitude', 'rate_code',\n",
      "       'store_and_fwd_flag', 'dropoff_longitude', 'dropoff_latitude',\n",
      "       'payment_type', 'fare_amount', 'extra', 'mta_tax', 'tip_amount',\n",
      "       'tolls_amount', 'improvement_surcharge', 'total_amount'],\n",
      "      dtype='object')\n",
      "dropping column =  extra\n",
      "dropping column =  improvement_surcharge\n",
      "columns =  Index(['vendor_id', 'pickup_datetime', 'dropoff_datetime', 'passenger_count',\n",
      "       'trip_distance', 'pickup_longitude', 'pickup_latitude', 'rate_code',\n",
      "       'store_and_fwd_flag', 'dropoff_longitude', 'dropoff_latitude',\n",
      "       'payment_type', 'fare_amount', 'extra', 'mta_tax', 'tip_amount',\n",
      "       'tolls_amount', 'improvement_surcharge', 'total_amount'],\n",
      "      dtype='object')\n",
      "dropping column =  extra\n",
      "dropping column =  improvement_surcharge\n",
      "columns =  Index(['vendor_id', 'pickup_datetime', 'dropoff_datetime', 'passenger_count',\n",
      "       'trip_distance', 'pickup_longitude', 'pickup_latitude', 'rate_code',\n",
      "       'store_and_fwd_flag', 'dropoff_longitude', 'dropoff_latitude',\n",
      "       'payment_type', 'fare_amount', 'extra', 'mta_tax', 'tip_amount',\n",
      "       'tolls_amount', 'improvement_surcharge', 'total_amount'],\n",
      "      dtype='object')\n",
      "dropping column =  extra\n",
      "dropping column =  improvement_surcharge\n",
      "columns =  Index(['vendor_id', 'pickup_datetime', 'dropoff_datetime', 'passenger_count',\n",
      "       'trip_distance', 'pickup_longitude', 'pickup_latitude', 'rate_code',\n",
      "       'store_and_fwd_flag', 'dropoff_longitude', 'dropoff_latitude',\n",
      "       'payment_type', 'fare_amount', 'extra', 'mta_tax', 'tip_amount',\n",
      "       'tolls_amount', 'improvement_surcharge', 'total_amount'],\n",
      "      dtype='object')\n",
      "dropping column =  extra\n",
      "dropping column =  improvement_surcharge\n",
      "columns =  Index(['vendor_id', 'pickup_datetime', 'dropoff_datetime', 'passenger_count',\n",
      "       'trip_distance', 'pickup_longitude', 'pickup_latitude', 'rate_code',\n",
      "       'store_and_fwd_flag', 'dropoff_longitude', 'dropoff_latitude',\n",
      "       'payment_type', 'fare_amount', 'extra', 'mta_tax', 'tip_amount',\n",
      "       'tolls_amount', 'improvement_surcharge', 'total_amount'],\n",
      "      dtype='object')\n",
      "dropping column =  extra\n",
      "dropping column =  improvement_surcharge\n",
      "columns =  Index(['vendor_id', 'pickup_datetime', 'dropoff_datetime', 'passenger_count',\n",
      "       'trip_distance', 'pickup_longitude', 'pickup_latitude', 'rate_code',\n",
      "       'store_and_fwd_flag', 'dropoff_longitude', 'dropoff_latitude',\n",
      "       'payment_type', 'fare_amount', 'extra', 'mta_tax', 'tip_amount',\n",
      "       'tolls_amount', 'improvement_surcharge', 'total_amount'],\n",
      "      dtype='object')\n",
      "dropping column =  extra\n",
      "dropping column =  improvement_surcharge\n",
      "columns =  Index(['vendor_id', 'pickup_datetime', 'dropoff_datetime', 'passenger_count',\n",
      "       'trip_distance', 'pickup_longitude', 'pickup_latitude', 'rate_code',\n",
      "       'store_and_fwd_flag', 'dropoff_longitude', 'dropoff_latitude',\n",
      "       'payment_type', 'fare_amount', 'extra', 'mta_tax', 'tip_amount',\n",
      "       'tolls_amount', 'improvement_surcharge', 'total_amount'],\n",
      "      dtype='object')\n",
      "dropping column =  extra\n",
      "dropping column =  improvement_surcharge\n",
      "columns =  Index(['vendor_id', 'pickup_datetime', 'dropoff_datetime', 'passenger_count',\n",
      "       'trip_distance', 'pickup_longitude', 'pickup_latitude', 'rate_code',\n",
      "       'store_and_fwd_flag', 'dropoff_longitude', 'dropoff_latitude',\n",
      "       'payment_type', 'fare_amount', 'extra', 'mta_tax', 'tip_amount',\n",
      "       'tolls_amount', 'improvement_surcharge', 'total_amount'],\n",
      "      dtype='object')\n",
      "dropping column =  extra\n",
      "dropping column =  improvement_surcharge\n",
      "columns =  Index(['vendor_id', 'pickup_datetime', 'dropoff_datetime', 'passenger_count',\n",
      "       'trip_distance', 'pickup_longitude', 'pickup_latitude', 'rate_code',\n",
      "       'store_and_fwd_flag', 'dropoff_longitude', 'dropoff_latitude',\n",
      "       'payment_type', 'fare_amount', 'extra', 'mta_tax', 'tip_amount',\n",
      "       'tolls_amount', 'improvement_surcharge', 'total_amount'],\n",
      "      dtype='object')\n",
      "dropping column =  extra\n",
      "dropping column =  improvement_surcharge\n"
     ]
    }
   ],
   "source": [
    "df_2015 = modin_omni_pd.concat([\n",
    "    clean(modin_omni_pd.read_csv(x, parse_dates=['tpep_pickup_datetime', 'tpep_dropoff_datetime']))\n",
    "    for x in glob.glob(base_path + '2015/yellow_*.csv')], ignore_index=True)"
   ],
   "metadata": {
    "collapsed": false,
    "pycharm": {
     "name": "#%%\n"
    }
   }
  },
  {
   "cell_type": "code",
   "execution_count": 14,
   "outputs": [
    {
     "data": {
      "text/plain": "(146112989, 17)"
     },
     "execution_count": 14,
     "metadata": {},
     "output_type": "execute_result"
    }
   ],
   "source": [
    "df_2015.shape"
   ],
   "metadata": {
    "collapsed": false,
    "pycharm": {
     "name": "#%%\n"
    }
   }
  },
  {
   "cell_type": "markdown",
   "source": [
    "# Handling 2016's Mid-Year Schema Change"
   ],
   "metadata": {
    "collapsed": false
   }
  },
  {
   "cell_type": "markdown",
   "source": [
    "In 2016, only January - June CSVs have the columns we need. If we try to read base_path+2016/yellow_*.csv, Dask will not appreciate having differing schemas in the same DataFrame.\n",
    "\n",
    "Instead, we'll need to create a list of the valid months and read them independently."
   ],
   "metadata": {
    "collapsed": false
   }
  },
  {
   "cell_type": "code",
   "execution_count": 15,
   "outputs": [],
   "source": [
    "months = [str(x).rjust(2, '0') for x in range(1, 7)]\n",
    "valid_files = [base_path+'2016/yellow_tripdata_2016-'+month+'.csv' for month in months]"
   ],
   "metadata": {
    "collapsed": false,
    "pycharm": {
     "name": "#%%\n"
    }
   }
  },
  {
   "cell_type": "code",
   "execution_count": 16,
   "outputs": [
    {
     "name": "stdout",
     "output_type": "stream",
     "text": [
      "columns =  Index(['vendor_id', 'pickup_datetime', 'dropoff_datetime', 'passenger_count',\n",
      "       'trip_distance', 'pickup_longitude', 'pickup_latitude', 'rate_code',\n",
      "       'store_and_fwd_flag', 'dropoff_longitude', 'dropoff_latitude',\n",
      "       'payment_type', 'fare_amount', 'extra', 'mta_tax', 'tip_amount',\n",
      "       'tolls_amount', 'improvement_surcharge', 'total_amount'],\n",
      "      dtype='object')\n",
      "dropping column =  extra\n",
      "dropping column =  improvement_surcharge\n",
      "columns =  Index(['vendor_id', 'pickup_datetime', 'dropoff_datetime', 'passenger_count',\n",
      "       'trip_distance', 'pickup_longitude', 'pickup_latitude', 'rate_code',\n",
      "       'store_and_fwd_flag', 'dropoff_longitude', 'dropoff_latitude',\n",
      "       'payment_type', 'fare_amount', 'extra', 'mta_tax', 'tip_amount',\n",
      "       'tolls_amount', 'improvement_surcharge', 'total_amount'],\n",
      "      dtype='object')\n",
      "dropping column =  extra\n",
      "dropping column =  improvement_surcharge\n",
      "columns =  Index(['vendor_id', 'pickup_datetime', 'dropoff_datetime', 'passenger_count',\n",
      "       'trip_distance', 'pickup_longitude', 'pickup_latitude', 'rate_code',\n",
      "       'store_and_fwd_flag', 'dropoff_longitude', 'dropoff_latitude',\n",
      "       'payment_type', 'fare_amount', 'extra', 'mta_tax', 'tip_amount',\n",
      "       'tolls_amount', 'improvement_surcharge', 'total_amount'],\n",
      "      dtype='object')\n",
      "dropping column =  extra\n",
      "dropping column =  improvement_surcharge\n",
      "columns =  Index(['vendor_id', 'pickup_datetime', 'dropoff_datetime', 'passenger_count',\n",
      "       'trip_distance', 'pickup_longitude', 'pickup_latitude', 'rate_code',\n",
      "       'store_and_fwd_flag', 'dropoff_longitude', 'dropoff_latitude',\n",
      "       'payment_type', 'fare_amount', 'extra', 'mta_tax', 'tip_amount',\n",
      "       'tolls_amount', 'improvement_surcharge', 'total_amount'],\n",
      "      dtype='object')\n",
      "dropping column =  extra\n",
      "dropping column =  improvement_surcharge\n",
      "columns =  Index(['vendor_id', 'pickup_datetime', 'dropoff_datetime', 'passenger_count',\n",
      "       'trip_distance', 'pickup_longitude', 'pickup_latitude', 'rate_code',\n",
      "       'store_and_fwd_flag', 'dropoff_longitude', 'dropoff_latitude',\n",
      "       'payment_type', 'fare_amount', 'extra', 'mta_tax', 'tip_amount',\n",
      "       'tolls_amount', 'improvement_surcharge', 'total_amount'],\n",
      "      dtype='object')\n",
      "dropping column =  extra\n",
      "dropping column =  improvement_surcharge\n",
      "columns =  Index(['vendor_id', 'pickup_datetime', 'dropoff_datetime', 'passenger_count',\n",
      "       'trip_distance', 'pickup_longitude', 'pickup_latitude', 'rate_code',\n",
      "       'store_and_fwd_flag', 'dropoff_longitude', 'dropoff_latitude',\n",
      "       'payment_type', 'fare_amount', 'extra', 'mta_tax', 'tip_amount',\n",
      "       'tolls_amount', 'improvement_surcharge', 'total_amount'],\n",
      "      dtype='object')\n",
      "dropping column =  extra\n",
      "dropping column =  improvement_surcharge\n"
     ]
    }
   ],
   "source": [
    "#read & clean 2016 data and concat all DFs\n",
    "df_2016 = modin_omni_pd.concat([\n",
    "    clean(modin_omni_pd.read_csv(x, parse_dates=['tpep_pickup_datetime', 'tpep_dropoff_datetime']))\n",
    "    for x in valid_files], ignore_index=True)"
   ],
   "metadata": {
    "collapsed": false,
    "pycharm": {
     "name": "#%%\n"
    }
   }
  },
  {
   "cell_type": "code",
   "execution_count": 17,
   "outputs": [],
   "source": [
    "#concatenate multiple DataFrames into one bigger one\n",
    "taxi_df = modin_omni_pd.concat([df_2014, df_2015, df_2016], ignore_index=True)"
   ],
   "metadata": {
    "collapsed": false,
    "pycharm": {
     "name": "#%%\n"
    }
   }
  },
  {
   "cell_type": "code",
   "execution_count": 18,
   "outputs": [],
   "source": [
    "def print_all(df):\n",
    "    def print_df(s, name):\n",
    "        print(name, \" = \\n\", s)\n",
    "        print(name, \"shape = \", s.shape)\n",
    "\n",
    "    dt = df.dtypes\n",
    "    print_df(dt, \"dtypes\")\n",
    "    mi = df.min()\n",
    "    print_df(mi, \"minimum\")\n",
    "    ma = df.max()\n",
    "    print_df(ma, \"maximum\")\n",
    "\n",
    "    result = modin_omni_pd.DataFrame({\"types\": dt, \"min\": mi, \"max\": ma})\n",
    "    result = result.reindex(dt.index)\n",
    "    print_df(result, \"result\")\n",
    "\n",
    "    for index, row in result.iterrows():\n",
    "        print(\"\\\"{0}\\\": (\\\"{1}\\\", {2}, {3}),\".format(index,\n",
    "            row[0],\n",
    "            np.int64(row[1]) if row[0].name == \"int64\" or row[0].name == \"int32\" else row[1],\n",
    "            np.int64(row[2]) if row[0].name == \"int64\" or row[0].name == \"int32\" else row[2]))"
   ],
   "metadata": {
    "collapsed": false,
    "pycharm": {
     "name": "#%%\n"
    }
   }
  },
  {
   "cell_type": "code",
   "execution_count": 19,
   "outputs": [
    {
     "name": "stdout",
     "output_type": "stream",
     "text": [
      "dtypes  = \n",
      " vendor_id                     object\n",
      "pickup_datetime       datetime64[ns]\n",
      "dropoff_datetime      datetime64[ns]\n",
      "passenger_count                int64\n",
      "trip_distance                float64\n",
      "pickup_longitude             float64\n",
      "pickup_latitude              float64\n",
      "rate_code                      int64\n",
      "store_and_fwd_flag            object\n",
      "dropoff_longitude            float64\n",
      "dropoff_latitude             float64\n",
      "payment_type                  object\n",
      "fare_amount                  float64\n",
      "mta_tax                      float64\n",
      "tip_amount                   float64\n",
      "tolls_amount                 float64\n",
      "total_amount                 float64\n",
      "dtype: object\n",
      "dtypes shape =  (17,)\n"
     ]
    },
    {
     "name": "stderr",
     "output_type": "stream",
     "text": [
      "/tmp/ipykernel_1498506/2900033905.py:8: FutureWarning: Dropping of nuisance columns in DataFrame reductions (with 'numeric_only=None') is deprecated; in a future version this will raise TypeError.  Select only valid columns before calling the reduction.\n",
      "  mi = df.min()\n"
     ]
    },
    {
     "name": "stdout",
     "output_type": "stream",
     "text": [
      "minimum  = \n",
      " pickup_datetime       2014-01-01 00:00:00\n",
      "dropoff_datetime      1900-01-01 00:00:00\n",
      "passenger_count                         0\n",
      "trip_distance                 -40840124.4\n",
      "pickup_longitude              -874.002625\n",
      "pickup_latitude                    -180.0\n",
      "rate_code                               0\n",
      "store_and_fwd_flag                     -1\n",
      "dropoff_longitude             -781.833313\n",
      "dropoff_latitude                   -180.0\n",
      "fare_amount                        -957.6\n",
      "mta_tax                              -3.0\n",
      "tip_amount                         -440.0\n",
      "tolls_amount                       -99.99\n",
      "total_amount                       -958.4\n",
      "dtype: object\n",
      "minimum shape =  (15,)\n",
      "maximum  = \n",
      " pickup_datetime       2016-06-30 23:59:59\n",
      "dropoff_datetime      2253-08-23 07:56:38\n",
      "passenger_count                       208\n",
      "trip_distance                 198623013.6\n",
      "pickup_longitude               172.600006\n",
      "pickup_latitude                405.016667\n",
      "rate_code                             221\n",
      "store_and_fwd_flag                      Y\n",
      "dropoff_longitude              172.600006\n",
      "dropoff_latitude               497.233332\n",
      "fare_amount                     825998.61\n",
      "mta_tax                              91.0\n",
      "tip_amount                      3950588.8\n",
      "tolls_amount                       1901.4\n",
      "total_amount                    3950611.6\n",
      "dtype: object\n",
      "maximum shape =  (15,)\n",
      "result  = \n",
      "                              types                  min                  max\n",
      "vendor_id                   object                  NaN                  NaN\n",
      "pickup_datetime     datetime64[ns]  2014-01-01 00:00:00  2016-06-30 23:59:59\n",
      "dropoff_datetime    datetime64[ns]  1900-01-01 00:00:00  2253-08-23 07:56:38\n",
      "passenger_count              int64                    0                  208\n",
      "trip_distance              float64          -40840124.4          198623013.6\n",
      "pickup_longitude           float64          -874.002625           172.600006\n",
      "pickup_latitude            float64               -180.0           405.016667\n",
      "rate_code                    int64                    0                  221\n",
      "store_and_fwd_flag          object                   -1                    Y\n",
      "dropoff_longitude          float64          -781.833313           172.600006\n",
      "dropoff_latitude           float64               -180.0           497.233332\n",
      "payment_type                object                  NaN                  NaN\n",
      "fare_amount                float64               -957.6            825998.61\n",
      "mta_tax                    float64                 -3.0                 91.0\n",
      "tip_amount                 float64               -440.0            3950588.8\n",
      "tolls_amount               float64               -99.99               1901.4\n",
      "total_amount               float64               -958.4            3950611.6\n",
      "result shape =  (17, 3)\n",
      "\"vendor_id\": (\"object\", nan, nan),\n",
      "\"pickup_datetime\": (\"datetime64[ns]\", 2014-01-01 00:00:00, 2016-06-30 23:59:59),\n",
      "\"dropoff_datetime\": (\"datetime64[ns]\", 1900-01-01 00:00:00, 2253-08-23 07:56:38),\n",
      "\"passenger_count\": (\"int64\", 0, 208),\n",
      "\"trip_distance\": (\"float64\", -40840124.4, 198623013.6),\n",
      "\"pickup_longitude\": (\"float64\", -874.0026245117188, 172.60000610351562),\n",
      "\"pickup_latitude\": (\"float64\", -180.0, 405.016667),\n",
      "\"rate_code\": (\"int64\", 0, 221),\n",
      "\"store_and_fwd_flag\": (\"object\", -1, Y),\n",
      "\"dropoff_longitude\": (\"float64\", -781.8333129882812, 172.60000610351562),\n",
      "\"dropoff_latitude\": (\"float64\", -180.0, 497.233332),\n",
      "\"payment_type\": (\"object\", nan, nan),\n",
      "\"fare_amount\": (\"float64\", -957.6, 825998.61),\n",
      "\"mta_tax\": (\"float64\", -3.0, 91.0),\n",
      "\"tip_amount\": (\"float64\", -440.0, 3950588.8),\n",
      "\"tolls_amount\": (\"float64\", -99.99, 1901.4),\n",
      "\"total_amount\": (\"float64\", -958.4, 3950611.6),\n"
     ]
    },
    {
     "name": "stderr",
     "output_type": "stream",
     "text": [
      "/tmp/ipykernel_1498506/2900033905.py:10: FutureWarning: Dropping of nuisance columns in DataFrame reductions (with 'numeric_only=None') is deprecated; in a future version this will raise TypeError.  Select only valid columns before calling the reduction.\n",
      "  ma = df.max()\n"
     ]
    }
   ],
   "source": [
    "print_all(taxi_df)"
   ],
   "metadata": {
    "collapsed": false,
    "pycharm": {
     "name": "#%%\n"
    }
   }
  }
 ],
 "metadata": {
  "kernelspec": {
   "display_name": "Python 3",
   "language": "python",
   "name": "python3"
  },
  "language_info": {
   "codemirror_mode": {
    "name": "ipython",
    "version": 2
   },
   "file_extension": ".py",
   "mimetype": "text/x-python",
   "name": "python",
   "nbconvert_exporter": "python",
   "pygments_lexer": "ipython2",
   "version": "2.7.6"
  }
 },
 "nbformat": 4,
 "nbformat_minor": 0
}