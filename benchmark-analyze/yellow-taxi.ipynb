{
 "cells": [
  {
   "cell_type": "markdown",
   "source": [
    "# Predicting NYC Taxi Fares with Intel Optimizations on Full Dataset"
   ],
   "metadata": {
    "collapsed": false
   }
  },
  {
   "cell_type": "markdown",
   "source": [
    "This is a notebook originally written for Rapids but converted to use Modin on Omnisci."
   ],
   "metadata": {
    "collapsed": false
   }
  },
  {
   "cell_type": "code",
   "execution_count": 1,
   "outputs": [],
   "source": [
    "%matplotlib inline\n",
    "import glob\n",
    "#import matplotlib.pyplot as plt\n",
    "#import socket, time\n",
    "import modin.pandas as modin_omni_pd\n",
    "#import xgboost as xgb\n",
    "\n",
    "#To install Holoviews and hvplot\n",
    "#conda install -c conda-forge holoviews\n",
    "#conda install -c pyviz hvplot\n",
    "#import holoviews as hv\n",
    "#from holoviews import opts\n",
    "#import numpy as np\n",
    "#import hvplot.pandas\n",
    "#import hvplot.dask"
   ],
   "metadata": {
    "collapsed": false,
    "pycharm": {
     "name": "#%%\n"
    }
   }
  },
  {
   "cell_type": "markdown",
   "source": [
    "# Inspecting the Data\n",
    "\n",
    "We'll use Modin on Omnisci to load and parse all CSV files into a DataFrame. It makes it 30 files overall."
   ],
   "metadata": {
    "collapsed": false
   }
  },
  {
   "cell_type": "markdown",
   "source": [
    "# Data Cleanup\n",
    "\n",
    "As usual, the data needs to be massaged a bit before we can start adding features that are useful to an ML model.\n",
    "\n",
    "For example, in the 2014 taxi CSV files, there are `pickup_datetime` and `dropoff_datetime` columns. The 2015 CSVs have `tpep_pickup_datetime` and `tpep_dropoff_datetime`, which are the same columns. One year has `rate_code`, and another `RateCodeID`.\n",
    "\n",
    "Also, some CSV files have column names with extraneous spaces in them.\n",
    "\n",
    "Worst of all, starting in the July 2016 CSVs, pickup & dropoff latitude and longitude data were replaced by location IDs, making the second half of the year useless to us.\n",
    "\n",
    "We'll do a little string manipulation, column renaming, and concatenating of DataFrames to sidestep the problems."
   ],
   "metadata": {
    "collapsed": false
   }
  },
  {
   "cell_type": "code",
   "execution_count": 2,
   "outputs": [],
   "source": [
    "#Dictionary of required columns and their datatypes\n",
    "drop_columns = [\n",
    "    \"surcharge\", \"extra\", \"improvement_surcharge\"\n",
    "]"
   ],
   "metadata": {
    "collapsed": false,
    "pycharm": {
     "name": "#%%\n"
    }
   }
  },
  {
   "cell_type": "code",
   "execution_count": 3,
   "outputs": [],
   "source": [
    "def clean(ddf):\n",
    "    # replace the extraneous spaces in column names and lower the font type\n",
    "    tmp = {col:col.strip().lower() for col in list(ddf.columns)}\n",
    "    ddf = ddf.rename(columns=tmp)\n",
    "\n",
    "    ddf = ddf.rename(columns={\n",
    "        'tpep_pickup_datetime': 'pickup_datetime',\n",
    "        'tpep_dropoff_datetime': 'dropoff_datetime',\n",
    "        'ratecodeid': 'rate_code',\n",
    "        'vendorid': 'vendor_id'\n",
    "    })\n",
    "\n",
    "    print(\"columns = \", ddf.columns)\n",
    "    for col in ddf.columns:\n",
    "        if col in drop_columns:\n",
    "            print(\"dropping column = \", col)\n",
    "            ddf = ddf.drop(columns=col)\n",
    "            continue\n",
    "        if ddf[col].dtype == 'object':\n",
    "            ddf[col] = ddf[col].fillna('-1')\n",
    "\n",
    "    return ddf"
   ],
   "metadata": {
    "collapsed": false,
    "pycharm": {
     "name": "#%%\n"
    }
   }
  },
  {
   "cell_type": "code",
   "execution_count": 4,
   "outputs": [
    {
     "name": "stderr",
     "output_type": "stream",
     "text": [
      "UserWarning: Ray execution environment not yet initialized. Initializing...\n",
      "To remove this warning, run the following python code before doing dataframe operations:\n",
      "\n",
      "    import ray\n",
      "    ray.init()\n",
      "\n",
      "UserWarning: The size of /dev/shm is too small (76586057728 bytes). The required size at least half of RAM (100693241856 bytes). Please, delete files in /dev/shm or increase size of /dev/shm with --shm-size in Docker. Also, you can set the required memory size for each Ray worker in bytes to MODIN_MEMORY environment variable.\n",
      "UserWarning: Not all Ray Dashboard dependencies were found. To use the dashboard please install Ray using `pip install ray[default]`. To disable this message, set RAY_DISABLE_IMPORT_WARNING env var to '1'.\n",
      "UserWarning: `read_*` implementation has mismatches with pandas:\n",
      "Data types of partitions are different! Please refer to the troubleshooting section of the Modin documentation to fix this issue.\n"
     ]
    },
    {
     "name": "stdout",
     "output_type": "stream",
     "text": [
      "columns =  Index(['vendor_id', 'pickup_datetime', 'dropoff_datetime', 'passenger_count',\n",
      "       'trip_distance', 'pickup_longitude', 'pickup_latitude', 'rate_code',\n",
      "       'store_and_fwd_flag', 'dropoff_longitude', 'dropoff_latitude',\n",
      "       'payment_type', 'fare_amount', 'surcharge', 'mta_tax', 'tip_amount',\n",
      "       'tolls_amount', 'total_amount'],\n",
      "      dtype='object')\n",
      "dropping column =  surcharge\n",
      "columns =  Index(['vendor_id', 'pickup_datetime', 'dropoff_datetime', 'passenger_count',\n",
      "       'trip_distance', 'pickup_longitude', 'pickup_latitude', 'rate_code',\n",
      "       'store_and_fwd_flag', 'dropoff_longitude', 'dropoff_latitude',\n",
      "       'payment_type', 'fare_amount', 'surcharge', 'mta_tax', 'tip_amount',\n",
      "       'tolls_amount', 'total_amount'],\n",
      "      dtype='object')\n",
      "dropping column =  surcharge\n",
      "columns =  Index(['vendor_id', 'pickup_datetime', 'dropoff_datetime', 'passenger_count',\n",
      "       'trip_distance', 'pickup_longitude', 'pickup_latitude', 'rate_code',\n",
      "       'store_and_fwd_flag', 'dropoff_longitude', 'dropoff_latitude',\n",
      "       'payment_type', 'fare_amount', 'surcharge', 'mta_tax', 'tip_amount',\n",
      "       'tolls_amount', 'total_amount'],\n",
      "      dtype='object')\n",
      "dropping column =  surcharge\n",
      "columns =  Index(['vendor_id', 'pickup_datetime', 'dropoff_datetime', 'passenger_count',\n",
      "       'trip_distance', 'pickup_longitude', 'pickup_latitude', 'rate_code',\n",
      "       'store_and_fwd_flag', 'dropoff_longitude', 'dropoff_latitude',\n",
      "       'payment_type', 'fare_amount', 'surcharge', 'mta_tax', 'tip_amount',\n",
      "       'tolls_amount', 'total_amount'],\n",
      "      dtype='object')\n",
      "dropping column =  surcharge\n",
      "columns =  Index(['vendor_id', 'pickup_datetime', 'dropoff_datetime', 'passenger_count',\n",
      "       'trip_distance', 'pickup_longitude', 'pickup_latitude', 'rate_code',\n",
      "       'store_and_fwd_flag', 'dropoff_longitude', 'dropoff_latitude',\n",
      "       'payment_type', 'fare_amount', 'surcharge', 'mta_tax', 'tip_amount',\n",
      "       'tolls_amount', 'total_amount'],\n",
      "      dtype='object')\n",
      "dropping column =  surcharge\n",
      "columns =  Index(['vendor_id', 'pickup_datetime', 'dropoff_datetime', 'passenger_count',\n",
      "       'trip_distance', 'pickup_longitude', 'pickup_latitude', 'rate_code',\n",
      "       'store_and_fwd_flag', 'dropoff_longitude', 'dropoff_latitude',\n",
      "       'payment_type', 'fare_amount', 'surcharge', 'mta_tax', 'tip_amount',\n",
      "       'tolls_amount', 'total_amount'],\n",
      "      dtype='object')\n",
      "dropping column =  surcharge\n",
      "columns =  Index(['vendor_id', 'pickup_datetime', 'dropoff_datetime', 'passenger_count',\n",
      "       'trip_distance', 'pickup_longitude', 'pickup_latitude', 'rate_code',\n",
      "       'store_and_fwd_flag', 'dropoff_longitude', 'dropoff_latitude',\n",
      "       'payment_type', 'fare_amount', 'surcharge', 'mta_tax', 'tip_amount',\n",
      "       'tolls_amount', 'total_amount'],\n",
      "      dtype='object')\n",
      "dropping column =  surcharge\n",
      "columns =  Index(['vendor_id', 'pickup_datetime', 'dropoff_datetime', 'passenger_count',\n",
      "       'trip_distance', 'pickup_longitude', 'pickup_latitude', 'rate_code',\n",
      "       'store_and_fwd_flag', 'dropoff_longitude', 'dropoff_latitude',\n",
      "       'payment_type', 'fare_amount', 'surcharge', 'mta_tax', 'tip_amount',\n",
      "       'tolls_amount', 'total_amount'],\n",
      "      dtype='object')\n",
      "dropping column =  surcharge\n",
      "columns =  Index(['vendor_id', 'pickup_datetime', 'dropoff_datetime', 'passenger_count',\n",
      "       'trip_distance', 'pickup_longitude', 'pickup_latitude', 'rate_code',\n",
      "       'store_and_fwd_flag', 'dropoff_longitude', 'dropoff_latitude',\n",
      "       'payment_type', 'fare_amount', 'surcharge', 'mta_tax', 'tip_amount',\n",
      "       'tolls_amount', 'total_amount'],\n",
      "      dtype='object')\n",
      "dropping column =  surcharge\n",
      "columns =  Index(['vendor_id', 'pickup_datetime', 'dropoff_datetime', 'passenger_count',\n",
      "       'trip_distance', 'pickup_longitude', 'pickup_latitude', 'rate_code',\n",
      "       'store_and_fwd_flag', 'dropoff_longitude', 'dropoff_latitude',\n",
      "       'payment_type', 'fare_amount', 'surcharge', 'mta_tax', 'tip_amount',\n",
      "       'tolls_amount', 'total_amount'],\n",
      "      dtype='object')\n",
      "dropping column =  surcharge\n",
      "columns =  Index(['vendor_id', 'pickup_datetime', 'dropoff_datetime', 'passenger_count',\n",
      "       'trip_distance', 'pickup_longitude', 'pickup_latitude', 'rate_code',\n",
      "       'store_and_fwd_flag', 'dropoff_longitude', 'dropoff_latitude',\n",
      "       'payment_type', 'fare_amount', 'surcharge', 'mta_tax', 'tip_amount',\n",
      "       'tolls_amount', 'total_amount'],\n",
      "      dtype='object')\n",
      "dropping column =  surcharge\n",
      "columns =  Index(['vendor_id', 'pickup_datetime', 'dropoff_datetime', 'passenger_count',\n",
      "       'trip_distance', 'pickup_longitude', 'pickup_latitude', 'rate_code',\n",
      "       'store_and_fwd_flag', 'dropoff_longitude', 'dropoff_latitude',\n",
      "       'payment_type', 'fare_amount', 'surcharge', 'mta_tax', 'tip_amount',\n",
      "       'tolls_amount', 'total_amount'],\n",
      "      dtype='object')\n",
      "dropping column =  surcharge\n"
     ]
    }
   ],
   "source": [
    "base_path = '/localdisk/gregory/benchmark-datasets/yellow-taxi/'\n",
    "\n",
    "df_2014 = modin_omni_pd.concat([\n",
    "    clean(modin_omni_pd.read_csv(x, parse_dates=[' pickup_datetime', ' dropoff_datetime']))\n",
    "    for x in glob.glob(base_path+'2014/yellow_*.csv')], ignore_index=True)"
   ],
   "metadata": {
    "collapsed": false,
    "pycharm": {
     "name": "#%%\n"
    }
   }
  },
  {
   "cell_type": "code",
   "execution_count": 5,
   "outputs": [
    {
     "data": {
      "text/plain": "vendor_id                     object\npickup_datetime       datetime64[ns]\ndropoff_datetime      datetime64[ns]\npassenger_count                int64\ntrip_distance                float64\npickup_longitude             float64\npickup_latitude              float64\nrate_code                      int64\nstore_and_fwd_flag            object\ndropoff_longitude            float64\ndropoff_latitude             float64\npayment_type                  object\nfare_amount                  float64\nmta_tax                      float64\ntip_amount                   float64\ntolls_amount                 float64\ntotal_amount                 float64\ndtype: object"
     },
     "execution_count": 5,
     "metadata": {},
     "output_type": "execute_result"
    }
   ],
   "source": [
    "df_2014.dtypes"
   ],
   "metadata": {
    "collapsed": false,
    "pycharm": {
     "name": "#%%\n"
    }
   }
  },
  {
   "cell_type": "markdown",
   "source": [
    "<b> NOTE: </b>We will realize that some of 2015 data has column name as `RateCodeID` and others have `RatecodeID`. When we rename the columns in the clean function, it internally doesn't pass meta while calling map_partitions(). This leads to the error of column name mismatch in the returned data. For this reason, we will call the clean function with map_partition and pass the meta to it. Here is the link to the bug created for that: https://github.com/rapidsai/cudf/issues/5413"
   ],
   "metadata": {
    "collapsed": false
   }
  },
  {
   "cell_type": "code",
   "execution_count": 6,
   "outputs": [
    {
     "data": {
      "text/plain": "(165114361, 17)"
     },
     "execution_count": 6,
     "metadata": {},
     "output_type": "execute_result"
    }
   ],
   "source": [
    "df_2014.shape"
   ],
   "metadata": {
    "collapsed": false,
    "pycharm": {
     "name": "#%%\n"
    }
   }
  },
  {
   "cell_type": "markdown",
   "source": [
    "We still have 2015 and the first half of 2016's data to read and clean. Let's increase our dataset."
   ],
   "metadata": {
    "collapsed": false
   }
  },
  {
   "cell_type": "code",
   "execution_count": 7,
   "outputs": [
    {
     "name": "stdout",
     "output_type": "stream",
     "text": [
      "columns =  Index(['vendor_id', 'pickup_datetime', 'dropoff_datetime', 'passenger_count',\n",
      "       'trip_distance', 'pickup_longitude', 'pickup_latitude', 'rate_code',\n",
      "       'store_and_fwd_flag', 'dropoff_longitude', 'dropoff_latitude',\n",
      "       'payment_type', 'fare_amount', 'extra', 'mta_tax', 'tip_amount',\n",
      "       'tolls_amount', 'improvement_surcharge', 'total_amount'],\n",
      "      dtype='object')\n",
      "dropping column =  extra\n",
      "dropping column =  improvement_surcharge\n",
      "columns =  Index(['vendor_id', 'pickup_datetime', 'dropoff_datetime', 'passenger_count',\n",
      "       'trip_distance', 'pickup_longitude', 'pickup_latitude', 'rate_code',\n",
      "       'store_and_fwd_flag', 'dropoff_longitude', 'dropoff_latitude',\n",
      "       'payment_type', 'fare_amount', 'extra', 'mta_tax', 'tip_amount',\n",
      "       'tolls_amount', 'improvement_surcharge', 'total_amount'],\n",
      "      dtype='object')\n",
      "dropping column =  extra\n",
      "dropping column =  improvement_surcharge\n",
      "columns =  Index(['vendor_id', 'pickup_datetime', 'dropoff_datetime', 'passenger_count',\n",
      "       'trip_distance', 'pickup_longitude', 'pickup_latitude', 'rate_code',\n",
      "       'store_and_fwd_flag', 'dropoff_longitude', 'dropoff_latitude',\n",
      "       'payment_type', 'fare_amount', 'extra', 'mta_tax', 'tip_amount',\n",
      "       'tolls_amount', 'improvement_surcharge', 'total_amount'],\n",
      "      dtype='object')\n",
      "dropping column =  extra\n",
      "dropping column =  improvement_surcharge\n",
      "columns =  Index(['vendor_id', 'pickup_datetime', 'dropoff_datetime', 'passenger_count',\n",
      "       'trip_distance', 'pickup_longitude', 'pickup_latitude', 'rate_code',\n",
      "       'store_and_fwd_flag', 'dropoff_longitude', 'dropoff_latitude',\n",
      "       'payment_type', 'fare_amount', 'extra', 'mta_tax', 'tip_amount',\n",
      "       'tolls_amount', 'improvement_surcharge', 'total_amount'],\n",
      "      dtype='object')\n",
      "dropping column =  extra\n",
      "dropping column =  improvement_surcharge\n",
      "columns =  Index(['vendor_id', 'pickup_datetime', 'dropoff_datetime', 'passenger_count',\n",
      "       'trip_distance', 'pickup_longitude', 'pickup_latitude', 'rate_code',\n",
      "       'store_and_fwd_flag', 'dropoff_longitude', 'dropoff_latitude',\n",
      "       'payment_type', 'fare_amount', 'extra', 'mta_tax', 'tip_amount',\n",
      "       'tolls_amount', 'improvement_surcharge', 'total_amount'],\n",
      "      dtype='object')\n",
      "dropping column =  extra\n",
      "dropping column =  improvement_surcharge\n",
      "columns =  Index(['vendor_id', 'pickup_datetime', 'dropoff_datetime', 'passenger_count',\n",
      "       'trip_distance', 'pickup_longitude', 'pickup_latitude', 'rate_code',\n",
      "       'store_and_fwd_flag', 'dropoff_longitude', 'dropoff_latitude',\n",
      "       'payment_type', 'fare_amount', 'extra', 'mta_tax', 'tip_amount',\n",
      "       'tolls_amount', 'improvement_surcharge', 'total_amount'],\n",
      "      dtype='object')\n",
      "dropping column =  extra\n",
      "dropping column =  improvement_surcharge\n",
      "columns =  Index(['vendor_id', 'pickup_datetime', 'dropoff_datetime', 'passenger_count',\n",
      "       'trip_distance', 'pickup_longitude', 'pickup_latitude', 'rate_code',\n",
      "       'store_and_fwd_flag', 'dropoff_longitude', 'dropoff_latitude',\n",
      "       'payment_type', 'fare_amount', 'extra', 'mta_tax', 'tip_amount',\n",
      "       'tolls_amount', 'improvement_surcharge', 'total_amount'],\n",
      "      dtype='object')\n",
      "dropping column =  extra\n",
      "dropping column =  improvement_surcharge\n",
      "columns =  Index(['vendor_id', 'pickup_datetime', 'dropoff_datetime', 'passenger_count',\n",
      "       'trip_distance', 'pickup_longitude', 'pickup_latitude', 'rate_code',\n",
      "       'store_and_fwd_flag', 'dropoff_longitude', 'dropoff_latitude',\n",
      "       'payment_type', 'fare_amount', 'extra', 'mta_tax', 'tip_amount',\n",
      "       'tolls_amount', 'improvement_surcharge', 'total_amount'],\n",
      "      dtype='object')\n",
      "dropping column =  extra\n",
      "dropping column =  improvement_surcharge\n",
      "columns =  Index(['vendor_id', 'pickup_datetime', 'dropoff_datetime', 'passenger_count',\n",
      "       'trip_distance', 'pickup_longitude', 'pickup_latitude', 'rate_code',\n",
      "       'store_and_fwd_flag', 'dropoff_longitude', 'dropoff_latitude',\n",
      "       'payment_type', 'fare_amount', 'extra', 'mta_tax', 'tip_amount',\n",
      "       'tolls_amount', 'improvement_surcharge', 'total_amount'],\n",
      "      dtype='object')\n",
      "dropping column =  extra\n",
      "dropping column =  improvement_surcharge\n",
      "columns =  Index(['vendor_id', 'pickup_datetime', 'dropoff_datetime', 'passenger_count',\n",
      "       'trip_distance', 'pickup_longitude', 'pickup_latitude', 'rate_code',\n",
      "       'store_and_fwd_flag', 'dropoff_longitude', 'dropoff_latitude',\n",
      "       'payment_type', 'fare_amount', 'extra', 'mta_tax', 'tip_amount',\n",
      "       'tolls_amount', 'improvement_surcharge', 'total_amount'],\n",
      "      dtype='object')\n",
      "dropping column =  extra\n",
      "dropping column =  improvement_surcharge\n",
      "columns =  Index(['vendor_id', 'pickup_datetime', 'dropoff_datetime', 'passenger_count',\n",
      "       'trip_distance', 'pickup_longitude', 'pickup_latitude', 'rate_code',\n",
      "       'store_and_fwd_flag', 'dropoff_longitude', 'dropoff_latitude',\n",
      "       'payment_type', 'fare_amount', 'extra', 'mta_tax', 'tip_amount',\n",
      "       'tolls_amount', 'improvement_surcharge', 'total_amount'],\n",
      "      dtype='object')\n",
      "dropping column =  extra\n",
      "dropping column =  improvement_surcharge\n",
      "columns =  Index(['vendor_id', 'pickup_datetime', 'dropoff_datetime', 'passenger_count',\n",
      "       'trip_distance', 'pickup_longitude', 'pickup_latitude', 'rate_code',\n",
      "       'store_and_fwd_flag', 'dropoff_longitude', 'dropoff_latitude',\n",
      "       'payment_type', 'fare_amount', 'extra', 'mta_tax', 'tip_amount',\n",
      "       'tolls_amount', 'improvement_surcharge', 'total_amount'],\n",
      "      dtype='object')\n",
      "dropping column =  extra\n",
      "dropping column =  improvement_surcharge\n"
     ]
    }
   ],
   "source": [
    "df_2015 = modin_omni_pd.concat([\n",
    "    clean(modin_omni_pd.read_csv(x, parse_dates=['tpep_pickup_datetime', 'tpep_dropoff_datetime']))\n",
    "    for x in glob.glob(base_path + '2015/yellow_*.csv')], ignore_index=True)"
   ],
   "metadata": {
    "collapsed": false,
    "pycharm": {
     "name": "#%%\n"
    }
   }
  },
  {
   "cell_type": "code",
   "execution_count": 8,
   "outputs": [
    {
     "data": {
      "text/plain": "(146112989, 17)"
     },
     "execution_count": 8,
     "metadata": {},
     "output_type": "execute_result"
    }
   ],
   "source": [
    "df_2015.shape"
   ],
   "metadata": {
    "collapsed": false,
    "pycharm": {
     "name": "#%%\n"
    }
   }
  },
  {
   "cell_type": "markdown",
   "source": [
    "# Handling 2016's Mid-Year Schema Change"
   ],
   "metadata": {
    "collapsed": false
   }
  },
  {
   "cell_type": "markdown",
   "source": [
    "In 2016, only January - June CSVs have the columns we need. If we try to read base_path+2016/yellow_*.csv, Dask will not appreciate having differing schemas in the same DataFrame.\n",
    "\n",
    "Instead, we'll need to create a list of the valid months and read them independently."
   ],
   "metadata": {
    "collapsed": false
   }
  },
  {
   "cell_type": "code",
   "execution_count": 9,
   "outputs": [],
   "source": [
    "months = [str(x).rjust(2, '0') for x in range(1, 7)]\n",
    "valid_files = [base_path+'2016/yellow_tripdata_2016-'+month+'.csv' for month in months]"
   ],
   "metadata": {
    "collapsed": false,
    "pycharm": {
     "name": "#%%\n"
    }
   }
  },
  {
   "cell_type": "code",
   "execution_count": 10,
   "outputs": [
    {
     "name": "stdout",
     "output_type": "stream",
     "text": [
      "columns =  Index(['vendor_id', 'pickup_datetime', 'dropoff_datetime', 'passenger_count',\n",
      "       'trip_distance', 'pickup_longitude', 'pickup_latitude', 'rate_code',\n",
      "       'store_and_fwd_flag', 'dropoff_longitude', 'dropoff_latitude',\n",
      "       'payment_type', 'fare_amount', 'extra', 'mta_tax', 'tip_amount',\n",
      "       'tolls_amount', 'improvement_surcharge', 'total_amount'],\n",
      "      dtype='object')\n",
      "dropping column =  extra\n",
      "dropping column =  improvement_surcharge\n",
      "columns =  Index(['vendor_id', 'pickup_datetime', 'dropoff_datetime', 'passenger_count',\n",
      "       'trip_distance', 'pickup_longitude', 'pickup_latitude', 'rate_code',\n",
      "       'store_and_fwd_flag', 'dropoff_longitude', 'dropoff_latitude',\n",
      "       'payment_type', 'fare_amount', 'extra', 'mta_tax', 'tip_amount',\n",
      "       'tolls_amount', 'improvement_surcharge', 'total_amount'],\n",
      "      dtype='object')\n",
      "dropping column =  extra\n",
      "dropping column =  improvement_surcharge\n",
      "columns =  Index(['vendor_id', 'pickup_datetime', 'dropoff_datetime', 'passenger_count',\n",
      "       'trip_distance', 'pickup_longitude', 'pickup_latitude', 'rate_code',\n",
      "       'store_and_fwd_flag', 'dropoff_longitude', 'dropoff_latitude',\n",
      "       'payment_type', 'fare_amount', 'extra', 'mta_tax', 'tip_amount',\n",
      "       'tolls_amount', 'improvement_surcharge', 'total_amount'],\n",
      "      dtype='object')\n",
      "dropping column =  extra\n",
      "dropping column =  improvement_surcharge\n",
      "columns =  Index(['vendor_id', 'pickup_datetime', 'dropoff_datetime', 'passenger_count',\n",
      "       'trip_distance', 'pickup_longitude', 'pickup_latitude', 'rate_code',\n",
      "       'store_and_fwd_flag', 'dropoff_longitude', 'dropoff_latitude',\n",
      "       'payment_type', 'fare_amount', 'extra', 'mta_tax', 'tip_amount',\n",
      "       'tolls_amount', 'improvement_surcharge', 'total_amount'],\n",
      "      dtype='object')\n",
      "dropping column =  extra\n",
      "dropping column =  improvement_surcharge\n",
      "columns =  Index(['vendor_id', 'pickup_datetime', 'dropoff_datetime', 'passenger_count',\n",
      "       'trip_distance', 'pickup_longitude', 'pickup_latitude', 'rate_code',\n",
      "       'store_and_fwd_flag', 'dropoff_longitude', 'dropoff_latitude',\n",
      "       'payment_type', 'fare_amount', 'extra', 'mta_tax', 'tip_amount',\n",
      "       'tolls_amount', 'improvement_surcharge', 'total_amount'],\n",
      "      dtype='object')\n",
      "dropping column =  extra\n",
      "dropping column =  improvement_surcharge\n",
      "columns =  Index(['vendor_id', 'pickup_datetime', 'dropoff_datetime', 'passenger_count',\n",
      "       'trip_distance', 'pickup_longitude', 'pickup_latitude', 'rate_code',\n",
      "       'store_and_fwd_flag', 'dropoff_longitude', 'dropoff_latitude',\n",
      "       'payment_type', 'fare_amount', 'extra', 'mta_tax', 'tip_amount',\n",
      "       'tolls_amount', 'improvement_surcharge', 'total_amount'],\n",
      "      dtype='object')\n",
      "dropping column =  extra\n",
      "dropping column =  improvement_surcharge\n"
     ]
    }
   ],
   "source": [
    "#read & clean 2016 data and concat all DFs\n",
    "df_2016 = modin_omni_pd.concat([\n",
    "    clean(modin_omni_pd.read_csv(x, parse_dates=['tpep_pickup_datetime', 'tpep_dropoff_datetime']))\n",
    "    for x in valid_files], ignore_index=True)"
   ],
   "metadata": {
    "collapsed": false,
    "pycharm": {
     "name": "#%%\n"
    }
   }
  },
  {
   "cell_type": "code",
   "execution_count": 11,
   "outputs": [],
   "source": [
    "#concatenate multiple DataFrames into one bigger one\n",
    "taxi_df = modin_omni_pd.concat([df_2014, df_2015, df_2016], ignore_index=True)"
   ],
   "metadata": {
    "collapsed": false,
    "pycharm": {
     "name": "#%%\n"
    }
   }
  },
  {
   "cell_type": "code",
   "execution_count": 12,
   "outputs": [
    {
     "data": {
      "text/plain": "vendor_id                     object\npickup_datetime       datetime64[ns]\ndropoff_datetime      datetime64[ns]\npassenger_count                int64\ntrip_distance                float64\npickup_longitude             float64\npickup_latitude              float64\nrate_code                      int64\nstore_and_fwd_flag            object\ndropoff_longitude            float64\ndropoff_latitude             float64\npayment_type                  object\nfare_amount                  float64\nmta_tax                      float64\ntip_amount                   float64\ntolls_amount                 float64\ntotal_amount                 float64\ndtype: object"
     },
     "execution_count": 12,
     "metadata": {},
     "output_type": "execute_result"
    }
   ],
   "source": [
    "# taxi_df = taxi_df.persist()\n",
    "taxi_df.dtypes"
   ],
   "metadata": {
    "collapsed": false,
    "pycharm": {
     "name": "#%%\n"
    }
   }
  },
  {
   "cell_type": "code",
   "execution_count": 13,
   "outputs": [
    {
     "data": {
      "text/plain": "(380633870, 17)"
     },
     "execution_count": 13,
     "metadata": {},
     "output_type": "execute_result"
    }
   ],
   "source": [
    "taxi_df.shape"
   ],
   "metadata": {
    "collapsed": false,
    "pycharm": {
     "name": "#%%\n"
    }
   }
  },
  {
   "cell_type": "code",
   "execution_count": 14,
   "outputs": [
    {
     "data": {
      "text/plain": "passenger_count      0.000000e+00\ntrip_distance       -4.084012e+07\npickup_longitude    -8.740026e+02\npickup_latitude     -1.800000e+02\nrate_code            0.000000e+00\ndropoff_longitude   -7.818333e+02\ndropoff_latitude    -1.800000e+02\nfare_amount         -9.576000e+02\nmta_tax             -3.000000e+00\ntip_amount          -4.400000e+02\ntolls_amount        -9.999000e+01\ntotal_amount        -9.584000e+02\ndtype: float64"
     },
     "execution_count": 14,
     "metadata": {},
     "output_type": "execute_result"
    }
   ],
   "source": [
    "taxi_df.min()"
   ],
   "metadata": {
    "collapsed": false,
    "pycharm": {
     "name": "#%%\n"
    }
   }
  },
  {
   "cell_type": "code",
   "execution_count": 15,
   "outputs": [
    {
     "data": {
      "text/plain": "passenger_count      2.080000e+02\ntrip_distance        1.986230e+08\npickup_longitude     1.726000e+02\npickup_latitude      4.050167e+02\nrate_code            2.210000e+02\ndropoff_longitude    1.726000e+02\ndropoff_latitude     4.972333e+02\nfare_amount          8.259986e+05\nmta_tax              9.100000e+01\ntip_amount           3.950589e+06\ntolls_amount         1.901400e+03\ntotal_amount         3.950612e+06\ndtype: float64"
     },
     "execution_count": 15,
     "metadata": {},
     "output_type": "execute_result"
    }
   ],
   "source": [
    "taxi_df.max()"
   ],
   "metadata": {
    "collapsed": false,
    "pycharm": {
     "name": "#%%\n"
    }
   }
  }
 ],
 "metadata": {
  "kernelspec": {
   "display_name": "Python 3",
   "language": "python",
   "name": "python3"
  },
  "language_info": {
   "codemirror_mode": {
    "name": "ipython",
    "version": 2
   },
   "file_extension": ".py",
   "mimetype": "text/x-python",
   "name": "python",
   "nbconvert_exporter": "python",
   "pygments_lexer": "ipython2",
   "version": "2.7.6"
  }
 },
 "nbformat": 4,
 "nbformat_minor": 0
}