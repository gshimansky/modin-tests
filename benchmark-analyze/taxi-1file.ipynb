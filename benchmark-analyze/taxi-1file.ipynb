{
 "cells": [
  {
   "cell_type": "code",
   "execution_count": 1,
   "metadata": {
    "collapsed": true
   },
   "outputs": [
    {
     "name": "stderr",
     "output_type": "stream",
     "text": [
      "UserWarning: Ray execution environment not yet initialized. Initializing...\n",
      "To remove this warning, run the following python code before doing dataframe operations:\n",
      "\n",
      "    import ray\n",
      "    ray.init()\n",
      "\n",
      "UserWarning: Not all Ray Dashboard dependencies were found. To use the dashboard please install Ray using `pip install ray[default]`. To disable this message, set RAY_DISABLE_IMPORT_WARNING env var to '1'.\n",
      "UserWarning: `read_*` implementation has mismatches with pandas:\n",
      "Data types of partitions are different! Please refer to the troubleshooting section of the Modin documentation to fix this issue.\n"
     ]
    },
    {
     "data": {
      "text/plain": "           trip_id  vendor_id     pickup_datetime    dropoff_datetime  \\\n0                1          2 2013-08-01 08:14:37 2013-08-01 09:09:06   \n1                2          2 2013-08-01 09:13:00 2013-08-01 11:38:00   \n2                3          2 2013-08-01 09:48:00 2013-08-01 09:49:00   \n3                4          2 2013-08-01 10:38:35 2013-08-01 10:38:51   \n4                5          2 2013-08-01 11:51:45 2013-08-01 12:03:52   \n...            ...        ...                 ...                 ...   \n19999995  19999981          2 2015-02-27 23:10:11 2015-02-27 23:14:10   \n19999996  19999982          2 2015-02-04 08:59:16 2015-02-04 09:40:31   \n19999997  19999983          2 2015-02-07 11:40:32 2015-02-07 11:53:40   \n19999998  19999984          2 2015-02-22 13:21:24 2015-02-22 13:24:23   \n19999999  19999985          2 2015-02-24 22:35:39 2015-02-24 22:52:52   \n\n         store_and_fwd_flag  rate_code_id  pickup_longitude  pickup_latitude  \\\n0                         N             1               NaN              NaN   \n1                         N             1               NaN              NaN   \n2                         N             5               NaN              NaN   \n3                         N             1               NaN              NaN   \n4                         N             1               NaN              NaN   \n...                     ...           ...               ...              ...   \n19999995                  N             1        -73.978447        40.662716   \n19999996                  N             1        -73.978111        40.663132   \n19999997                  N             1        -73.981270        40.663254   \n19999998                  N             1        -73.982063        40.662254   \n19999999                  N             1        -73.982063        40.662327   \n\n          dropoff_longitude  dropoff_latitude  ...  dropoff_nyct2010_gid  \\\n0                       NaN               NaN  ...                   NaN   \n1                       NaN               NaN  ...                   NaN   \n2                       NaN               NaN  ...                   NaN   \n3                       NaN               NaN  ...                   NaN   \n4                       NaN               NaN  ...                   NaN   \n...                     ...               ...  ...                   ...   \n19999995         -73.981812         40.670444  ...                  93.0   \n19999996         -74.008904         40.702579  ...                1792.0   \n19999997         -74.001373         40.687614  ...                2024.0   \n19999998         -73.973991         40.672096  ...                  94.0   \n19999999         -73.936066         40.687969  ...                1830.0   \n\n          dropoff_ctlabel  dropoff_borocode  dropoff_boroname  dropoff_ct2010  \\\n0                     NaN               NaN               NaN             NaN   \n1                     NaN               NaN               NaN             NaN   \n2                     NaN               NaN               NaN             NaN   \n3                     NaN               NaN               NaN             NaN   \n4                     NaN               NaN               NaN             NaN   \n...                   ...               ...               ...             ...   \n19999995            155.0               3.0          Brooklyn         15500.0   \n19999996              9.0               1.0         Manhattan           900.0   \n19999997             47.0               3.0          Brooklyn          4700.0   \n19999998            157.0               3.0          Brooklyn         15700.0   \n19999999            277.0               3.0          Brooklyn         27700.0   \n\n         dropoff_boroct2010  dropoff_cdeligibil  dropoff_ntacode  \\\n0                       NaN                 NaN              NaN   \n1                       NaN                 NaN              NaN   \n2                       NaN                 NaN              NaN   \n3                       NaN                 NaN              NaN   \n4                       NaN                 NaN              NaN   \n...                     ...                 ...              ...   \n19999995          3015500.0                   I             BK37   \n19999996          1000900.0                   I             MN25   \n19999997          3004700.0                   I             BK33   \n19999998          3015700.0                   I             BK37   \n19999999          3027700.0                   E             BK35   \n\n                                   dropoff_ntaname dropoff_puma  \n0                                              NaN          NaN  \n1                                              NaN          NaN  \n2                                              NaN          NaN  \n3                                              NaN          NaN  \n4                                              NaN          NaN  \n...                                            ...          ...  \n19999995                        Park Slope-Gowanus       4005.0  \n19999996         Battery Park City-Lower Manhattan       3810.0  \n19999997  Carroll Gardens-Columbia Street-Red Hook       4005.0  \n19999998                        Park Slope-Gowanus       4005.0  \n19999999                        Stuyvesant Heights       4003.0  \n\n[20000000 rows x 51 columns]",
      "text/html": "<div>\n<style scoped>\n    .dataframe tbody tr th:only-of-type {\n        vertical-align: middle;\n    }\n\n    .dataframe tbody tr th {\n        vertical-align: top;\n    }\n\n    .dataframe thead th {\n        text-align: right;\n    }\n</style>\n<table border=\"1\" class=\"dataframe\">\n  <thead>\n    <tr style=\"text-align: right;\">\n      <th></th>\n      <th>trip_id</th>\n      <th>vendor_id</th>\n      <th>pickup_datetime</th>\n      <th>dropoff_datetime</th>\n      <th>store_and_fwd_flag</th>\n      <th>rate_code_id</th>\n      <th>pickup_longitude</th>\n      <th>pickup_latitude</th>\n      <th>dropoff_longitude</th>\n      <th>dropoff_latitude</th>\n      <th>...</th>\n      <th>dropoff_nyct2010_gid</th>\n      <th>dropoff_ctlabel</th>\n      <th>dropoff_borocode</th>\n      <th>dropoff_boroname</th>\n      <th>dropoff_ct2010</th>\n      <th>dropoff_boroct2010</th>\n      <th>dropoff_cdeligibil</th>\n      <th>dropoff_ntacode</th>\n      <th>dropoff_ntaname</th>\n      <th>dropoff_puma</th>\n    </tr>\n  </thead>\n  <tbody>\n    <tr>\n      <th>0</th>\n      <td>1</td>\n      <td>2</td>\n      <td>2013-08-01 08:14:37</td>\n      <td>2013-08-01 09:09:06</td>\n      <td>N</td>\n      <td>1</td>\n      <td>NaN</td>\n      <td>NaN</td>\n      <td>NaN</td>\n      <td>NaN</td>\n      <td>...</td>\n      <td>NaN</td>\n      <td>NaN</td>\n      <td>NaN</td>\n      <td>NaN</td>\n      <td>NaN</td>\n      <td>NaN</td>\n      <td>NaN</td>\n      <td>NaN</td>\n      <td>NaN</td>\n      <td>NaN</td>\n    </tr>\n    <tr>\n      <th>1</th>\n      <td>2</td>\n      <td>2</td>\n      <td>2013-08-01 09:13:00</td>\n      <td>2013-08-01 11:38:00</td>\n      <td>N</td>\n      <td>1</td>\n      <td>NaN</td>\n      <td>NaN</td>\n      <td>NaN</td>\n      <td>NaN</td>\n      <td>...</td>\n      <td>NaN</td>\n      <td>NaN</td>\n      <td>NaN</td>\n      <td>NaN</td>\n      <td>NaN</td>\n      <td>NaN</td>\n      <td>NaN</td>\n      <td>NaN</td>\n      <td>NaN</td>\n      <td>NaN</td>\n    </tr>\n    <tr>\n      <th>2</th>\n      <td>3</td>\n      <td>2</td>\n      <td>2013-08-01 09:48:00</td>\n      <td>2013-08-01 09:49:00</td>\n      <td>N</td>\n      <td>5</td>\n      <td>NaN</td>\n      <td>NaN</td>\n      <td>NaN</td>\n      <td>NaN</td>\n      <td>...</td>\n      <td>NaN</td>\n      <td>NaN</td>\n      <td>NaN</td>\n      <td>NaN</td>\n      <td>NaN</td>\n      <td>NaN</td>\n      <td>NaN</td>\n      <td>NaN</td>\n      <td>NaN</td>\n      <td>NaN</td>\n    </tr>\n    <tr>\n      <th>3</th>\n      <td>4</td>\n      <td>2</td>\n      <td>2013-08-01 10:38:35</td>\n      <td>2013-08-01 10:38:51</td>\n      <td>N</td>\n      <td>1</td>\n      <td>NaN</td>\n      <td>NaN</td>\n      <td>NaN</td>\n      <td>NaN</td>\n      <td>...</td>\n      <td>NaN</td>\n      <td>NaN</td>\n      <td>NaN</td>\n      <td>NaN</td>\n      <td>NaN</td>\n      <td>NaN</td>\n      <td>NaN</td>\n      <td>NaN</td>\n      <td>NaN</td>\n      <td>NaN</td>\n    </tr>\n    <tr>\n      <th>4</th>\n      <td>5</td>\n      <td>2</td>\n      <td>2013-08-01 11:51:45</td>\n      <td>2013-08-01 12:03:52</td>\n      <td>N</td>\n      <td>1</td>\n      <td>NaN</td>\n      <td>NaN</td>\n      <td>NaN</td>\n      <td>NaN</td>\n      <td>...</td>\n      <td>NaN</td>\n      <td>NaN</td>\n      <td>NaN</td>\n      <td>NaN</td>\n      <td>NaN</td>\n      <td>NaN</td>\n      <td>NaN</td>\n      <td>NaN</td>\n      <td>NaN</td>\n      <td>NaN</td>\n    </tr>\n    <tr>\n      <th>...</th>\n      <td>...</td>\n      <td>...</td>\n      <td>...</td>\n      <td>...</td>\n      <td>...</td>\n      <td>...</td>\n      <td>...</td>\n      <td>...</td>\n      <td>...</td>\n      <td>...</td>\n      <td>...</td>\n      <td>...</td>\n      <td>...</td>\n      <td>...</td>\n      <td>...</td>\n      <td>...</td>\n      <td>...</td>\n      <td>...</td>\n      <td>...</td>\n      <td>...</td>\n      <td>...</td>\n    </tr>\n    <tr>\n      <th>19999995</th>\n      <td>19999981</td>\n      <td>2</td>\n      <td>2015-02-27 23:10:11</td>\n      <td>2015-02-27 23:14:10</td>\n      <td>N</td>\n      <td>1</td>\n      <td>-73.978447</td>\n      <td>40.662716</td>\n      <td>-73.981812</td>\n      <td>40.670444</td>\n      <td>...</td>\n      <td>93.0</td>\n      <td>155.0</td>\n      <td>3.0</td>\n      <td>Brooklyn</td>\n      <td>15500.0</td>\n      <td>3015500.0</td>\n      <td>I</td>\n      <td>BK37</td>\n      <td>Park Slope-Gowanus</td>\n      <td>4005.0</td>\n    </tr>\n    <tr>\n      <th>19999996</th>\n      <td>19999982</td>\n      <td>2</td>\n      <td>2015-02-04 08:59:16</td>\n      <td>2015-02-04 09:40:31</td>\n      <td>N</td>\n      <td>1</td>\n      <td>-73.978111</td>\n      <td>40.663132</td>\n      <td>-74.008904</td>\n      <td>40.702579</td>\n      <td>...</td>\n      <td>1792.0</td>\n      <td>9.0</td>\n      <td>1.0</td>\n      <td>Manhattan</td>\n      <td>900.0</td>\n      <td>1000900.0</td>\n      <td>I</td>\n      <td>MN25</td>\n      <td>Battery Park City-Lower Manhattan</td>\n      <td>3810.0</td>\n    </tr>\n    <tr>\n      <th>19999997</th>\n      <td>19999983</td>\n      <td>2</td>\n      <td>2015-02-07 11:40:32</td>\n      <td>2015-02-07 11:53:40</td>\n      <td>N</td>\n      <td>1</td>\n      <td>-73.981270</td>\n      <td>40.663254</td>\n      <td>-74.001373</td>\n      <td>40.687614</td>\n      <td>...</td>\n      <td>2024.0</td>\n      <td>47.0</td>\n      <td>3.0</td>\n      <td>Brooklyn</td>\n      <td>4700.0</td>\n      <td>3004700.0</td>\n      <td>I</td>\n      <td>BK33</td>\n      <td>Carroll Gardens-Columbia Street-Red Hook</td>\n      <td>4005.0</td>\n    </tr>\n    <tr>\n      <th>19999998</th>\n      <td>19999984</td>\n      <td>2</td>\n      <td>2015-02-22 13:21:24</td>\n      <td>2015-02-22 13:24:23</td>\n      <td>N</td>\n      <td>1</td>\n      <td>-73.982063</td>\n      <td>40.662254</td>\n      <td>-73.973991</td>\n      <td>40.672096</td>\n      <td>...</td>\n      <td>94.0</td>\n      <td>157.0</td>\n      <td>3.0</td>\n      <td>Brooklyn</td>\n      <td>15700.0</td>\n      <td>3015700.0</td>\n      <td>I</td>\n      <td>BK37</td>\n      <td>Park Slope-Gowanus</td>\n      <td>4005.0</td>\n    </tr>\n    <tr>\n      <th>19999999</th>\n      <td>19999985</td>\n      <td>2</td>\n      <td>2015-02-24 22:35:39</td>\n      <td>2015-02-24 22:52:52</td>\n      <td>N</td>\n      <td>1</td>\n      <td>-73.982063</td>\n      <td>40.662327</td>\n      <td>-73.936066</td>\n      <td>40.687969</td>\n      <td>...</td>\n      <td>1830.0</td>\n      <td>277.0</td>\n      <td>3.0</td>\n      <td>Brooklyn</td>\n      <td>27700.0</td>\n      <td>3027700.0</td>\n      <td>E</td>\n      <td>BK35</td>\n      <td>Stuyvesant Heights</td>\n      <td>4003.0</td>\n    </tr>\n  </tbody>\n</table>\n<p>20000000 rows x 51 columns</p>\n</div>"
     },
     "execution_count": 1,
     "metadata": {},
     "output_type": "execute_result"
    }
   ],
   "source": [
    "import os.path\n",
    "\n",
    "import modin.pandas as pd\n",
    "\n",
    "columns_names = [\n",
    "    \"trip_id\",\n",
    "    \"vendor_id\",\n",
    "    \"pickup_datetime\",\n",
    "    \"dropoff_datetime\",\n",
    "    \"store_and_fwd_flag\",\n",
    "    \"rate_code_id\",\n",
    "    \"pickup_longitude\",\n",
    "    \"pickup_latitude\",\n",
    "    \"dropoff_longitude\",\n",
    "    \"dropoff_latitude\",\n",
    "    \"passenger_count\",\n",
    "    \"trip_distance\",\n",
    "    \"fare_amount\",\n",
    "    \"extra\",\n",
    "    \"mta_tax\",\n",
    "    \"tip_amount\",\n",
    "    \"tolls_amount\",\n",
    "    \"ehail_fee\",\n",
    "    \"improvement_surcharge\",\n",
    "    \"total_amount\",\n",
    "    \"payment_type\",\n",
    "    \"trip_type\",\n",
    "    \"pickup\",\n",
    "    \"dropoff\",\n",
    "    \"cab_type\",\n",
    "    \"precipitation\",\n",
    "    \"snow_depth\",\n",
    "    \"snowfall\",\n",
    "    \"max_temperature\",\n",
    "    \"min_temperature\",\n",
    "    \"average_wind_speed\",\n",
    "    \"pickup_nyct2010_gid\",\n",
    "    \"pickup_ctlabel\",\n",
    "    \"pickup_borocode\",\n",
    "    \"pickup_boroname\",\n",
    "    \"pickup_ct2010\",\n",
    "    \"pickup_boroct2010\",\n",
    "    \"pickup_cdeligibil\",\n",
    "    \"pickup_ntacode\",\n",
    "    \"pickup_ntaname\",\n",
    "    \"pickup_puma\",\n",
    "    \"dropoff_nyct2010_gid\",\n",
    "    \"dropoff_ctlabel\",\n",
    "    \"dropoff_borocode\",\n",
    "    \"dropoff_boroname\",\n",
    "    \"dropoff_ct2010\",\n",
    "    \"dropoff_boroct2010\",\n",
    "    \"dropoff_cdeligibil\",\n",
    "    \"dropoff_ntacode\",\n",
    "    \"dropoff_ntaname\",\n",
    "    \"dropoff_puma\",\n",
    "]\n",
    "\n",
    "path = \"/localdisk/benchmark_datasets\"\n",
    "df = pd.read_csv(os.path.join(path, \"taxi\", \"trips_xaa.csv\"),\n",
    "                 names=columns_names,\n",
    "                 parse_dates=[\"pickup_datetime\", \"dropoff_datetime\"])\n",
    "df"
   ]
  },
  {
   "cell_type": "code",
   "execution_count": 2,
   "outputs": [
    {
     "data": {
      "text/plain": "trip_id                  1.000000e+00\nvendor_id                1.000000e+00\nrate_code_id             1.000000e+00\npickup_longitude        -1.219267e+02\npickup_latitude         -4.075827e+01\ndropoff_longitude       -1.219277e+02\ndropoff_latitude         2.568508e+01\npassenger_count          0.000000e+00\ntrip_distance            0.000000e+00\nfare_amount             -4.990000e+02\nextra                   -1.000000e+00\nmta_tax                 -1.500000e+00\ntip_amount              -1.000000e+02\ntolls_amount            -1.816000e+01\nehail_fee                         NaN\nimprovement_surcharge    0.000000e+00\ntotal_amount            -4.990000e+02\npayment_type             1.000000e+00\ntrip_type                1.000000e+00\nprecipitation            0.000000e+00\nsnow_depth               0.000000e+00\nsnowfall                 0.000000e+00\nmax_temperature          1.700000e+01\nmin_temperature          2.000000e+00\naverage_wind_speed       6.700000e-01\npickup_nyct2010_gid      1.000000e+00\npickup_ctlabel           1.000000e+00\npickup_borocode          1.000000e+00\npickup_ct2010            1.000000e+02\npickup_boroct2010        1.000201e+06\npickup_puma              3.701000e+03\ndropoff_nyct2010_gid     1.000000e+00\ndropoff_ctlabel          1.000000e+00\ndropoff_borocode         1.000000e+00\ndropoff_ct2010           1.000000e+02\ndropoff_boroct2010       1.000201e+06\ndropoff_puma             3.701000e+03\ndtype: float64"
     },
     "execution_count": 2,
     "metadata": {},
     "output_type": "execute_result"
    }
   ],
   "source": [
    "df.min()"
   ],
   "metadata": {
    "collapsed": false,
    "pycharm": {
     "name": "#%%\n"
    }
   }
  },
  {
   "cell_type": "code",
   "execution_count": 3,
   "outputs": [
    {
     "data": {
      "text/plain": "trip_id                  2.010707e+07\nvendor_id                2.000000e+00\nrate_code_id             9.900000e+01\npickup_longitude         7.393764e+01\npickup_latitude          4.291825e+01\ndropoff_longitude       -8.332000e-03\ndropoff_latitude         4.448901e+01\npassenger_count          9.000000e+00\ntrip_distance            8.304000e+02\nfare_amount              9.999990e+03\nextra                    6.795300e+02\nmta_tax                  7.350000e+00\ntip_amount               1.766050e+03\ntolls_amount             1.600080e+03\nehail_fee                         NaN\nimprovement_surcharge    3.000000e-01\ntotal_amount             9.899704e+05\npayment_type             5.000000e+00\ntrip_type                2.000000e+00\nprecipitation            4.970000e+00\nsnow_depth               1.800000e+01\nsnowfall                 1.100000e+01\nmax_temperature          9.600000e+01\nmin_temperature          7.700000e+01\naverage_wind_speed       1.454000e+01\npickup_nyct2010_gid      2.167000e+03\npickup_ctlabel           1.621000e+03\npickup_borocode          5.000000e+00\npickup_ct2010            1.621000e+05\npickup_boroct2010        5.032300e+06\npickup_puma              4.114000e+03\ndropoff_nyct2010_gid     2.167000e+03\ndropoff_ctlabel          1.621000e+03\ndropoff_borocode         5.000000e+00\ndropoff_ct2010           1.621000e+05\ndropoff_boroct2010       5.032300e+06\ndropoff_puma             4.114000e+03\ndtype: float64"
     },
     "execution_count": 3,
     "metadata": {},
     "output_type": "execute_result"
    }
   ],
   "source": [
    "df.max()"
   ],
   "metadata": {
    "collapsed": false,
    "pycharm": {
     "name": "#%%\n"
    }
   }
  }
 ],
 "metadata": {
  "kernelspec": {
   "display_name": "Python 3",
   "language": "python",
   "name": "python3"
  },
  "language_info": {
   "codemirror_mode": {
    "name": "ipython",
    "version": 2
   },
   "file_extension": ".py",
   "mimetype": "text/x-python",
   "name": "python",
   "nbconvert_exporter": "python",
   "pygments_lexer": "ipython2",
   "version": "2.7.6"
  }
 },
 "nbformat": 4,
 "nbformat_minor": 0
}