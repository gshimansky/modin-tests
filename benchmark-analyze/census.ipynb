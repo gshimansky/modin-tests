{
 "cells": [
  {
   "cell_type": "code",
   "execution_count": 2,
   "metadata": {
    "collapsed": true
   },
   "outputs": [
    {
     "name": "stderr",
     "output_type": "stream",
     "text": [
      "UserWarning: Ray execution environment not yet initialized. Initializing...\n",
      "To remove this warning, run the following python code before doing dataframe operations:\n",
      "\n",
      "    import ray\n",
      "    ray.init()\n",
      "\n"
     ]
    },
    {
     "data": {
      "text/plain": "          YEAR0  DATANUM   SERIAL   CBSERIAL  HHWT  CPI99  GQ  QGQ  PERNUM  \\\n0          1970        2        1        NaN   100  4.540   1  0.0       2   \n1          1970        2        2        NaN   100  4.540   1  0.0       1   \n2          1970        2        2        NaN   100  4.540   1  0.0       2   \n3          1970        2        4        NaN   100  4.540   1  0.0       1   \n4          1970        2        4        NaN   100  4.540   1  0.0       2   \n...         ...      ...      ...        ...   ...    ...  ..  ...     ...   \n21721916   2010        1  1397788  1414099.0    57  0.764   1  NaN       2   \n21721917   2010        1  1397788  1414099.0    57  0.764   1  NaN       3   \n21721918   2010        1  1397788  1414099.0    57  0.764   1  NaN       4   \n21721919   2010        1  1397789  1414268.0   101  0.764   1  NaN       1   \n21721920   2010        1  1397789  1414268.0   101  0.764   1  NaN       2   \n\n          PERWT  ...  EDUCD_POP  EDUCD_SP  EDUCD_MOM2  EDUCD_POP2  \\\n0           100  ...        NaN      60.0         NaN         NaN   \n1           100  ...        NaN      60.0         NaN         NaN   \n2           100  ...        NaN      70.0         NaN         NaN   \n3           100  ...        NaN      23.0         NaN         NaN   \n4           100  ...        NaN      17.0         NaN         NaN   \n...         ...  ...        ...       ...         ...         ...   \n21721916     68  ...        NaN     101.0         NaN         NaN   \n21721917     84  ...      101.0       NaN         NaN         NaN   \n21721918     65  ...      101.0       NaN         NaN         NaN   \n21721919    101  ...        NaN      63.0         NaN         NaN   \n21721920    109  ...        NaN      63.0         NaN         NaN   \n\n          INCTOT_HEAD  INCTOT_MOM  INCTOT_POP  INCTOT_SP  INCTOT_MOM2  \\\n0             12450.0         NaN         NaN    12450.0          NaN   \n1              9050.0         NaN         NaN        0.0          NaN   \n2              9050.0         NaN         NaN     9050.0          NaN   \n3              7450.0         NaN         NaN      650.0          NaN   \n4              7450.0         NaN         NaN     7450.0          NaN   \n...               ...         ...         ...        ...          ...   \n21721916      55000.0         NaN         NaN    55000.0          NaN   \n21721917      55000.0         0.0     55000.0        NaN          NaN   \n21721918      55000.0         0.0     55000.0        NaN          NaN   \n21721919       9000.0         NaN         NaN    90000.0          NaN   \n21721920       9000.0         NaN         NaN     9000.0          NaN   \n\n          INCTOT_POP2  \n0                 NaN  \n1                 NaN  \n2                 NaN  \n3                 NaN  \n4                 NaN  \n...               ...  \n21721916          NaN  \n21721917          NaN  \n21721918          NaN  \n21721919          NaN  \n21721920          NaN  \n\n[21721921 rows x 45 columns]",
      "text/html": "<div>\n<style scoped>\n    .dataframe tbody tr th:only-of-type {\n        vertical-align: middle;\n    }\n\n    .dataframe tbody tr th {\n        vertical-align: top;\n    }\n\n    .dataframe thead th {\n        text-align: right;\n    }\n</style>\n<table border=\"1\" class=\"dataframe\">\n  <thead>\n    <tr style=\"text-align: right;\">\n      <th></th>\n      <th>YEAR0</th>\n      <th>DATANUM</th>\n      <th>SERIAL</th>\n      <th>CBSERIAL</th>\n      <th>HHWT</th>\n      <th>CPI99</th>\n      <th>GQ</th>\n      <th>QGQ</th>\n      <th>PERNUM</th>\n      <th>PERWT</th>\n      <th>...</th>\n      <th>EDUCD_POP</th>\n      <th>EDUCD_SP</th>\n      <th>EDUCD_MOM2</th>\n      <th>EDUCD_POP2</th>\n      <th>INCTOT_HEAD</th>\n      <th>INCTOT_MOM</th>\n      <th>INCTOT_POP</th>\n      <th>INCTOT_SP</th>\n      <th>INCTOT_MOM2</th>\n      <th>INCTOT_POP2</th>\n    </tr>\n  </thead>\n  <tbody>\n    <tr>\n      <th>0</th>\n      <td>1970</td>\n      <td>2</td>\n      <td>1</td>\n      <td>NaN</td>\n      <td>100</td>\n      <td>4.540</td>\n      <td>1</td>\n      <td>0.0</td>\n      <td>2</td>\n      <td>100</td>\n      <td>...</td>\n      <td>NaN</td>\n      <td>60.0</td>\n      <td>NaN</td>\n      <td>NaN</td>\n      <td>12450.0</td>\n      <td>NaN</td>\n      <td>NaN</td>\n      <td>12450.0</td>\n      <td>NaN</td>\n      <td>NaN</td>\n    </tr>\n    <tr>\n      <th>1</th>\n      <td>1970</td>\n      <td>2</td>\n      <td>2</td>\n      <td>NaN</td>\n      <td>100</td>\n      <td>4.540</td>\n      <td>1</td>\n      <td>0.0</td>\n      <td>1</td>\n      <td>100</td>\n      <td>...</td>\n      <td>NaN</td>\n      <td>60.0</td>\n      <td>NaN</td>\n      <td>NaN</td>\n      <td>9050.0</td>\n      <td>NaN</td>\n      <td>NaN</td>\n      <td>0.0</td>\n      <td>NaN</td>\n      <td>NaN</td>\n    </tr>\n    <tr>\n      <th>2</th>\n      <td>1970</td>\n      <td>2</td>\n      <td>2</td>\n      <td>NaN</td>\n      <td>100</td>\n      <td>4.540</td>\n      <td>1</td>\n      <td>0.0</td>\n      <td>2</td>\n      <td>100</td>\n      <td>...</td>\n      <td>NaN</td>\n      <td>70.0</td>\n      <td>NaN</td>\n      <td>NaN</td>\n      <td>9050.0</td>\n      <td>NaN</td>\n      <td>NaN</td>\n      <td>9050.0</td>\n      <td>NaN</td>\n      <td>NaN</td>\n    </tr>\n    <tr>\n      <th>3</th>\n      <td>1970</td>\n      <td>2</td>\n      <td>4</td>\n      <td>NaN</td>\n      <td>100</td>\n      <td>4.540</td>\n      <td>1</td>\n      <td>0.0</td>\n      <td>1</td>\n      <td>100</td>\n      <td>...</td>\n      <td>NaN</td>\n      <td>23.0</td>\n      <td>NaN</td>\n      <td>NaN</td>\n      <td>7450.0</td>\n      <td>NaN</td>\n      <td>NaN</td>\n      <td>650.0</td>\n      <td>NaN</td>\n      <td>NaN</td>\n    </tr>\n    <tr>\n      <th>4</th>\n      <td>1970</td>\n      <td>2</td>\n      <td>4</td>\n      <td>NaN</td>\n      <td>100</td>\n      <td>4.540</td>\n      <td>1</td>\n      <td>0.0</td>\n      <td>2</td>\n      <td>100</td>\n      <td>...</td>\n      <td>NaN</td>\n      <td>17.0</td>\n      <td>NaN</td>\n      <td>NaN</td>\n      <td>7450.0</td>\n      <td>NaN</td>\n      <td>NaN</td>\n      <td>7450.0</td>\n      <td>NaN</td>\n      <td>NaN</td>\n    </tr>\n    <tr>\n      <th>...</th>\n      <td>...</td>\n      <td>...</td>\n      <td>...</td>\n      <td>...</td>\n      <td>...</td>\n      <td>...</td>\n      <td>...</td>\n      <td>...</td>\n      <td>...</td>\n      <td>...</td>\n      <td>...</td>\n      <td>...</td>\n      <td>...</td>\n      <td>...</td>\n      <td>...</td>\n      <td>...</td>\n      <td>...</td>\n      <td>...</td>\n      <td>...</td>\n      <td>...</td>\n      <td>...</td>\n    </tr>\n    <tr>\n      <th>21721916</th>\n      <td>2010</td>\n      <td>1</td>\n      <td>1397788</td>\n      <td>1414099.0</td>\n      <td>57</td>\n      <td>0.764</td>\n      <td>1</td>\n      <td>NaN</td>\n      <td>2</td>\n      <td>68</td>\n      <td>...</td>\n      <td>NaN</td>\n      <td>101.0</td>\n      <td>NaN</td>\n      <td>NaN</td>\n      <td>55000.0</td>\n      <td>NaN</td>\n      <td>NaN</td>\n      <td>55000.0</td>\n      <td>NaN</td>\n      <td>NaN</td>\n    </tr>\n    <tr>\n      <th>21721917</th>\n      <td>2010</td>\n      <td>1</td>\n      <td>1397788</td>\n      <td>1414099.0</td>\n      <td>57</td>\n      <td>0.764</td>\n      <td>1</td>\n      <td>NaN</td>\n      <td>3</td>\n      <td>84</td>\n      <td>...</td>\n      <td>101.0</td>\n      <td>NaN</td>\n      <td>NaN</td>\n      <td>NaN</td>\n      <td>55000.0</td>\n      <td>0.0</td>\n      <td>55000.0</td>\n      <td>NaN</td>\n      <td>NaN</td>\n      <td>NaN</td>\n    </tr>\n    <tr>\n      <th>21721918</th>\n      <td>2010</td>\n      <td>1</td>\n      <td>1397788</td>\n      <td>1414099.0</td>\n      <td>57</td>\n      <td>0.764</td>\n      <td>1</td>\n      <td>NaN</td>\n      <td>4</td>\n      <td>65</td>\n      <td>...</td>\n      <td>101.0</td>\n      <td>NaN</td>\n      <td>NaN</td>\n      <td>NaN</td>\n      <td>55000.0</td>\n      <td>0.0</td>\n      <td>55000.0</td>\n      <td>NaN</td>\n      <td>NaN</td>\n      <td>NaN</td>\n    </tr>\n    <tr>\n      <th>21721919</th>\n      <td>2010</td>\n      <td>1</td>\n      <td>1397789</td>\n      <td>1414268.0</td>\n      <td>101</td>\n      <td>0.764</td>\n      <td>1</td>\n      <td>NaN</td>\n      <td>1</td>\n      <td>101</td>\n      <td>...</td>\n      <td>NaN</td>\n      <td>63.0</td>\n      <td>NaN</td>\n      <td>NaN</td>\n      <td>9000.0</td>\n      <td>NaN</td>\n      <td>NaN</td>\n      <td>90000.0</td>\n      <td>NaN</td>\n      <td>NaN</td>\n    </tr>\n    <tr>\n      <th>21721920</th>\n      <td>2010</td>\n      <td>1</td>\n      <td>1397789</td>\n      <td>1414268.0</td>\n      <td>101</td>\n      <td>0.764</td>\n      <td>1</td>\n      <td>NaN</td>\n      <td>2</td>\n      <td>109</td>\n      <td>...</td>\n      <td>NaN</td>\n      <td>63.0</td>\n      <td>NaN</td>\n      <td>NaN</td>\n      <td>9000.0</td>\n      <td>NaN</td>\n      <td>NaN</td>\n      <td>9000.0</td>\n      <td>NaN</td>\n      <td>NaN</td>\n    </tr>\n  </tbody>\n</table>\n<p>21721921 rows x 45 columns</p>\n</div>"
     },
     "execution_count": 2,
     "metadata": {},
     "output_type": "execute_result"
    }
   ],
   "source": [
    "import os.path\n",
    "\n",
    "import modin.pandas as pd\n",
    "\n",
    "columns_names = [\n",
    "    \"YEAR0\",\n",
    "    \"DATANUM\",\n",
    "    \"SERIAL\",\n",
    "    \"CBSERIAL\",\n",
    "    \"HHWT\",\n",
    "    \"CPI99\",\n",
    "    \"GQ\",\n",
    "    \"QGQ\",\n",
    "    \"PERNUM\",\n",
    "    \"PERWT\",\n",
    "    \"SEX\",\n",
    "    \"AGE\",\n",
    "    \"EDUC\",\n",
    "    \"EDUCD\",\n",
    "    \"INCTOT\",\n",
    "    \"SEX_HEAD\",\n",
    "    \"SEX_MOM\",\n",
    "    \"SEX_POP\",\n",
    "    \"SEX_SP\",\n",
    "    \"SEX_MOM2\",\n",
    "    \"SEX_POP2\",\n",
    "    \"AGE_HEAD\",\n",
    "    \"AGE_MOM\",\n",
    "    \"AGE_POP\",\n",
    "    \"AGE_SP\",\n",
    "    \"AGE_MOM2\",\n",
    "    \"AGE_POP2\",\n",
    "    \"EDUC_HEAD\",\n",
    "    \"EDUC_MOM\",\n",
    "    \"EDUC_POP\",\n",
    "    \"EDUC_SP\",\n",
    "    \"EDUC_MOM2\",\n",
    "    \"EDUC_POP2\",\n",
    "    \"EDUCD_HEAD\",\n",
    "    \"EDUCD_MOM\",\n",
    "    \"EDUCD_POP\",\n",
    "    \"EDUCD_SP\",\n",
    "    \"EDUCD_MOM2\",\n",
    "    \"EDUCD_POP2\",\n",
    "    \"INCTOT_HEAD\",\n",
    "    \"INCTOT_MOM\",\n",
    "    \"INCTOT_POP\",\n",
    "    \"INCTOT_SP\",\n",
    "    \"INCTOT_MOM2\",\n",
    "    \"INCTOT_POP2\",\n",
    "]\n",
    "columns_types = [\n",
    "    \"int64\",\n",
    "    \"int64\",\n",
    "    \"int64\",\n",
    "    \"float64\",\n",
    "    \"int64\",\n",
    "    \"float64\",\n",
    "    \"int64\",\n",
    "    \"float64\",\n",
    "    \"int64\",\n",
    "    \"int64\",\n",
    "    \"int64\",\n",
    "    \"int64\",\n",
    "    \"int64\",\n",
    "    \"int64\",\n",
    "    \"int64\",\n",
    "    \"float64\",\n",
    "    \"float64\",\n",
    "    \"float64\",\n",
    "    \"float64\",\n",
    "    \"float64\",\n",
    "    \"float64\",\n",
    "    \"float64\",\n",
    "    \"float64\",\n",
    "    \"float64\",\n",
    "    \"float64\",\n",
    "    \"float64\",\n",
    "    \"float64\",\n",
    "    \"float64\",\n",
    "    \"float64\",\n",
    "    \"float64\",\n",
    "    \"float64\",\n",
    "    \"float64\",\n",
    "    \"float64\",\n",
    "    \"float64\",\n",
    "    \"float64\",\n",
    "    \"float64\",\n",
    "    \"float64\",\n",
    "    \"float64\",\n",
    "    \"float64\",\n",
    "    \"float64\",\n",
    "    \"float64\",\n",
    "    \"float64\",\n",
    "    \"float64\",\n",
    "    \"float64\",\n",
    "    \"float64\",\n",
    "]\n",
    "\n",
    "dtypes = {columns_names[i]: columns_types[i] for i in range(len(columns_names))}\n",
    "\n",
    "path = \"/localdisk/gregory/benchmark-datasets\"\n",
    "df = pd.read_csv(os.path.join(path, \"census\", \"ipums_education2income_1970-2010.csv\"),\n",
    "                header=1,\n",
    "                dtype=dtypes,\n",
    "                names=columns_names)\n",
    "df"
   ]
  },
  {
   "cell_type": "code",
   "execution_count": 3,
   "outputs": [
    {
     "data": {
      "text/plain": "YEAR0            int64\nDATANUM          int64\nSERIAL           int64\nCBSERIAL       float64\nHHWT             int64\nCPI99          float64\nGQ               int64\nQGQ            float64\nPERNUM           int64\nPERWT            int64\nSEX              int64\nAGE              int64\nEDUC             int64\nEDUCD            int64\nINCTOT           int64\nSEX_HEAD       float64\nSEX_MOM        float64\nSEX_POP        float64\nSEX_SP         float64\nSEX_MOM2       float64\nSEX_POP2       float64\nAGE_HEAD       float64\nAGE_MOM        float64\nAGE_POP        float64\nAGE_SP         float64\nAGE_MOM2       float64\nAGE_POP2       float64\nEDUC_HEAD      float64\nEDUC_MOM       float64\nEDUC_POP       float64\nEDUC_SP        float64\nEDUC_MOM2      float64\nEDUC_POP2      float64\nEDUCD_HEAD     float64\nEDUCD_MOM      float64\nEDUCD_POP      float64\nEDUCD_SP       float64\nEDUCD_MOM2     float64\nEDUCD_POP2     float64\nINCTOT_HEAD    float64\nINCTOT_MOM     float64\nINCTOT_POP     float64\nINCTOT_SP      float64\nINCTOT_MOM2    float64\nINCTOT_POP2    float64\nName: 0, dtype: object"
     },
     "execution_count": 3,
     "metadata": {},
     "output_type": "execute_result"
    }
   ],
   "source": [
    "df.dtypes"
   ],
   "metadata": {
    "collapsed": false,
    "pycharm": {
     "name": "#%%\n"
    }
   }
  },
  {
   "cell_type": "code",
   "execution_count": 4,
   "outputs": [
    {
     "data": {
      "text/plain": "YEAR0           1970.000\nDATANUM            1.000\nSERIAL             1.000\nCBSERIAL           2.000\nHHWT               1.000\nCPI99              0.764\nGQ                 0.000\nQGQ                0.000\nPERNUM             1.000\nPERWT              1.000\nSEX                1.000\nAGE                0.000\nEDUC               0.000\nEDUCD              0.000\nINCTOT        -20000.000\nSEX_HEAD           1.000\nSEX_MOM            2.000\nSEX_POP            1.000\nSEX_SP             1.000\nSEX_MOM2           2.000\nSEX_POP2           1.000\nAGE_HEAD          14.000\nAGE_MOM            0.000\nAGE_POP            0.000\nAGE_SP             0.000\nAGE_MOM2           6.000\nAGE_POP2           1.000\nEDUC_HEAD          0.000\nEDUC_MOM           0.000\nEDUC_POP           0.000\nEDUC_SP            0.000\nEDUC_MOM2          0.000\nEDUC_POP2          0.000\nEDUCD_HEAD         2.000\nEDUCD_MOM          0.000\nEDUCD_POP          0.000\nEDUCD_SP           1.000\nEDUCD_MOM2         2.000\nEDUCD_POP2         1.000\nINCTOT_HEAD   -20000.000\nINCTOT_MOM    -19998.000\nINCTOT_POP    -20000.000\nINCTOT_SP     -20000.000\nINCTOT_MOM2      -16.000\nINCTOT_POP2   -10000.000\ndtype: float64"
     },
     "execution_count": 4,
     "metadata": {},
     "output_type": "execute_result"
    }
   ],
   "source": [
    "df.min()"
   ],
   "metadata": {
    "collapsed": false,
    "pycharm": {
     "name": "#%%\n"
    }
   }
  },
  {
   "cell_type": "code",
   "execution_count": 5,
   "outputs": [
    {
     "data": {
      "text/plain": "YEAR0             2010.00\nDATANUM              4.00\nSERIAL         4711341.00\nCBSERIAL       1414542.00\nHHWT              1385.00\nCPI99                4.54\nGQ                   5.00\nQGQ                  5.00\nPERNUM              32.00\nPERWT             1385.00\nSEX                  2.00\nAGE                100.00\nEDUC                11.00\nEDUCD              116.00\nINCTOT         9999999.00\nSEX_HEAD             2.00\nSEX_MOM              2.00\nSEX_POP              1.00\nSEX_SP               2.00\nSEX_MOM2             2.00\nSEX_POP2             1.00\nAGE_HEAD           100.00\nAGE_MOM            100.00\nAGE_POP            100.00\nAGE_SP             100.00\nAGE_MOM2            94.00\nAGE_POP2            90.00\nEDUC_HEAD           11.00\nEDUC_MOM            11.00\nEDUC_POP            11.00\nEDUC_SP             11.00\nEDUC_MOM2           11.00\nEDUC_POP2           11.00\nEDUCD_HEAD         116.00\nEDUCD_MOM          116.00\nEDUCD_POP          116.00\nEDUCD_SP           116.00\nEDUCD_MOM2         116.00\nEDUCD_POP2         116.00\nINCTOT_HEAD    9999999.00\nINCTOT_MOM     9999999.00\nINCTOT_POP     9999999.00\nINCTOT_SP      9999999.00\nINCTOT_MOM2    9999999.00\nINCTOT_POP2    9999999.00\ndtype: float64"
     },
     "execution_count": 5,
     "metadata": {},
     "output_type": "execute_result"
    }
   ],
   "source": [
    "df.max()"
   ],
   "metadata": {
    "collapsed": false,
    "pycharm": {
     "name": "#%%\n"
    }
   }
  }
 ],
 "metadata": {
  "kernelspec": {
   "display_name": "Python 3",
   "language": "python",
   "name": "python3"
  },
  "language_info": {
   "codemirror_mode": {
    "name": "ipython",
    "version": 2
   },
   "file_extension": ".py",
   "mimetype": "text/x-python",
   "name": "python",
   "nbconvert_exporter": "python",
   "pygments_lexer": "ipython2",
   "version": "2.7.6"
  }
 },
 "nbformat": 4,
 "nbformat_minor": 0
}