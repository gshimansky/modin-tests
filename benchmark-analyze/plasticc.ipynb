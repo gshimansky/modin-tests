{
 "cells": [
  {
   "cell_type": "code",
   "execution_count": 1,
   "metadata": {
    "collapsed": true
   },
   "outputs": [],
   "source": [
    "import os.path\n",
    "\n",
    "from collections import OrderedDict\n",
    "import pandas as pd\n",
    "import numpy as np\n",
    "\n",
    "dtypes = OrderedDict(\n",
    "    [\n",
    "        (\"object_id\", \"int32\"),\n",
    "        (\"mjd\", \"float32\"),\n",
    "        (\"passband\", \"int32\"),\n",
    "        (\"flux\", \"float32\"),\n",
    "        (\"flux_err\", \"float32\"),\n",
    "        (\"detected\", \"int32\"),\n",
    "    ]\n",
    ")\n",
    "\n",
    "columns_names = [\n",
    "    \"object_id\",\n",
    "    \"ra\",\n",
    "    \"decl\",\n",
    "    \"gal_l\",\n",
    "    \"gal_b\",\n",
    "    \"ddf\",\n",
    "    \"hostgal_specz\",\n",
    "    \"hostgal_photoz\",\n",
    "    \"hostgal_photoz_err\",\n",
    "    \"distmod\",\n",
    "    \"mwebv\",\n",
    "    \"target\",\n",
    "]\n",
    "meta_dtypes = [\"int32\"] + [\"float32\"] * 4 + [\"int32\"] + [\"float32\"] * 5 + [\"int32\"]\n",
    "meta_dtypes = OrderedDict(\n",
    "    [(columns_names[i], meta_dtypes[i]) for i in range(len(meta_dtypes))]\n",
    ")\n",
    "\n",
    "path = \"/localdisk/gregory/benchmark-datasets\""
   ]
  },
  {
   "cell_type": "code",
   "execution_count": 2,
   "outputs": [],
   "source": [
    "def print_all(df):\n",
    "    def print_df(s, name):\n",
    "        print(name, \" = \\n\", s)\n",
    "        print(name, \"shape = \", s.shape)\n",
    "\n",
    "    dt = df.dtypes\n",
    "    print_df(dt, \"dtypes\")\n",
    "    mi = df.min()\n",
    "    print_df(mi, \"minimum\")\n",
    "    ma = df.max()\n",
    "    print_df(ma, \"maximum\")\n",
    "\n",
    "    result = pd.DataFrame({\"types\": dt, \"min\": mi, \"max\": ma})\n",
    "    result = result.reindex(dt.index)\n",
    "    print_df(result, \"result\")\n",
    "\n",
    "    for index, row in result.iterrows():\n",
    "        print(\"\\\"{0}\\\": (\\\"{1}\\\", {2}, {3}),\".format(index,\n",
    "            row[0],\n",
    "            np.int64(row[1]) if row[0].name == \"int64\" or row[0].name == \"int32\" else row[1],\n",
    "            np.int64(row[2]) if row[0].name == \"int64\" or row[0].name == \"int32\" else row[2]))"
   ],
   "metadata": {
    "collapsed": false,
    "pycharm": {
     "name": "#%%\n"
    }
   }
  },
  {
   "cell_type": "code",
   "execution_count": 3,
   "outputs": [
    {
     "data": {
      "text/plain": "         object_id           mjd  passband        flux   flux_err  detected\n0              615  59750.421875         2 -544.810303   3.622952         1\n1              615  59750.429688         1 -816.434326   5.553370         1\n2              615  59750.437500         3 -471.385529   3.801213         1\n3              615  59750.445312         4 -388.984985  11.395031         1\n4              615  59752.406250         2 -681.858887   4.041204         1\n...            ...           ...       ...         ...        ...       ...\n1421700  130779836  60555.984375         4  -39.881969  46.477093         0\n1421701  130779836  60560.046875         1   14.894439  18.947685         0\n1421702  130779836  60571.023438         5   30.593130  50.695290         0\n1421703  130779836  60585.996094         4  -23.471439  44.819859         0\n1421704  130779836  60588.039062         0  -41.214264  51.665123         0\n\n[1421705 rows x 6 columns]",
      "text/html": "<div>\n<style scoped>\n    .dataframe tbody tr th:only-of-type {\n        vertical-align: middle;\n    }\n\n    .dataframe tbody tr th {\n        vertical-align: top;\n    }\n\n    .dataframe thead th {\n        text-align: right;\n    }\n</style>\n<table border=\"1\" class=\"dataframe\">\n  <thead>\n    <tr style=\"text-align: right;\">\n      <th></th>\n      <th>object_id</th>\n      <th>mjd</th>\n      <th>passband</th>\n      <th>flux</th>\n      <th>flux_err</th>\n      <th>detected</th>\n    </tr>\n  </thead>\n  <tbody>\n    <tr>\n      <th>0</th>\n      <td>615</td>\n      <td>59750.421875</td>\n      <td>2</td>\n      <td>-544.810303</td>\n      <td>3.622952</td>\n      <td>1</td>\n    </tr>\n    <tr>\n      <th>1</th>\n      <td>615</td>\n      <td>59750.429688</td>\n      <td>1</td>\n      <td>-816.434326</td>\n      <td>5.553370</td>\n      <td>1</td>\n    </tr>\n    <tr>\n      <th>2</th>\n      <td>615</td>\n      <td>59750.437500</td>\n      <td>3</td>\n      <td>-471.385529</td>\n      <td>3.801213</td>\n      <td>1</td>\n    </tr>\n    <tr>\n      <th>3</th>\n      <td>615</td>\n      <td>59750.445312</td>\n      <td>4</td>\n      <td>-388.984985</td>\n      <td>11.395031</td>\n      <td>1</td>\n    </tr>\n    <tr>\n      <th>4</th>\n      <td>615</td>\n      <td>59752.406250</td>\n      <td>2</td>\n      <td>-681.858887</td>\n      <td>4.041204</td>\n      <td>1</td>\n    </tr>\n    <tr>\n      <th>...</th>\n      <td>...</td>\n      <td>...</td>\n      <td>...</td>\n      <td>...</td>\n      <td>...</td>\n      <td>...</td>\n    </tr>\n    <tr>\n      <th>1421700</th>\n      <td>130779836</td>\n      <td>60555.984375</td>\n      <td>4</td>\n      <td>-39.881969</td>\n      <td>46.477093</td>\n      <td>0</td>\n    </tr>\n    <tr>\n      <th>1421701</th>\n      <td>130779836</td>\n      <td>60560.046875</td>\n      <td>1</td>\n      <td>14.894439</td>\n      <td>18.947685</td>\n      <td>0</td>\n    </tr>\n    <tr>\n      <th>1421702</th>\n      <td>130779836</td>\n      <td>60571.023438</td>\n      <td>5</td>\n      <td>30.593130</td>\n      <td>50.695290</td>\n      <td>0</td>\n    </tr>\n    <tr>\n      <th>1421703</th>\n      <td>130779836</td>\n      <td>60585.996094</td>\n      <td>4</td>\n      <td>-23.471439</td>\n      <td>44.819859</td>\n      <td>0</td>\n    </tr>\n    <tr>\n      <th>1421704</th>\n      <td>130779836</td>\n      <td>60588.039062</td>\n      <td>0</td>\n      <td>-41.214264</td>\n      <td>51.665123</td>\n      <td>0</td>\n    </tr>\n  </tbody>\n</table>\n<p>1421705 rows × 6 columns</p>\n</div>"
     },
     "execution_count": 3,
     "metadata": {},
     "output_type": "execute_result"
    }
   ],
   "source": [
    "train_df = pd.read_csv(os.path.join(path, \"plasticc\", \"training_set.csv\"), dtype=dtypes)\n",
    "\n",
    "train_df"
   ],
   "metadata": {
    "collapsed": false,
    "pycharm": {
     "name": "#%%\n"
    }
   }
  },
  {
   "cell_type": "code",
   "execution_count": 4,
   "outputs": [
    {
     "name": "stdout",
     "output_type": "stream",
     "text": [
      "training_set!\n",
      "dtypes  = \n",
      " object_id      int32\n",
      "mjd          float32\n",
      "passband       int32\n",
      "flux         float32\n",
      "flux_err     float32\n",
      "detected       int32\n",
      "dtype: object\n",
      "dtypes shape =  (6,)\n",
      "minimum  = \n",
      " object_id    6.150000e+02\n",
      "mjd          5.958004e+04\n",
      "passband     0.000000e+00\n",
      "flux        -1.149388e+06\n",
      "flux_err     4.637530e-01\n",
      "detected     0.000000e+00\n",
      "dtype: float64\n",
      "minimum shape =  (6,)\n",
      "maximum  = \n",
      " object_id    1.307798e+08\n",
      "mjd          6.067436e+04\n",
      "passband     5.000000e+00\n",
      "flux         2.432809e+06\n",
      "flux_err     2.234069e+06\n",
      "detected     1.000000e+00\n",
      "dtype: float64\n",
      "maximum shape =  (6,)\n",
      "result  = \n",
      "              types           min           max\n",
      "object_id    int32  6.150000e+02  1.307798e+08\n",
      "mjd        float32  5.958004e+04  6.067436e+04\n",
      "passband     int32  0.000000e+00  5.000000e+00\n",
      "flux       float32 -1.149388e+06  2.432809e+06\n",
      "flux_err   float32  4.637530e-01  2.234069e+06\n",
      "detected     int32  0.000000e+00  1.000000e+00\n",
      "result shape =  (6, 3)\n",
      "\"object_id\": (\"int32\", 615, 130779836),\n",
      "\"mjd\": (\"float32\", 59580.03515625, 60674.36328125),\n",
      "\"passband\": (\"int32\", 0, 5),\n",
      "\"flux\": (\"float32\", -1149388.375, 2432808.75),\n",
      "\"flux_err\": (\"float32\", 0.46375301480293274, 2234069.25),\n",
      "\"detected\": (\"int32\", 0, 1),\n"
     ]
    }
   ],
   "source": [
    "print(\"training_set!\")\n",
    "print_all(train_df)"
   ],
   "metadata": {
    "collapsed": false,
    "pycharm": {
     "name": "#%%\n"
    }
   }
  },
  {
   "cell_type": "code",
   "execution_count": 5,
   "outputs": [
    {
     "data": {
      "text/plain": "           object_id           mjd  passband       flux   flux_err  detected\n0                 13  59798.328125         1  -2.095392   1.148654         0\n1                 13  59798.335938         3  -0.923794   1.763655         0\n2                 13  59798.347656         4  -4.009815   2.602911         0\n3                 13  59798.359375         5  -3.403503   5.367328         0\n4                 13  59801.355469         2  -1.778855   2.448943         0\n...              ...           ...       ...        ...        ...       ...\n453653098  104853812  60529.097656         1  23.212770   4.839886         0\n453653099  104853812  60540.089844         5  72.878868  21.710670         0\n453653100  104853812  60544.035156         3  48.116238   5.542284         1\n453653101  104853812  60548.023438         1   2.741242   4.695860         0\n453653102  104853812  60554.035156         0 -15.886432  26.944405         0\n\n[453653103 rows x 6 columns]",
      "text/html": "<div>\n<style scoped>\n    .dataframe tbody tr th:only-of-type {\n        vertical-align: middle;\n    }\n\n    .dataframe tbody tr th {\n        vertical-align: top;\n    }\n\n    .dataframe thead th {\n        text-align: right;\n    }\n</style>\n<table border=\"1\" class=\"dataframe\">\n  <thead>\n    <tr style=\"text-align: right;\">\n      <th></th>\n      <th>object_id</th>\n      <th>mjd</th>\n      <th>passband</th>\n      <th>flux</th>\n      <th>flux_err</th>\n      <th>detected</th>\n    </tr>\n  </thead>\n  <tbody>\n    <tr>\n      <th>0</th>\n      <td>13</td>\n      <td>59798.328125</td>\n      <td>1</td>\n      <td>-2.095392</td>\n      <td>1.148654</td>\n      <td>0</td>\n    </tr>\n    <tr>\n      <th>1</th>\n      <td>13</td>\n      <td>59798.335938</td>\n      <td>3</td>\n      <td>-0.923794</td>\n      <td>1.763655</td>\n      <td>0</td>\n    </tr>\n    <tr>\n      <th>2</th>\n      <td>13</td>\n      <td>59798.347656</td>\n      <td>4</td>\n      <td>-4.009815</td>\n      <td>2.602911</td>\n      <td>0</td>\n    </tr>\n    <tr>\n      <th>3</th>\n      <td>13</td>\n      <td>59798.359375</td>\n      <td>5</td>\n      <td>-3.403503</td>\n      <td>5.367328</td>\n      <td>0</td>\n    </tr>\n    <tr>\n      <th>4</th>\n      <td>13</td>\n      <td>59801.355469</td>\n      <td>2</td>\n      <td>-1.778855</td>\n      <td>2.448943</td>\n      <td>0</td>\n    </tr>\n    <tr>\n      <th>...</th>\n      <td>...</td>\n      <td>...</td>\n      <td>...</td>\n      <td>...</td>\n      <td>...</td>\n      <td>...</td>\n    </tr>\n    <tr>\n      <th>453653098</th>\n      <td>104853812</td>\n      <td>60529.097656</td>\n      <td>1</td>\n      <td>23.212770</td>\n      <td>4.839886</td>\n      <td>0</td>\n    </tr>\n    <tr>\n      <th>453653099</th>\n      <td>104853812</td>\n      <td>60540.089844</td>\n      <td>5</td>\n      <td>72.878868</td>\n      <td>21.710670</td>\n      <td>0</td>\n    </tr>\n    <tr>\n      <th>453653100</th>\n      <td>104853812</td>\n      <td>60544.035156</td>\n      <td>3</td>\n      <td>48.116238</td>\n      <td>5.542284</td>\n      <td>1</td>\n    </tr>\n    <tr>\n      <th>453653101</th>\n      <td>104853812</td>\n      <td>60548.023438</td>\n      <td>1</td>\n      <td>2.741242</td>\n      <td>4.695860</td>\n      <td>0</td>\n    </tr>\n    <tr>\n      <th>453653102</th>\n      <td>104853812</td>\n      <td>60554.035156</td>\n      <td>0</td>\n      <td>-15.886432</td>\n      <td>26.944405</td>\n      <td>0</td>\n    </tr>\n  </tbody>\n</table>\n<p>453653103 rows × 6 columns</p>\n</div>"
     },
     "execution_count": 5,
     "metadata": {},
     "output_type": "execute_result"
    }
   ],
   "source": [
    "test_df = pd.read_csv(\n",
    "    os.path.join(path, \"plasticc\", \"test_set.csv\"),\n",
    "    names=list(dtypes.keys()),\n",
    "    header=1,\n",
    "    dtype=dtypes)\n",
    "\n",
    "test_df"
   ],
   "metadata": {
    "collapsed": false,
    "pycharm": {
     "name": "#%%\n"
    }
   }
  },
  {
   "cell_type": "code",
   "execution_count": 6,
   "outputs": [
    {
     "name": "stdout",
     "output_type": "stream",
     "text": [
      "test_set!\n",
      "dtypes  = \n",
      " object_id      int32\n",
      "mjd          float32\n",
      "passband       int32\n",
      "flux         float32\n",
      "flux_err     float32\n",
      "detected       int32\n",
      "dtype: object\n",
      "dtypes shape =  (6,)\n",
      "minimum  = \n",
      " object_id    1.300000e+01\n",
      "mjd          5.958004e+04\n",
      "passband     0.000000e+00\n",
      "flux        -8.935484e+06\n",
      "flux_err     4.637530e-01\n",
      "detected     0.000000e+00\n",
      "dtype: float64\n",
      "minimum shape =  (6,)\n",
      "maximum  = \n",
      " object_id    1.307881e+08\n",
      "mjd          6.067436e+04\n",
      "passband     5.000000e+00\n",
      "flux         1.367579e+07\n",
      "flux_err     1.379167e+07\n",
      "detected     1.000000e+00\n",
      "dtype: float64\n",
      "maximum shape =  (6,)\n",
      "result  = \n",
      "              types           min           max\n",
      "object_id    int32  1.300000e+01  1.307881e+08\n",
      "mjd        float32  5.958004e+04  6.067436e+04\n",
      "passband     int32  0.000000e+00  5.000000e+00\n",
      "flux       float32 -8.935484e+06  1.367579e+07\n",
      "flux_err   float32  4.637530e-01  1.379167e+07\n",
      "detected     int32  0.000000e+00  1.000000e+00\n",
      "result shape =  (6, 3)\n",
      "\"object_id\": (\"int32\", 13, 130788054),\n",
      "\"mjd\": (\"float32\", 59580.03515625, 60674.36328125),\n",
      "\"passband\": (\"int32\", 0, 5),\n",
      "\"flux\": (\"float32\", -8935484.0, 13675792.0),\n",
      "\"flux_err\": (\"float32\", 0.46375301480293274, 13791667.0),\n",
      "\"detected\": (\"int32\", 0, 1),\n"
     ]
    }
   ],
   "source": [
    "print(\"test_set!\")\n",
    "print_all(test_df)"
   ],
   "metadata": {
    "collapsed": false,
    "pycharm": {
     "name": "#%%\n"
    }
   }
  },
  {
   "cell_type": "code",
   "execution_count": 7,
   "outputs": [
    {
     "data": {
      "text/plain": "      object_id          ra       decl       gal_l      gal_b  ddf  \\\n0           615  349.046051 -61.943836  320.796539 -51.753708    1   \n1           713   53.085938 -27.784405  223.525513 -54.460747    1   \n2           730   33.574219  -6.579593  170.455582 -61.548218    1   \n3           745    0.189873 -45.586655  328.254456 -68.969299    1   \n4          1124  352.711273 -63.823658  316.922302 -51.059402    1   \n...         ...         ...        ...         ...        ...  ...   \n7843  130739978   26.718750 -14.940303  172.342697 -72.255676    0   \n7844  130755807  120.101349 -62.696659  275.742950 -16.509747    0   \n7845  130762946  203.108109 -55.682144  308.728912   6.727511    0   \n7846  130772921   79.101562 -35.501846  239.172241 -33.827843    0   \n7847  130779836  301.992188 -17.426323   25.102987 -24.511101    0   \n\n      hostgal_specz  hostgal_photoz  hostgal_photoz_err    distmod  mwebv  \\\n0            0.0000          0.0000              0.0000        NaN  0.017   \n1            1.8181          1.6267              0.2552  45.406300  0.007   \n2            0.2320          0.2262              0.0157  40.256100  0.021   \n3            0.3037          0.2813              1.1523  40.795101  0.007   \n4            0.1934          0.2415              0.0176  40.416599  0.024   \n...             ...             ...                 ...        ...    ...   \n7843         0.0000          0.0000              0.0000        NaN  0.013   \n7844         0.1725          2.5606              1.1146  46.610802  0.136   \n7845         0.0000          0.0000              0.0000        NaN  0.430   \n7846         0.0000          0.0000              0.0000        NaN  0.034   \n7847         0.0000          0.0000              0.0000        NaN  0.091   \n\n      target  \n0         92  \n1         88  \n2         42  \n3         90  \n4         90  \n...      ...  \n7843      65  \n7844      90  \n7845      16  \n7846      65  \n7847       6  \n\n[7848 rows x 12 columns]",
      "text/html": "<div>\n<style scoped>\n    .dataframe tbody tr th:only-of-type {\n        vertical-align: middle;\n    }\n\n    .dataframe tbody tr th {\n        vertical-align: top;\n    }\n\n    .dataframe thead th {\n        text-align: right;\n    }\n</style>\n<table border=\"1\" class=\"dataframe\">\n  <thead>\n    <tr style=\"text-align: right;\">\n      <th></th>\n      <th>object_id</th>\n      <th>ra</th>\n      <th>decl</th>\n      <th>gal_l</th>\n      <th>gal_b</th>\n      <th>ddf</th>\n      <th>hostgal_specz</th>\n      <th>hostgal_photoz</th>\n      <th>hostgal_photoz_err</th>\n      <th>distmod</th>\n      <th>mwebv</th>\n      <th>target</th>\n    </tr>\n  </thead>\n  <tbody>\n    <tr>\n      <th>0</th>\n      <td>615</td>\n      <td>349.046051</td>\n      <td>-61.943836</td>\n      <td>320.796539</td>\n      <td>-51.753708</td>\n      <td>1</td>\n      <td>0.0000</td>\n      <td>0.0000</td>\n      <td>0.0000</td>\n      <td>NaN</td>\n      <td>0.017</td>\n      <td>92</td>\n    </tr>\n    <tr>\n      <th>1</th>\n      <td>713</td>\n      <td>53.085938</td>\n      <td>-27.784405</td>\n      <td>223.525513</td>\n      <td>-54.460747</td>\n      <td>1</td>\n      <td>1.8181</td>\n      <td>1.6267</td>\n      <td>0.2552</td>\n      <td>45.406300</td>\n      <td>0.007</td>\n      <td>88</td>\n    </tr>\n    <tr>\n      <th>2</th>\n      <td>730</td>\n      <td>33.574219</td>\n      <td>-6.579593</td>\n      <td>170.455582</td>\n      <td>-61.548218</td>\n      <td>1</td>\n      <td>0.2320</td>\n      <td>0.2262</td>\n      <td>0.0157</td>\n      <td>40.256100</td>\n      <td>0.021</td>\n      <td>42</td>\n    </tr>\n    <tr>\n      <th>3</th>\n      <td>745</td>\n      <td>0.189873</td>\n      <td>-45.586655</td>\n      <td>328.254456</td>\n      <td>-68.969299</td>\n      <td>1</td>\n      <td>0.3037</td>\n      <td>0.2813</td>\n      <td>1.1523</td>\n      <td>40.795101</td>\n      <td>0.007</td>\n      <td>90</td>\n    </tr>\n    <tr>\n      <th>4</th>\n      <td>1124</td>\n      <td>352.711273</td>\n      <td>-63.823658</td>\n      <td>316.922302</td>\n      <td>-51.059402</td>\n      <td>1</td>\n      <td>0.1934</td>\n      <td>0.2415</td>\n      <td>0.0176</td>\n      <td>40.416599</td>\n      <td>0.024</td>\n      <td>90</td>\n    </tr>\n    <tr>\n      <th>...</th>\n      <td>...</td>\n      <td>...</td>\n      <td>...</td>\n      <td>...</td>\n      <td>...</td>\n      <td>...</td>\n      <td>...</td>\n      <td>...</td>\n      <td>...</td>\n      <td>...</td>\n      <td>...</td>\n      <td>...</td>\n    </tr>\n    <tr>\n      <th>7843</th>\n      <td>130739978</td>\n      <td>26.718750</td>\n      <td>-14.940303</td>\n      <td>172.342697</td>\n      <td>-72.255676</td>\n      <td>0</td>\n      <td>0.0000</td>\n      <td>0.0000</td>\n      <td>0.0000</td>\n      <td>NaN</td>\n      <td>0.013</td>\n      <td>65</td>\n    </tr>\n    <tr>\n      <th>7844</th>\n      <td>130755807</td>\n      <td>120.101349</td>\n      <td>-62.696659</td>\n      <td>275.742950</td>\n      <td>-16.509747</td>\n      <td>0</td>\n      <td>0.1725</td>\n      <td>2.5606</td>\n      <td>1.1146</td>\n      <td>46.610802</td>\n      <td>0.136</td>\n      <td>90</td>\n    </tr>\n    <tr>\n      <th>7845</th>\n      <td>130762946</td>\n      <td>203.108109</td>\n      <td>-55.682144</td>\n      <td>308.728912</td>\n      <td>6.727511</td>\n      <td>0</td>\n      <td>0.0000</td>\n      <td>0.0000</td>\n      <td>0.0000</td>\n      <td>NaN</td>\n      <td>0.430</td>\n      <td>16</td>\n    </tr>\n    <tr>\n      <th>7846</th>\n      <td>130772921</td>\n      <td>79.101562</td>\n      <td>-35.501846</td>\n      <td>239.172241</td>\n      <td>-33.827843</td>\n      <td>0</td>\n      <td>0.0000</td>\n      <td>0.0000</td>\n      <td>0.0000</td>\n      <td>NaN</td>\n      <td>0.034</td>\n      <td>65</td>\n    </tr>\n    <tr>\n      <th>7847</th>\n      <td>130779836</td>\n      <td>301.992188</td>\n      <td>-17.426323</td>\n      <td>25.102987</td>\n      <td>-24.511101</td>\n      <td>0</td>\n      <td>0.0000</td>\n      <td>0.0000</td>\n      <td>0.0000</td>\n      <td>NaN</td>\n      <td>0.091</td>\n      <td>6</td>\n    </tr>\n  </tbody>\n</table>\n<p>7848 rows × 12 columns</p>\n</div>"
     },
     "execution_count": 7,
     "metadata": {},
     "output_type": "execute_result"
    }
   ],
   "source": [
    "train_meta_df = pd.read_csv(\n",
    "    os.path.join(path, \"plasticc\", \"training_set_metadata.csv\"), dtype=meta_dtypes)\n",
    "\n",
    "train_meta_df"
   ],
   "metadata": {
    "collapsed": false,
    "pycharm": {
     "name": "#%%\n"
    }
   }
  },
  {
   "cell_type": "code",
   "execution_count": 8,
   "outputs": [
    {
     "name": "stdout",
     "output_type": "stream",
     "text": [
      "training_set_metadata!\n",
      "dtypes  = \n",
      " object_id               int32\n",
      "ra                    float32\n",
      "decl                  float32\n",
      "gal_l                 float32\n",
      "gal_b                 float32\n",
      "ddf                     int32\n",
      "hostgal_specz         float32\n",
      "hostgal_photoz        float32\n",
      "hostgal_photoz_err    float32\n",
      "distmod               float32\n",
      "mwebv                 float32\n",
      "target                  int32\n",
      "dtype: object\n",
      "dtypes shape =  (12,)\n",
      "minimum  = \n",
      " object_id             615.000000\n",
      "ra                      0.175781\n",
      "decl                  -64.760857\n",
      "gal_l                   0.107681\n",
      "gal_b                 -89.615570\n",
      "ddf                     0.000000\n",
      "hostgal_specz           0.000000\n",
      "hostgal_photoz          0.000000\n",
      "hostgal_photoz_err      0.000000\n",
      "distmod                31.996099\n",
      "mwebv                   0.003000\n",
      "target                  6.000000\n",
      "dtype: float64\n",
      "minimum shape =  (12,)\n",
      "maximum  = \n",
      " object_id             1.307798e+08\n",
      "ra                    3.598242e+02\n",
      "decl                  4.181528e+00\n",
      "gal_l                 3.599438e+02\n",
      "gal_b                 6.593132e+01\n",
      "ddf                   1.000000e+00\n",
      "hostgal_specz         3.445100e+00\n",
      "hostgal_photoz        2.999400e+00\n",
      "hostgal_photoz_err    1.734800e+00\n",
      "distmod               4.702560e+01\n",
      "mwebv                 2.747000e+00\n",
      "target                9.500000e+01\n",
      "dtype: float64\n",
      "maximum shape =  (12,)\n",
      "result  = \n",
      "                       types         min           max\n",
      "object_id             int32  615.000000  1.307798e+08\n",
      "ra                  float32    0.175781  3.598242e+02\n",
      "decl                float32  -64.760857  4.181528e+00\n",
      "gal_l               float32    0.107681  3.599438e+02\n",
      "gal_b               float32  -89.615570  6.593132e+01\n",
      "ddf                   int32    0.000000  1.000000e+00\n",
      "hostgal_specz       float32    0.000000  3.445100e+00\n",
      "hostgal_photoz      float32    0.000000  2.999400e+00\n",
      "hostgal_photoz_err  float32    0.000000  1.734800e+00\n",
      "distmod             float32   31.996099  4.702560e+01\n",
      "mwebv               float32    0.003000  2.747000e+00\n",
      "target                int32    6.000000  9.500000e+01\n",
      "result shape =  (12, 3)\n",
      "\"object_id\": (\"int32\", 615, 130779836),\n",
      "\"ra\": (\"float32\", 0.1757809966802597, 359.82421875),\n",
      "\"decl\": (\"float32\", -64.76085662841797, 4.181528091430664),\n",
      "\"gal_l\": (\"float32\", 0.10768099874258041, 359.9438171386719),\n",
      "\"gal_b\": (\"float32\", -89.61557006835938, 65.93132019042969),\n",
      "\"ddf\": (\"int32\", 0, 1),\n",
      "\"hostgal_specz\": (\"float32\", 0.0, 3.4451000690460205),\n",
      "\"hostgal_photoz\": (\"float32\", 0.0, 2.9993999004364014),\n",
      "\"hostgal_photoz_err\": (\"float32\", 0.0, 1.7347999811172485),\n",
      "\"distmod\": (\"float32\", 31.9960994720459, 47.02560043334961),\n",
      "\"mwebv\": (\"float32\", 0.003000000026077032, 2.746999979019165),\n",
      "\"target\": (\"int32\", 6, 95),\n"
     ]
    }
   ],
   "source": [
    "print(\"training_set_metadata!\")\n",
    "print_all(train_meta_df)"
   ],
   "metadata": {
    "collapsed": false,
    "pycharm": {
     "name": "#%%\n"
    }
   }
  },
  {
   "cell_type": "code",
   "execution_count": 9,
   "outputs": [
    {
     "data": {
      "text/plain": "         object_id          ra       decl       gal_l      gal_b  ddf  \\\n0               13   34.453125  -5.229529  169.987076 -59.956184    1   \n1               14   33.398438  -4.331149  167.226334 -59.936550    1   \n2               17  348.529419 -61.755440  321.293976 -51.763351    1   \n3               23   34.804688  -5.829153  171.307861 -60.174400    1   \n4               34  351.321442 -64.198746  317.458984 -50.429932    1   \n...            ...         ...        ...         ...        ...  ...   \n3492885  130787966   67.500000 -23.806295  221.904510 -40.940434    0   \n3492886  130787971   98.789062 -32.974850  241.585052 -17.528223    0   \n3492887  130787974  133.945312 -21.542267  247.349365  15.069447    0   \n3492888  130788053  199.160156  -0.895283  316.152863  61.327850    0   \n3492889  130788054   10.019531 -32.797169  325.696106 -83.821007    0   \n\n         hostgal_specz  hostgal_photoz  hostgal_photoz_err    distmod  mwebv  \n0               0.3048          0.3193              0.0542  41.112301  0.019  \n1                  NaN          0.6323              0.0179  42.877399  0.018  \n2                  NaN          0.8297              0.0605  43.599998  0.016  \n3                  NaN          0.6533              0.1479  42.964001  0.023  \n4               0.4557          0.4617              0.0122  42.054001  0.023  \n...                ...             ...                 ...        ...    ...  \n3492885            NaN          0.4493              0.9954  41.983601  0.036  \n3492886            NaN          0.6729              0.0614  43.041901  0.083  \n3492887            NaN          0.1211              0.0093  38.760399  0.136  \n3492888            NaN          0.4287              0.2616  41.862499  0.028  \n3492889            NaN          0.3625              0.7335  41.433300  0.013  \n\n[3492890 rows x 11 columns]",
      "text/html": "<div>\n<style scoped>\n    .dataframe tbody tr th:only-of-type {\n        vertical-align: middle;\n    }\n\n    .dataframe tbody tr th {\n        vertical-align: top;\n    }\n\n    .dataframe thead th {\n        text-align: right;\n    }\n</style>\n<table border=\"1\" class=\"dataframe\">\n  <thead>\n    <tr style=\"text-align: right;\">\n      <th></th>\n      <th>object_id</th>\n      <th>ra</th>\n      <th>decl</th>\n      <th>gal_l</th>\n      <th>gal_b</th>\n      <th>ddf</th>\n      <th>hostgal_specz</th>\n      <th>hostgal_photoz</th>\n      <th>hostgal_photoz_err</th>\n      <th>distmod</th>\n      <th>mwebv</th>\n    </tr>\n  </thead>\n  <tbody>\n    <tr>\n      <th>0</th>\n      <td>13</td>\n      <td>34.453125</td>\n      <td>-5.229529</td>\n      <td>169.987076</td>\n      <td>-59.956184</td>\n      <td>1</td>\n      <td>0.3048</td>\n      <td>0.3193</td>\n      <td>0.0542</td>\n      <td>41.112301</td>\n      <td>0.019</td>\n    </tr>\n    <tr>\n      <th>1</th>\n      <td>14</td>\n      <td>33.398438</td>\n      <td>-4.331149</td>\n      <td>167.226334</td>\n      <td>-59.936550</td>\n      <td>1</td>\n      <td>NaN</td>\n      <td>0.6323</td>\n      <td>0.0179</td>\n      <td>42.877399</td>\n      <td>0.018</td>\n    </tr>\n    <tr>\n      <th>2</th>\n      <td>17</td>\n      <td>348.529419</td>\n      <td>-61.755440</td>\n      <td>321.293976</td>\n      <td>-51.763351</td>\n      <td>1</td>\n      <td>NaN</td>\n      <td>0.8297</td>\n      <td>0.0605</td>\n      <td>43.599998</td>\n      <td>0.016</td>\n    </tr>\n    <tr>\n      <th>3</th>\n      <td>23</td>\n      <td>34.804688</td>\n      <td>-5.829153</td>\n      <td>171.307861</td>\n      <td>-60.174400</td>\n      <td>1</td>\n      <td>NaN</td>\n      <td>0.6533</td>\n      <td>0.1479</td>\n      <td>42.964001</td>\n      <td>0.023</td>\n    </tr>\n    <tr>\n      <th>4</th>\n      <td>34</td>\n      <td>351.321442</td>\n      <td>-64.198746</td>\n      <td>317.458984</td>\n      <td>-50.429932</td>\n      <td>1</td>\n      <td>0.4557</td>\n      <td>0.4617</td>\n      <td>0.0122</td>\n      <td>42.054001</td>\n      <td>0.023</td>\n    </tr>\n    <tr>\n      <th>...</th>\n      <td>...</td>\n      <td>...</td>\n      <td>...</td>\n      <td>...</td>\n      <td>...</td>\n      <td>...</td>\n      <td>...</td>\n      <td>...</td>\n      <td>...</td>\n      <td>...</td>\n      <td>...</td>\n    </tr>\n    <tr>\n      <th>3492885</th>\n      <td>130787966</td>\n      <td>67.500000</td>\n      <td>-23.806295</td>\n      <td>221.904510</td>\n      <td>-40.940434</td>\n      <td>0</td>\n      <td>NaN</td>\n      <td>0.4493</td>\n      <td>0.9954</td>\n      <td>41.983601</td>\n      <td>0.036</td>\n    </tr>\n    <tr>\n      <th>3492886</th>\n      <td>130787971</td>\n      <td>98.789062</td>\n      <td>-32.974850</td>\n      <td>241.585052</td>\n      <td>-17.528223</td>\n      <td>0</td>\n      <td>NaN</td>\n      <td>0.6729</td>\n      <td>0.0614</td>\n      <td>43.041901</td>\n      <td>0.083</td>\n    </tr>\n    <tr>\n      <th>3492887</th>\n      <td>130787974</td>\n      <td>133.945312</td>\n      <td>-21.542267</td>\n      <td>247.349365</td>\n      <td>15.069447</td>\n      <td>0</td>\n      <td>NaN</td>\n      <td>0.1211</td>\n      <td>0.0093</td>\n      <td>38.760399</td>\n      <td>0.136</td>\n    </tr>\n    <tr>\n      <th>3492888</th>\n      <td>130788053</td>\n      <td>199.160156</td>\n      <td>-0.895283</td>\n      <td>316.152863</td>\n      <td>61.327850</td>\n      <td>0</td>\n      <td>NaN</td>\n      <td>0.4287</td>\n      <td>0.2616</td>\n      <td>41.862499</td>\n      <td>0.028</td>\n    </tr>\n    <tr>\n      <th>3492889</th>\n      <td>130788054</td>\n      <td>10.019531</td>\n      <td>-32.797169</td>\n      <td>325.696106</td>\n      <td>-83.821007</td>\n      <td>0</td>\n      <td>NaN</td>\n      <td>0.3625</td>\n      <td>0.7335</td>\n      <td>41.433300</td>\n      <td>0.013</td>\n    </tr>\n  </tbody>\n</table>\n<p>3492890 rows × 11 columns</p>\n</div>"
     },
     "execution_count": 9,
     "metadata": {},
     "output_type": "execute_result"
    }
   ],
   "source": [
    "target = meta_dtypes.pop(\"target\")\n",
    "test_meta_df = pd.read_csv(\n",
    "    os.path.join(path, \"plasticc\", \"test_set_metadata.csv\"), dtype=meta_dtypes)\n",
    "\n",
    "test_meta_df"
   ],
   "metadata": {
    "collapsed": false,
    "pycharm": {
     "name": "#%%\n"
    }
   }
  },
  {
   "cell_type": "code",
   "execution_count": 10,
   "outputs": [
    {
     "name": "stdout",
     "output_type": "stream",
     "text": [
      "test_set_metadata!\n",
      "dtypes  = \n",
      " object_id               int32\n",
      "ra                    float32\n",
      "decl                  float32\n",
      "gal_l                 float32\n",
      "gal_b                 float32\n",
      "ddf                     int32\n",
      "hostgal_specz         float32\n",
      "hostgal_photoz        float32\n",
      "hostgal_photoz_err    float32\n",
      "distmod               float32\n",
      "mwebv                 float32\n",
      "dtype: object\n",
      "dtypes shape =  (11,)\n",
      "minimum  = \n",
      " object_id             13.000000\n",
      "ra                     0.000000\n",
      "decl                 -64.760857\n",
      "gal_l                  0.010369\n",
      "gal_b                -89.674416\n",
      "ddf                    0.000000\n",
      "hostgal_specz          0.007700\n",
      "hostgal_photoz         0.000000\n",
      "hostgal_photoz_err     0.000000\n",
      "distmod               27.646200\n",
      "mwebv                  0.002000\n",
      "dtype: float64\n",
      "minimum shape =  (11,)\n",
      "maximum  = \n",
      " object_id             1.307881e+08\n",
      "ra                    3.598242e+02\n",
      "decl                  4.181528e+00\n",
      "gal_l                 3.599955e+02\n",
      "gal_b                 6.606870e+01\n",
      "ddf                   1.000000e+00\n",
      "hostgal_specz         1.201400e+00\n",
      "hostgal_photoz        3.000000e+00\n",
      "hostgal_photoz_err    1.871400e+00\n",
      "distmod               4.702610e+01\n",
      "mwebv                 2.994000e+00\n",
      "dtype: float64\n",
      "maximum shape =  (11,)\n",
      "result  = \n",
      "                       types        min           max\n",
      "object_id             int32  13.000000  1.307881e+08\n",
      "ra                  float32   0.000000  3.598242e+02\n",
      "decl                float32 -64.760857  4.181528e+00\n",
      "gal_l               float32   0.010369  3.599955e+02\n",
      "gal_b               float32 -89.674416  6.606870e+01\n",
      "ddf                   int32   0.000000  1.000000e+00\n",
      "hostgal_specz       float32   0.007700  1.201400e+00\n",
      "hostgal_photoz      float32   0.000000  3.000000e+00\n",
      "hostgal_photoz_err  float32   0.000000  1.871400e+00\n",
      "distmod             float32  27.646200  4.702610e+01\n",
      "mwebv               float32   0.002000  2.994000e+00\n",
      "result shape =  (11, 3)\n",
      "\"object_id\": (\"int32\", 13, 130788054),\n",
      "\"ra\": (\"float32\", 0.0, 359.82421875),\n",
      "\"decl\": (\"float32\", -64.76085662841797, 4.181528091430664),\n",
      "\"gal_l\": (\"float32\", 0.010369000025093555, 359.99554443359375),\n",
      "\"gal_b\": (\"float32\", -89.6744155883789, 66.06869506835938),\n",
      "\"ddf\": (\"int32\", 0, 1),\n",
      "\"hostgal_specz\": (\"float32\", 0.007699999958276749, 1.2014000415802002),\n",
      "\"hostgal_photoz\": (\"float32\", 0.0, 3.0),\n",
      "\"hostgal_photoz_err\": (\"float32\", 0.0, 1.871399998664856),\n",
      "\"distmod\": (\"float32\", 27.64620018005371, 47.026100158691406),\n",
      "\"mwebv\": (\"float32\", 0.0020000000949949026, 2.99399995803833),\n"
     ]
    }
   ],
   "source": [
    "print(\"test_set_metadata!\")\n",
    "print_all(test_meta_df)"
   ],
   "metadata": {
    "collapsed": false,
    "pycharm": {
     "name": "#%%\n"
    }
   }
  },
  {
   "cell_type": "code",
   "execution_count": null,
   "outputs": [],
   "source": [],
   "metadata": {
    "collapsed": false,
    "pycharm": {
     "name": "#%%\n"
    }
   }
  }
 ],
 "metadata": {
  "kernelspec": {
   "display_name": "Python 3",
   "language": "python",
   "name": "python3"
  },
  "language_info": {
   "codemirror_mode": {
    "name": "ipython",
    "version": 2
   },
   "file_extension": ".py",
   "mimetype": "text/x-python",
   "name": "python",
   "nbconvert_exporter": "python",
   "pygments_lexer": "ipython2",
   "version": "2.7.6"
  }
 },
 "nbformat": 4,
 "nbformat_minor": 0
}