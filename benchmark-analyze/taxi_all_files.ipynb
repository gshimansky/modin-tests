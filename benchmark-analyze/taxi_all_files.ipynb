{
 "cells": [
  {
   "cell_type": "code",
   "execution_count": 5,
   "metadata": {
    "collapsed": true
   },
   "outputs": [
    {
     "data": {
      "text/plain": "['/localdisk/benchmark_datasets/taxi/trips_xaa.csv',\n '/localdisk/benchmark_datasets/taxi/trips_xab.csv',\n '/localdisk/benchmark_datasets/taxi/trips_xac.csv',\n '/localdisk/benchmark_datasets/taxi/trips_xad.csv',\n '/localdisk/benchmark_datasets/taxi/trips_xae.csv',\n '/localdisk/benchmark_datasets/taxi/trips_xaf.csv',\n '/localdisk/benchmark_datasets/taxi/trips_xag.csv',\n '/localdisk/benchmark_datasets/taxi/trips_xah.csv',\n '/localdisk/benchmark_datasets/taxi/trips_xai.csv',\n '/localdisk/benchmark_datasets/taxi/trips_xaj.csv',\n '/localdisk/benchmark_datasets/taxi/trips_xak.csv',\n '/localdisk/benchmark_datasets/taxi/trips_xal.csv',\n '/localdisk/benchmark_datasets/taxi/trips_xam.csv',\n '/localdisk/benchmark_datasets/taxi/trips_xan.csv',\n '/localdisk/benchmark_datasets/taxi/trips_xao.csv',\n '/localdisk/benchmark_datasets/taxi/trips_xap.csv',\n '/localdisk/benchmark_datasets/taxi/trips_xaq.csv',\n '/localdisk/benchmark_datasets/taxi/trips_xar.csv',\n '/localdisk/benchmark_datasets/taxi/trips_xas.csv',\n '/localdisk/benchmark_datasets/taxi/trips_xat.csv',\n '/localdisk/benchmark_datasets/taxi/trips_xau.csv',\n '/localdisk/benchmark_datasets/taxi/trips_xav.csv',\n '/localdisk/benchmark_datasets/taxi/trips_xaw.csv',\n '/localdisk/benchmark_datasets/taxi/trips_xax.csv',\n '/localdisk/benchmark_datasets/taxi/trips_xay.csv',\n '/localdisk/benchmark_datasets/taxi/trips_xaz.csv',\n '/localdisk/benchmark_datasets/taxi/trips_xba.csv',\n '/localdisk/benchmark_datasets/taxi/trips_xbb.csv',\n '/localdisk/benchmark_datasets/taxi/trips_xbc.csv',\n '/localdisk/benchmark_datasets/taxi/trips_xbd.csv',\n '/localdisk/benchmark_datasets/taxi/trips_xbe.csv',\n '/localdisk/benchmark_datasets/taxi/trips_xbf.csv',\n '/localdisk/benchmark_datasets/taxi/trips_xbg.csv',\n '/localdisk/benchmark_datasets/taxi/trips_xbh.csv',\n '/localdisk/benchmark_datasets/taxi/trips_xbi.csv',\n '/localdisk/benchmark_datasets/taxi/trips_xbj.csv',\n '/localdisk/benchmark_datasets/taxi/trips_xbk.csv',\n '/localdisk/benchmark_datasets/taxi/trips_xbl.csv',\n '/localdisk/benchmark_datasets/taxi/trips_xbm.csv',\n '/localdisk/benchmark_datasets/taxi/trips_xbn.csv',\n '/localdisk/benchmark_datasets/taxi/trips_xbo.csv',\n '/localdisk/benchmark_datasets/taxi/trips_xbp.csv',\n '/localdisk/benchmark_datasets/taxi/trips_xbq.csv',\n '/localdisk/benchmark_datasets/taxi/trips_xbr.csv',\n '/localdisk/benchmark_datasets/taxi/trips_xbs.csv',\n '/localdisk/benchmark_datasets/taxi/trips_xbt.csv',\n '/localdisk/benchmark_datasets/taxi/trips_xbu.csv',\n '/localdisk/benchmark_datasets/taxi/trips_xbv.csv',\n '/localdisk/benchmark_datasets/taxi/trips_xbw.csv',\n '/localdisk/benchmark_datasets/taxi/trips_xbx.csv',\n '/localdisk/benchmark_datasets/taxi/trips_xby.csv',\n '/localdisk/benchmark_datasets/taxi/trips_xbz.csv',\n '/localdisk/benchmark_datasets/taxi/trips_xca.csv',\n '/localdisk/benchmark_datasets/taxi/trips_xcb.csv',\n '/localdisk/benchmark_datasets/taxi/trips_xcc.csv',\n '/localdisk/benchmark_datasets/taxi/trips_xcd.csv',\n '/localdisk/benchmark_datasets/taxi/trips_xce.csv',\n '/localdisk/benchmark_datasets/taxi/trips_xcf.csv',\n '/localdisk/benchmark_datasets/taxi/trips_xcg.csv',\n '/localdisk/benchmark_datasets/taxi/trips_xch.csv',\n '/localdisk/benchmark_datasets/taxi/trips_xci.csv',\n '/localdisk/benchmark_datasets/taxi/trips_xcj.csv',\n '/localdisk/benchmark_datasets/taxi/trips_xck.csv',\n '/localdisk/benchmark_datasets/taxi/trips_xcl.csv',\n '/localdisk/benchmark_datasets/taxi/trips_xcm.csv',\n '/localdisk/benchmark_datasets/taxi/trips_xcn.csv',\n '/localdisk/benchmark_datasets/taxi/trips_xco.csv',\n '/localdisk/benchmark_datasets/taxi/trips_xcp.csv',\n '/localdisk/benchmark_datasets/taxi/trips_xcq.csv',\n '/localdisk/benchmark_datasets/taxi/trips_xcr.csv',\n '/localdisk/benchmark_datasets/taxi/trips_xcs.csv',\n '/localdisk/benchmark_datasets/taxi/trips_xct.csv',\n '/localdisk/benchmark_datasets/taxi/trips_xcu.csv',\n '/localdisk/benchmark_datasets/taxi/trips_xcv.csv']"
     },
     "execution_count": 5,
     "metadata": {},
     "output_type": "execute_result"
    }
   ],
   "source": [
    "import os.path\n",
    "import glob\n",
    "import modin.pandas as pd\n",
    "\n",
    "columns_names = [\n",
    "    \"trip_id\",\n",
    "    \"vendor_id\",\n",
    "    \"pickup_datetime\",\n",
    "    \"dropoff_datetime\",\n",
    "    \"store_and_fwd_flag\",\n",
    "    \"rate_code_id\",\n",
    "    \"pickup_longitude\",\n",
    "    \"pickup_latitude\",\n",
    "    \"dropoff_longitude\",\n",
    "    \"dropoff_latitude\",\n",
    "    \"passenger_count\",\n",
    "    \"trip_distance\",\n",
    "    \"fare_amount\",\n",
    "    \"extra\",\n",
    "    \"mta_tax\",\n",
    "    \"tip_amount\",\n",
    "    \"tolls_amount\",\n",
    "    \"ehail_fee\",\n",
    "    \"improvement_surcharge\",\n",
    "    \"total_amount\",\n",
    "    \"payment_type\",\n",
    "    \"trip_type\",\n",
    "    \"pickup\",\n",
    "    \"dropoff\",\n",
    "    \"cab_type\",\n",
    "    \"precipitation\",\n",
    "    \"snow_depth\",\n",
    "    \"snowfall\",\n",
    "    \"max_temperature\",\n",
    "    \"min_temperature\",\n",
    "    \"average_wind_speed\",\n",
    "    \"pickup_nyct2010_gid\",\n",
    "    \"pickup_ctlabel\",\n",
    "    \"pickup_borocode\",\n",
    "    \"pickup_boroname\",\n",
    "    \"pickup_ct2010\",\n",
    "    \"pickup_boroct2010\",\n",
    "    \"pickup_cdeligibil\",\n",
    "    \"pickup_ntacode\",\n",
    "    \"pickup_ntaname\",\n",
    "    \"pickup_puma\",\n",
    "    \"dropoff_nyct2010_gid\",\n",
    "    \"dropoff_ctlabel\",\n",
    "    \"dropoff_borocode\",\n",
    "    \"dropoff_boroname\",\n",
    "    \"dropoff_ct2010\",\n",
    "    \"dropoff_boroct2010\",\n",
    "    \"dropoff_cdeligibil\",\n",
    "    \"dropoff_ntacode\",\n",
    "    \"dropoff_ntaname\",\n",
    "    \"dropoff_puma\",\n",
    "]\n",
    "\n",
    "path = \"/localdisk/benchmark_datasets\"\n",
    "files = sorted(glob.glob(os.path.join(path, \"taxi\", \"trips_x??.csv\")))\n",
    "files"
   ]
  },
  {
   "cell_type": "code",
   "execution_count": 6,
   "outputs": [
    {
     "name": "stdout",
     "output_type": "stream",
     "text": [
      "Reading /localdisk/benchmark_datasets/taxi/trips_xaa.csv\n"
     ]
    },
    {
     "name": "stderr",
     "output_type": "stream",
     "text": [
      "UserWarning: `read_*` implementation has mismatches with pandas:\n",
      "Data types of partitions are different! Please refer to the troubleshooting section of the Modin documentation to fix this issue.\n"
     ]
    },
    {
     "name": "stdout",
     "output_type": "stream",
     "text": [
      "Reading /localdisk/benchmark_datasets/taxi/trips_xab.csv\n",
      "Reading /localdisk/benchmark_datasets/taxi/trips_xac.csv\n",
      "Reading /localdisk/benchmark_datasets/taxi/trips_xad.csv\n",
      "Reading /localdisk/benchmark_datasets/taxi/trips_xae.csv\n",
      "Reading /localdisk/benchmark_datasets/taxi/trips_xaf.csv\n",
      "Reading /localdisk/benchmark_datasets/taxi/trips_xag.csv\n",
      "Reading /localdisk/benchmark_datasets/taxi/trips_xah.csv\n",
      "Reading /localdisk/benchmark_datasets/taxi/trips_xai.csv\n",
      "Reading /localdisk/benchmark_datasets/taxi/trips_xaj.csv\n",
      "Reading /localdisk/benchmark_datasets/taxi/trips_xak.csv\n",
      "Reading /localdisk/benchmark_datasets/taxi/trips_xal.csv\n",
      "Reading /localdisk/benchmark_datasets/taxi/trips_xam.csv\n",
      "Reading /localdisk/benchmark_datasets/taxi/trips_xan.csv\n",
      "Reading /localdisk/benchmark_datasets/taxi/trips_xao.csv\n",
      "Reading /localdisk/benchmark_datasets/taxi/trips_xap.csv\n",
      "Reading /localdisk/benchmark_datasets/taxi/trips_xaq.csv\n",
      "Reading /localdisk/benchmark_datasets/taxi/trips_xar.csv\n",
      "Reading /localdisk/benchmark_datasets/taxi/trips_xas.csv\n",
      "Reading /localdisk/benchmark_datasets/taxi/trips_xat.csv\n",
      "Reading /localdisk/benchmark_datasets/taxi/trips_xau.csv\n",
      "Reading /localdisk/benchmark_datasets/taxi/trips_xav.csv\n",
      "Reading /localdisk/benchmark_datasets/taxi/trips_xaw.csv\n",
      "Reading /localdisk/benchmark_datasets/taxi/trips_xax.csv\n",
      "Reading /localdisk/benchmark_datasets/taxi/trips_xay.csv\n",
      "Reading /localdisk/benchmark_datasets/taxi/trips_xaz.csv\n",
      "Reading /localdisk/benchmark_datasets/taxi/trips_xba.csv\n",
      "Reading /localdisk/benchmark_datasets/taxi/trips_xbb.csv\n",
      "Reading /localdisk/benchmark_datasets/taxi/trips_xbc.csv\n",
      "Reading /localdisk/benchmark_datasets/taxi/trips_xbd.csv\n",
      "Reading /localdisk/benchmark_datasets/taxi/trips_xbe.csv\n",
      "Reading /localdisk/benchmark_datasets/taxi/trips_xbf.csv\n",
      "Reading /localdisk/benchmark_datasets/taxi/trips_xbg.csv\n",
      "Reading /localdisk/benchmark_datasets/taxi/trips_xbh.csv\n",
      "Reading /localdisk/benchmark_datasets/taxi/trips_xbi.csv\n",
      "Reading /localdisk/benchmark_datasets/taxi/trips_xbj.csv\n",
      "Reading /localdisk/benchmark_datasets/taxi/trips_xbk.csv\n",
      "Reading /localdisk/benchmark_datasets/taxi/trips_xbl.csv\n",
      "Reading /localdisk/benchmark_datasets/taxi/trips_xbm.csv\n",
      "Reading /localdisk/benchmark_datasets/taxi/trips_xbn.csv\n",
      "Reading /localdisk/benchmark_datasets/taxi/trips_xbo.csv\n",
      "Reading /localdisk/benchmark_datasets/taxi/trips_xbp.csv\n",
      "Reading /localdisk/benchmark_datasets/taxi/trips_xbq.csv\n",
      "Reading /localdisk/benchmark_datasets/taxi/trips_xbr.csv\n",
      "Reading /localdisk/benchmark_datasets/taxi/trips_xbs.csv\n",
      "Reading /localdisk/benchmark_datasets/taxi/trips_xbt.csv\n",
      "Reading /localdisk/benchmark_datasets/taxi/trips_xbu.csv\n",
      "Reading /localdisk/benchmark_datasets/taxi/trips_xbv.csv\n",
      "Reading /localdisk/benchmark_datasets/taxi/trips_xbw.csv\n",
      "Reading /localdisk/benchmark_datasets/taxi/trips_xbx.csv\n",
      "Reading /localdisk/benchmark_datasets/taxi/trips_xby.csv\n",
      "Reading /localdisk/benchmark_datasets/taxi/trips_xbz.csv\n",
      "Reading /localdisk/benchmark_datasets/taxi/trips_xca.csv\n",
      "Reading /localdisk/benchmark_datasets/taxi/trips_xcb.csv\n",
      "Reading /localdisk/benchmark_datasets/taxi/trips_xcc.csv\n",
      "Reading /localdisk/benchmark_datasets/taxi/trips_xcd.csv\n",
      "Reading /localdisk/benchmark_datasets/taxi/trips_xce.csv\n",
      "Reading /localdisk/benchmark_datasets/taxi/trips_xcf.csv\n",
      "Reading /localdisk/benchmark_datasets/taxi/trips_xcg.csv\n",
      "Reading /localdisk/benchmark_datasets/taxi/trips_xch.csv\n",
      "Reading /localdisk/benchmark_datasets/taxi/trips_xci.csv\n",
      "Reading /localdisk/benchmark_datasets/taxi/trips_xcj.csv\n",
      "Reading /localdisk/benchmark_datasets/taxi/trips_xck.csv\n",
      "Reading /localdisk/benchmark_datasets/taxi/trips_xcl.csv\n",
      "Reading /localdisk/benchmark_datasets/taxi/trips_xcm.csv\n",
      "Reading /localdisk/benchmark_datasets/taxi/trips_xcn.csv\n",
      "Reading /localdisk/benchmark_datasets/taxi/trips_xco.csv\n",
      "Reading /localdisk/benchmark_datasets/taxi/trips_xcp.csv\n",
      "Reading /localdisk/benchmark_datasets/taxi/trips_xcq.csv\n",
      "Reading /localdisk/benchmark_datasets/taxi/trips_xcr.csv\n",
      "Reading /localdisk/benchmark_datasets/taxi/trips_xcs.csv\n",
      "Reading /localdisk/benchmark_datasets/taxi/trips_xct.csv\n",
      "Reading /localdisk/benchmark_datasets/taxi/trips_xcu.csv\n",
      "Reading /localdisk/benchmark_datasets/taxi/trips_xcv.csv\n"
     ]
    }
   ],
   "source": [
    "result = None\n",
    "for f in files:\n",
    "    print(\"Reading\", f)\n",
    "    df = pd.read_csv(f, names=columns_names,\n",
    "        parse_dates=[\"pickup_datetime\", \"dropoff_datetime\"])\n",
    "    if result is None:\n",
    "        result = df\n",
    "    else:\n",
    "        result = pd.concat([result, df], copy=False, ignore_index=True)\n",
    "\n",
    "result.shape"
   ],
   "metadata": {
    "collapsed": false,
    "pycharm": {
     "name": "#%%\n"
    }
   }
  },
  {
   "cell_type": "code",
   "execution_count": 8,
   "outputs": [
    {
     "data": {
      "text/plain": "(1464785771, 51)"
     },
     "execution_count": 8,
     "metadata": {},
     "output_type": "execute_result"
    }
   ],
   "source": [
    "result.shape"
   ],
   "metadata": {
    "collapsed": false,
    "pycharm": {
     "name": "#%%\n"
    }
   }
  },
  {
   "cell_type": "code",
   "execution_count": 9,
   "outputs": [
    {
     "data": {
      "text/plain": "trip_id                  1.000000e+00\nrate_code_id             0.000000e+00\npickup_longitude        -3.509015e+03\npickup_latitude         -3.579139e+03\ndropoff_longitude       -3.579139e+03\ndropoff_latitude        -3.579139e+03\npassenger_count          0.000000e+00\ntrip_distance           -4.084012e+07\nfare_amount             -1.430000e+03\nextra                   -7.900000e+01\nmta_tax                 -4.950000e+01\ntip_amount              -4.400000e+02\ntolls_amount            -9.999000e+01\nehail_fee                         NaN\nimprovement_surcharge   -3.000000e-01\ntotal_amount            -1.430000e+03\ntrip_type                1.000000e+00\nprecipitation            0.000000e+00\nsnow_depth               0.000000e+00\nsnowfall                 0.000000e+00\nmax_temperature          1.500000e+01\nmin_temperature         -1.000000e+00\naverage_wind_speed       2.200000e-01\npickup_nyct2010_gid      1.000000e+00\npickup_ctlabel           1.000000e+00\npickup_borocode          1.000000e+00\npickup_ct2010            1.000000e+02\npickup_boroct2010        1.000100e+06\npickup_puma              3.701000e+03\ndropoff_nyct2010_gid     1.000000e+00\ndropoff_ctlabel          1.000000e+00\ndropoff_borocode         1.000000e+00\ndropoff_ct2010           1.000000e+02\ndropoff_boroct2010       1.000100e+06\ndropoff_puma             3.701000e+03\ndtype: float64"
     },
     "execution_count": 9,
     "metadata": {},
     "output_type": "execute_result"
    }
   ],
   "source": [
    "result.min()"
   ],
   "metadata": {
    "collapsed": false,
    "pycharm": {
     "name": "#%%\n"
    }
   }
  },
  {
   "cell_type": "code",
   "execution_count": 10,
   "outputs": [
    {
     "data": {
      "text/plain": "trip_id                  1.464786e+09\nrate_code_id             2.520000e+02\npickup_longitude         3.570224e+03\npickup_latitude          3.577136e+03\ndropoff_longitude        3.460427e+03\ndropoff_latitude         3.577135e+03\npassenger_count          2.550000e+02\ntrip_distance            1.986230e+08\nfare_amount              8.616045e+05\nextra                    1.400000e+04\nmta_tax                  2.500000e+02\ntip_amount               3.950589e+06\ntolls_amount             7.999920e+03\nehail_fee                         NaN\nimprovement_surcharge    1.376300e+02\ntotal_amount             3.950612e+06\ntrip_type                2.000000e+00\nprecipitation            5.810000e+00\nsnow_depth               2.300000e+01\nsnowfall                 2.730000e+01\nmax_temperature          1.040000e+02\nmin_temperature          8.400000e+01\naverage_wind_speed       1.879000e+01\npickup_nyct2010_gid      2.167000e+03\npickup_ctlabel           9.901000e+03\npickup_borocode          5.000000e+00\npickup_ct2010            9.901000e+05\npickup_boroct2010        5.990100e+06\npickup_puma              4.114000e+03\ndropoff_nyct2010_gid     2.167000e+03\ndropoff_ctlabel          9.901000e+03\ndropoff_borocode         5.000000e+00\ndropoff_ct2010           9.901000e+05\ndropoff_boroct2010       5.990100e+06\ndropoff_puma             4.114000e+03\ndtype: float64"
     },
     "execution_count": 10,
     "metadata": {},
     "output_type": "execute_result"
    }
   ],
   "source": [
    "result.max()"
   ],
   "metadata": {
    "collapsed": false,
    "pycharm": {
     "name": "#%%\n"
    }
   }
  }
 ],
 "metadata": {
  "kernelspec": {
   "display_name": "Python 3",
   "language": "python",
   "name": "python3"
  },
  "language_info": {
   "codemirror_mode": {
    "name": "ipython",
    "version": 2
   },
   "file_extension": ".py",
   "mimetype": "text/x-python",
   "name": "python",
   "nbconvert_exporter": "python",
   "pygments_lexer": "ipython2",
   "version": "2.7.6"
  }
 },
 "nbformat": 4,
 "nbformat_minor": 0
}