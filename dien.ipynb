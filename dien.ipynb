{
 "cells": [
  {
   "cell_type": "code",
   "execution_count": 43,
   "id": "portable-parks",
   "metadata": {},
   "outputs": [
    {
     "data": {
      "text/plain": "     a    b    c\n0  222  1.0  5.5\n1  111  2.0  4.4\n2  333  3.0  3.3\n3  222  4.0  2.2\n4  111  5.0  1.1\n5  222  6.0  0.1",
      "text/html": "<div>\n<style scoped>\n    .dataframe tbody tr th:only-of-type {\n        vertical-align: middle;\n    }\n\n    .dataframe tbody tr th {\n        vertical-align: top;\n    }\n\n    .dataframe thead th {\n        text-align: right;\n    }\n</style>\n<table border=\"1\" class=\"dataframe\">\n  <thead>\n    <tr style=\"text-align: right;\">\n      <th></th>\n      <th>a</th>\n      <th>b</th>\n      <th>c</th>\n    </tr>\n  </thead>\n  <tbody>\n    <tr>\n      <th>0</th>\n      <td>222</td>\n      <td>1.0</td>\n      <td>5.5</td>\n    </tr>\n    <tr>\n      <th>1</th>\n      <td>111</td>\n      <td>2.0</td>\n      <td>4.4</td>\n    </tr>\n    <tr>\n      <th>2</th>\n      <td>333</td>\n      <td>3.0</td>\n      <td>3.3</td>\n    </tr>\n    <tr>\n      <th>3</th>\n      <td>222</td>\n      <td>4.0</td>\n      <td>2.2</td>\n    </tr>\n    <tr>\n      <th>4</th>\n      <td>111</td>\n      <td>5.0</td>\n      <td>1.1</td>\n    </tr>\n    <tr>\n      <th>5</th>\n      <td>222</td>\n      <td>6.0</td>\n      <td>0.1</td>\n    </tr>\n  </tbody>\n</table>\n</div>"
     },
     "execution_count": 43,
     "metadata": {},
     "output_type": "execute_result"
    }
   ],
   "source": [
    "import pandas\n",
    "import numpy as np\n",
    "\n",
    "frame_data = {\n",
    "    \"a\": [\"222\", \"111\", \"333\", \"222\", \"111\", \"222\"],\n",
    "    \"b\": [1.0, 2.0, 3.0, 4.0, 5.0, 6.0],\n",
    "    \"c\": [5.5, 4.4, 3.3, 2.2, 1.1, 0.1],\n",
    "}\n",
    "df = pandas.DataFrame(frame_data)\n",
    "\n",
    "df"
   ]
  },
  {
   "cell_type": "code",
   "execution_count": 23,
   "id": "detailed-regard",
   "metadata": {},
   "outputs": [
    {
     "data": {
      "text/plain": "2"
     },
     "execution_count": 23,
     "metadata": {},
     "output_type": "execute_result"
    }
   ],
   "source": [
    "df[\"a\"].iloc[-1]"
   ]
  },
  {
   "cell_type": "code",
   "execution_count": 44,
   "id": "prime-joseph",
   "metadata": {},
   "outputs": [
    {
     "data": {
      "text/plain": "     a    b    c\n1  111  2.0  4.4\n4  111  5.0  1.1\n0  222  1.0  5.5\n3  222  4.0  2.2\n5  222  6.0  0.1\n2  333  3.0  3.3",
      "text/html": "<div>\n<style scoped>\n    .dataframe tbody tr th:only-of-type {\n        vertical-align: middle;\n    }\n\n    .dataframe tbody tr th {\n        vertical-align: top;\n    }\n\n    .dataframe thead th {\n        text-align: right;\n    }\n</style>\n<table border=\"1\" class=\"dataframe\">\n  <thead>\n    <tr style=\"text-align: right;\">\n      <th></th>\n      <th>a</th>\n      <th>b</th>\n      <th>c</th>\n    </tr>\n  </thead>\n  <tbody>\n    <tr>\n      <th>1</th>\n      <td>111</td>\n      <td>2.0</td>\n      <td>4.4</td>\n    </tr>\n    <tr>\n      <th>4</th>\n      <td>111</td>\n      <td>5.0</td>\n      <td>1.1</td>\n    </tr>\n    <tr>\n      <th>0</th>\n      <td>222</td>\n      <td>1.0</td>\n      <td>5.5</td>\n    </tr>\n    <tr>\n      <th>3</th>\n      <td>222</td>\n      <td>4.0</td>\n      <td>2.2</td>\n    </tr>\n    <tr>\n      <th>5</th>\n      <td>222</td>\n      <td>6.0</td>\n      <td>0.1</td>\n    </tr>\n    <tr>\n      <th>2</th>\n      <td>333</td>\n      <td>3.0</td>\n      <td>3.3</td>\n    </tr>\n  </tbody>\n</table>\n</div>"
     },
     "execution_count": 44,
     "metadata": {},
     "output_type": "execute_result"
    }
   ],
   "source": [
    "gb = df.groupby(\"a\")\n",
    "df.sort_values(\"a\")"
   ]
  },
  {
   "cell_type": "code",
   "execution_count": 25,
   "id": "comic-antibody",
   "metadata": {},
   "outputs": [
    {
     "data": {
      "text/plain": "     b    c\na          \n1  5.0  1.1\n2  6.0  0.1",
      "text/html": "<div>\n<style scoped>\n    .dataframe tbody tr th:only-of-type {\n        vertical-align: middle;\n    }\n\n    .dataframe tbody tr th {\n        vertical-align: top;\n    }\n\n    .dataframe thead th {\n        text-align: right;\n    }\n</style>\n<table border=\"1\" class=\"dataframe\">\n  <thead>\n    <tr style=\"text-align: right;\">\n      <th></th>\n      <th>b</th>\n      <th>c</th>\n    </tr>\n    <tr>\n      <th>a</th>\n      <th></th>\n      <th></th>\n    </tr>\n  </thead>\n  <tbody>\n    <tr>\n      <th>1</th>\n      <td>5.0</td>\n      <td>1.1</td>\n    </tr>\n    <tr>\n      <th>2</th>\n      <td>6.0</td>\n      <td>0.1</td>\n    </tr>\n  </tbody>\n</table>\n</div>"
     },
     "execution_count": 25,
     "metadata": {},
     "output_type": "execute_result"
    }
   ],
   "source": [
    "def applier(gbdf):\n",
    "    if len(gbdf) > 1:\n",
    "        return gbdf.iloc[-1]\n",
    "    else:\n",
    "        return None\n",
    "        #return df.iloc[:0]\n",
    "\n",
    "res = gb.agg(applier).dropna(axis=0)\n",
    "res"
   ]
  },
  {
   "cell_type": "code",
   "execution_count": 26,
   "id": "humanitarian-abraham",
   "metadata": {},
   "outputs": [
    {
     "data": {
      "text/plain": "   index  a    b    c\n0      0  1  5.0  1.1\n1      1  2  6.0  0.1",
      "text/html": "<div>\n<style scoped>\n    .dataframe tbody tr th:only-of-type {\n        vertical-align: middle;\n    }\n\n    .dataframe tbody tr th {\n        vertical-align: top;\n    }\n\n    .dataframe thead th {\n        text-align: right;\n    }\n</style>\n<table border=\"1\" class=\"dataframe\">\n  <thead>\n    <tr style=\"text-align: right;\">\n      <th></th>\n      <th>index</th>\n      <th>a</th>\n      <th>b</th>\n      <th>c</th>\n    </tr>\n  </thead>\n  <tbody>\n    <tr>\n      <th>0</th>\n      <td>0</td>\n      <td>1</td>\n      <td>5.0</td>\n      <td>1.1</td>\n    </tr>\n    <tr>\n      <th>1</th>\n      <td>1</td>\n      <td>2</td>\n      <td>6.0</td>\n      <td>0.1</td>\n    </tr>\n  </tbody>\n</table>\n</div>"
     },
     "execution_count": 26,
     "metadata": {},
     "output_type": "execute_result"
    }
   ],
   "source": [
    "res.reset_index(drop=False).reset_index(drop=False)"
   ]
  },
  {
   "cell_type": "code",
   "execution_count": 27,
   "id": "natural-replica",
   "metadata": {},
   "outputs": [
    {
     "data": {
      "text/plain": "   a    b    c\n0  2  1.0  5.5\n1  1  2.0  4.4\n3  2  4.0  2.2\n4  1  5.0  1.1\n5  2  6.0  0.1",
      "text/html": "<div>\n<style scoped>\n    .dataframe tbody tr th:only-of-type {\n        vertical-align: middle;\n    }\n\n    .dataframe tbody tr th {\n        vertical-align: top;\n    }\n\n    .dataframe thead th {\n        text-align: right;\n    }\n</style>\n<table border=\"1\" class=\"dataframe\">\n  <thead>\n    <tr style=\"text-align: right;\">\n      <th></th>\n      <th>a</th>\n      <th>b</th>\n      <th>c</th>\n    </tr>\n  </thead>\n  <tbody>\n    <tr>\n      <th>0</th>\n      <td>2</td>\n      <td>1.0</td>\n      <td>5.5</td>\n    </tr>\n    <tr>\n      <th>1</th>\n      <td>1</td>\n      <td>2.0</td>\n      <td>4.4</td>\n    </tr>\n    <tr>\n      <th>3</th>\n      <td>2</td>\n      <td>4.0</td>\n      <td>2.2</td>\n    </tr>\n    <tr>\n      <th>4</th>\n      <td>1</td>\n      <td>5.0</td>\n      <td>1.1</td>\n    </tr>\n    <tr>\n      <th>5</th>\n      <td>2</td>\n      <td>6.0</td>\n      <td>0.1</td>\n    </tr>\n  </tbody>\n</table>\n</div>"
     },
     "execution_count": 27,
     "metadata": {},
     "output_type": "execute_result"
    }
   ],
   "source": [
    "gb.filter(lambda x: len(x) > 1)"
   ]
  },
  {
   "cell_type": "code",
   "execution_count": 28,
   "id": "comic-shark",
   "metadata": {},
   "outputs": [
    {
     "data": {
      "text/plain": "0    3\n1    2\n2    1\n3    3\n4    2\n5    3\nName: a, dtype: int64"
     },
     "execution_count": 28,
     "metadata": {},
     "output_type": "execute_result"
    }
   ],
   "source": [
    "gb1 = df[\"a\"].groupby(df[\"a\"])\n",
    "#df[gb1.transform('size') > 1]\n",
    "gb1.transform('size')"
   ]
  },
  {
   "cell_type": "code",
   "execution_count": 29,
   "id": "smart-induction",
   "metadata": {},
   "outputs": [
    {
     "name": "stdout",
     "output_type": "stream",
     "text": [
      "1\n",
      "2\n",
      "3\n",
      "len =  1\n"
     ]
    },
    {
     "data": {
      "text/plain": "     a    b    c  label\n0  1.0  5.0  1.1    0.0\n1  2.0  6.0  0.1    1.0",
      "text/html": "<div>\n<style scoped>\n    .dataframe tbody tr th:only-of-type {\n        vertical-align: middle;\n    }\n\n    .dataframe tbody tr th {\n        vertical-align: top;\n    }\n\n    .dataframe thead th {\n        text-align: right;\n    }\n</style>\n<table border=\"1\" class=\"dataframe\">\n  <thead>\n    <tr style=\"text-align: right;\">\n      <th></th>\n      <th>a</th>\n      <th>b</th>\n      <th>c</th>\n      <th>label</th>\n    </tr>\n  </thead>\n  <tbody>\n    <tr>\n      <th>0</th>\n      <td>1.0</td>\n      <td>5.0</td>\n      <td>1.1</td>\n      <td>0.0</td>\n    </tr>\n    <tr>\n      <th>1</th>\n      <td>2.0</td>\n      <td>6.0</td>\n      <td>0.1</td>\n      <td>1.0</td>\n    </tr>\n  </tbody>\n</table>\n</div>"
     },
     "execution_count": 29,
     "metadata": {},
     "output_type": "execute_result"
    }
   ],
   "source": [
    "df1 = pandas.DataFrame()\n",
    "count = 0\n",
    "for name, group in gb:\n",
    "    print(name)\n",
    "    if len(group) > 1:\n",
    "        df1 = df1.append({\"label\": count, \"a\": name, \"b\": group[\"b\"].iloc[-1], \"c\": group[\"c\"].iloc[-1]}, ignore_index=True)\n",
    "    else:\n",
    "        print(\"len = \", len(group))\n",
    "    count += 1\n",
    "df1"
   ]
  },
  {
   "cell_type": "code",
   "execution_count": 46,
   "id": "owned-classification",
   "metadata": {},
   "outputs": [
    {
     "data": {
      "text/plain": "     a   b1               b2\n0  111  5.0       [2.0, 5.0]\n1  222  6.0  [1.0, 4.0, 6.0]\n2  333  3.0            [3.0]",
      "text/html": "<div>\n<style scoped>\n    .dataframe tbody tr th:only-of-type {\n        vertical-align: middle;\n    }\n\n    .dataframe tbody tr th {\n        vertical-align: top;\n    }\n\n    .dataframe thead th {\n        text-align: right;\n    }\n</style>\n<table border=\"1\" class=\"dataframe\">\n  <thead>\n    <tr style=\"text-align: right;\">\n      <th></th>\n      <th>a</th>\n      <th>b1</th>\n      <th>b2</th>\n    </tr>\n  </thead>\n  <tbody>\n    <tr>\n      <th>0</th>\n      <td>111</td>\n      <td>5.0</td>\n      <td>[2.0, 5.0]</td>\n    </tr>\n    <tr>\n      <th>1</th>\n      <td>222</td>\n      <td>6.0</td>\n      <td>[1.0, 4.0, 6.0]</td>\n    </tr>\n    <tr>\n      <th>2</th>\n      <td>333</td>\n      <td>3.0</td>\n      <td>[3.0]</td>\n    </tr>\n  </tbody>\n</table>\n</div>"
     },
     "execution_count": 46,
     "metadata": {},
     "output_type": "execute_result"
    }
   ],
   "source": [
    "gb.agg(b1=(\"b\", \"last\"), b2=(\"b\", list)).reset_index()"
   ]
  },
  {
   "cell_type": "code",
   "execution_count": 55,
   "outputs": [
    {
     "data": {
      "text/plain": "Series([], Name: a, dtype: object)"
     },
     "execution_count": 55,
     "metadata": {},
     "output_type": "execute_result"
    }
   ],
   "source": [
    "df[\"a\"][:-7]"
   ],
   "metadata": {
    "collapsed": false,
    "pycharm": {
     "name": "#%%\n"
    }
   }
  },
  {
   "cell_type": "code",
   "execution_count": null,
   "outputs": [],
   "source": [],
   "metadata": {
    "collapsed": false,
    "pycharm": {
     "name": "#%%\n"
    }
   }
  }
 ],
 "metadata": {
  "kernelspec": {
   "display_name": "Python 3",
   "language": "python",
   "name": "python3"
  },
  "language_info": {
   "codemirror_mode": {
    "name": "ipython",
    "version": 3
   },
   "file_extension": ".py",
   "mimetype": "text/x-python",
   "name": "python",
   "nbconvert_exporter": "python",
   "pygments_lexer": "ipython3",
   "version": "3.8.6"
  }
 },
 "nbformat": 4,
 "nbformat_minor": 5
}