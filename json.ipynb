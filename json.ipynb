{
 "cells": [
  {
   "cell_type": "code",
   "execution_count": 21,
   "metadata": {
    "collapsed": true
   },
   "outputs": [],
   "source": [
    "import json\n",
    "\n",
    "fpath = \"/home/gregory/work/dien_preprocessing_pandas/pickle_files/\"\n",
    "#meta_file = open(fpath + 'meta_Books.json', 'r')\n",
    "#meta_json = json.load(file)\n",
    "reviews_file = open(fpath + 'reviews_Books_head.json', 'r')\n",
    "reviews_json = json.load(reviews_file)"
   ]
  }
 ],
 "metadata": {
  "kernelspec": {
   "name": "pycharm-d6584f12",
   "language": "python",
   "display_name": "PyCharm (modin-tests)"
  },
  "language_info": {
   "codemirror_mode": {
    "name": "ipython",
    "version": 2
   },
   "file_extension": ".py",
   "mimetype": "text/x-python",
   "name": "python",
   "nbconvert_exporter": "python",
   "pygments_lexer": "ipython2",
   "version": "2.7.6"
  }
 },
 "nbformat": 4,
 "nbformat_minor": 0
}