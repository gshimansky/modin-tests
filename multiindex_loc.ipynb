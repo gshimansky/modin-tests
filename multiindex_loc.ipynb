{
 "cells": [
  {
   "cell_type": "code",
   "execution_count": 1,
   "metadata": {},
   "outputs": [
    {
     "data": {
      "text/plain": "1st          1.1             2.2             3.3             4.4            \n2nd            1   2   3   4   1   2   3   4   1   2   3   4   1   2   3   4\nfirst second                                                                \nbar   one     81  62  53  47  17  60  77  80  39  66  17   4  25  57  92  87\n      two     89  19  27  26  61  98   2  65  78  56  34  90  14  91  32  19\n      three   81   6  70  56  77   8  67  96  68  40   5  84  44  81  85  10\n      four    16  27  47  35  65  60  36  78  61   0  54   3  87  80  26  40\nbaz   one     19  32  78  80  60  69  45  63  31  97  75   1  64  71  19  61\n      two     74  20  60  11  95  13  84  29  95   9  34  29  92   7  66  67\n      three   46  55  71  67  62  22  28  59   4  65   0  85  42  20  15  84\n      four    76  59  39  78  16   0   2  39  48  46  56  80  86  10  13  91\nfoo   one     91  60   1  22  37  22  72  31  62  29  89  31  82  16   1  63\n      two     50  36  57  65  68  63  86  10  96  22  30  26  36  93  94  72\n      three   47  85  90  67  78   3  15  57  28  58  47   0  22  30  59  20\n      four    95  98  45  63   4  19  67   8  70  37  34  63  14  58  72   0\nqux   one     55   6  34  65  65  67  19  70  45  12   0  83  36  88  93  39\n      two     56  11  33  33  82  72  87  47  89  86  57  87  39  55  43  17\n      three   53  93   5  32  22  86  99  57  47   9  88  34  32  64  85  61\n      four    77  76  81  76  70   4   4  50   6  35  67   6  18  57  96  71",
      "text/html": "<div>\n<style scoped>\n    .dataframe tbody tr th:only-of-type {\n        vertical-align: middle;\n    }\n\n    .dataframe tbody tr th {\n        vertical-align: top;\n    }\n\n    .dataframe thead tr th {\n        text-align: left;\n    }\n\n    .dataframe thead tr:last-of-type th {\n        text-align: right;\n    }\n</style>\n<table border=\"1\" class=\"dataframe\">\n  <thead>\n    <tr>\n      <th></th>\n      <th>1st</th>\n      <th colspan=\"4\" halign=\"left\">1.1</th>\n      <th colspan=\"4\" halign=\"left\">2.2</th>\n      <th colspan=\"4\" halign=\"left\">3.3</th>\n      <th colspan=\"4\" halign=\"left\">4.4</th>\n    </tr>\n    <tr>\n      <th></th>\n      <th>2nd</th>\n      <th>1</th>\n      <th>2</th>\n      <th>3</th>\n      <th>4</th>\n      <th>1</th>\n      <th>2</th>\n      <th>3</th>\n      <th>4</th>\n      <th>1</th>\n      <th>2</th>\n      <th>3</th>\n      <th>4</th>\n      <th>1</th>\n      <th>2</th>\n      <th>3</th>\n      <th>4</th>\n    </tr>\n    <tr>\n      <th>first</th>\n      <th>second</th>\n      <th></th>\n      <th></th>\n      <th></th>\n      <th></th>\n      <th></th>\n      <th></th>\n      <th></th>\n      <th></th>\n      <th></th>\n      <th></th>\n      <th></th>\n      <th></th>\n      <th></th>\n      <th></th>\n      <th></th>\n      <th></th>\n    </tr>\n  </thead>\n  <tbody>\n    <tr>\n      <th rowspan=\"4\" valign=\"top\">bar</th>\n      <th>one</th>\n      <td>81</td>\n      <td>62</td>\n      <td>53</td>\n      <td>47</td>\n      <td>17</td>\n      <td>60</td>\n      <td>77</td>\n      <td>80</td>\n      <td>39</td>\n      <td>66</td>\n      <td>17</td>\n      <td>4</td>\n      <td>25</td>\n      <td>57</td>\n      <td>92</td>\n      <td>87</td>\n    </tr>\n    <tr>\n      <th>two</th>\n      <td>89</td>\n      <td>19</td>\n      <td>27</td>\n      <td>26</td>\n      <td>61</td>\n      <td>98</td>\n      <td>2</td>\n      <td>65</td>\n      <td>78</td>\n      <td>56</td>\n      <td>34</td>\n      <td>90</td>\n      <td>14</td>\n      <td>91</td>\n      <td>32</td>\n      <td>19</td>\n    </tr>\n    <tr>\n      <th>three</th>\n      <td>81</td>\n      <td>6</td>\n      <td>70</td>\n      <td>56</td>\n      <td>77</td>\n      <td>8</td>\n      <td>67</td>\n      <td>96</td>\n      <td>68</td>\n      <td>40</td>\n      <td>5</td>\n      <td>84</td>\n      <td>44</td>\n      <td>81</td>\n      <td>85</td>\n      <td>10</td>\n    </tr>\n    <tr>\n      <th>four</th>\n      <td>16</td>\n      <td>27</td>\n      <td>47</td>\n      <td>35</td>\n      <td>65</td>\n      <td>60</td>\n      <td>36</td>\n      <td>78</td>\n      <td>61</td>\n      <td>0</td>\n      <td>54</td>\n      <td>3</td>\n      <td>87</td>\n      <td>80</td>\n      <td>26</td>\n      <td>40</td>\n    </tr>\n    <tr>\n      <th rowspan=\"4\" valign=\"top\">baz</th>\n      <th>one</th>\n      <td>19</td>\n      <td>32</td>\n      <td>78</td>\n      <td>80</td>\n      <td>60</td>\n      <td>69</td>\n      <td>45</td>\n      <td>63</td>\n      <td>31</td>\n      <td>97</td>\n      <td>75</td>\n      <td>1</td>\n      <td>64</td>\n      <td>71</td>\n      <td>19</td>\n      <td>61</td>\n    </tr>\n    <tr>\n      <th>two</th>\n      <td>74</td>\n      <td>20</td>\n      <td>60</td>\n      <td>11</td>\n      <td>95</td>\n      <td>13</td>\n      <td>84</td>\n      <td>29</td>\n      <td>95</td>\n      <td>9</td>\n      <td>34</td>\n      <td>29</td>\n      <td>92</td>\n      <td>7</td>\n      <td>66</td>\n      <td>67</td>\n    </tr>\n    <tr>\n      <th>three</th>\n      <td>46</td>\n      <td>55</td>\n      <td>71</td>\n      <td>67</td>\n      <td>62</td>\n      <td>22</td>\n      <td>28</td>\n      <td>59</td>\n      <td>4</td>\n      <td>65</td>\n      <td>0</td>\n      <td>85</td>\n      <td>42</td>\n      <td>20</td>\n      <td>15</td>\n      <td>84</td>\n    </tr>\n    <tr>\n      <th>four</th>\n      <td>76</td>\n      <td>59</td>\n      <td>39</td>\n      <td>78</td>\n      <td>16</td>\n      <td>0</td>\n      <td>2</td>\n      <td>39</td>\n      <td>48</td>\n      <td>46</td>\n      <td>56</td>\n      <td>80</td>\n      <td>86</td>\n      <td>10</td>\n      <td>13</td>\n      <td>91</td>\n    </tr>\n    <tr>\n      <th rowspan=\"4\" valign=\"top\">foo</th>\n      <th>one</th>\n      <td>91</td>\n      <td>60</td>\n      <td>1</td>\n      <td>22</td>\n      <td>37</td>\n      <td>22</td>\n      <td>72</td>\n      <td>31</td>\n      <td>62</td>\n      <td>29</td>\n      <td>89</td>\n      <td>31</td>\n      <td>82</td>\n      <td>16</td>\n      <td>1</td>\n      <td>63</td>\n    </tr>\n    <tr>\n      <th>two</th>\n      <td>50</td>\n      <td>36</td>\n      <td>57</td>\n      <td>65</td>\n      <td>68</td>\n      <td>63</td>\n      <td>86</td>\n      <td>10</td>\n      <td>96</td>\n      <td>22</td>\n      <td>30</td>\n      <td>26</td>\n      <td>36</td>\n      <td>93</td>\n      <td>94</td>\n      <td>72</td>\n    </tr>\n    <tr>\n      <th>three</th>\n      <td>47</td>\n      <td>85</td>\n      <td>90</td>\n      <td>67</td>\n      <td>78</td>\n      <td>3</td>\n      <td>15</td>\n      <td>57</td>\n      <td>28</td>\n      <td>58</td>\n      <td>47</td>\n      <td>0</td>\n      <td>22</td>\n      <td>30</td>\n      <td>59</td>\n      <td>20</td>\n    </tr>\n    <tr>\n      <th>four</th>\n      <td>95</td>\n      <td>98</td>\n      <td>45</td>\n      <td>63</td>\n      <td>4</td>\n      <td>19</td>\n      <td>67</td>\n      <td>8</td>\n      <td>70</td>\n      <td>37</td>\n      <td>34</td>\n      <td>63</td>\n      <td>14</td>\n      <td>58</td>\n      <td>72</td>\n      <td>0</td>\n    </tr>\n    <tr>\n      <th rowspan=\"4\" valign=\"top\">qux</th>\n      <th>one</th>\n      <td>55</td>\n      <td>6</td>\n      <td>34</td>\n      <td>65</td>\n      <td>65</td>\n      <td>67</td>\n      <td>19</td>\n      <td>70</td>\n      <td>45</td>\n      <td>12</td>\n      <td>0</td>\n      <td>83</td>\n      <td>36</td>\n      <td>88</td>\n      <td>93</td>\n      <td>39</td>\n    </tr>\n    <tr>\n      <th>two</th>\n      <td>56</td>\n      <td>11</td>\n      <td>33</td>\n      <td>33</td>\n      <td>82</td>\n      <td>72</td>\n      <td>87</td>\n      <td>47</td>\n      <td>89</td>\n      <td>86</td>\n      <td>57</td>\n      <td>87</td>\n      <td>39</td>\n      <td>55</td>\n      <td>43</td>\n      <td>17</td>\n    </tr>\n    <tr>\n      <th>three</th>\n      <td>53</td>\n      <td>93</td>\n      <td>5</td>\n      <td>32</td>\n      <td>22</td>\n      <td>86</td>\n      <td>99</td>\n      <td>57</td>\n      <td>47</td>\n      <td>9</td>\n      <td>88</td>\n      <td>34</td>\n      <td>32</td>\n      <td>64</td>\n      <td>85</td>\n      <td>61</td>\n    </tr>\n    <tr>\n      <th>four</th>\n      <td>77</td>\n      <td>76</td>\n      <td>81</td>\n      <td>76</td>\n      <td>70</td>\n      <td>4</td>\n      <td>4</td>\n      <td>50</td>\n      <td>6</td>\n      <td>35</td>\n      <td>67</td>\n      <td>6</td>\n      <td>18</td>\n      <td>57</td>\n      <td>96</td>\n      <td>71</td>\n    </tr>\n  </tbody>\n</table>\n</div>"
     },
     "execution_count": 1,
     "metadata": {},
     "output_type": "execute_result"
    }
   ],
   "source": [
    "import pandas\n",
    "import numpy as np\n",
    "index_tuples = [\n",
    "    (\"bar\", \"one\"),\n",
    "    (\"bar\", \"two\"),\n",
    "    (\"bar\", \"three\"),\n",
    "    (\"bar\", \"four\"),\n",
    "    (\"baz\", \"one\"),\n",
    "    (\"baz\", \"two\"),\n",
    "    (\"baz\", \"three\"),\n",
    "    (\"baz\", \"four\"),\n",
    "    (\"foo\", \"one\"),\n",
    "    (\"foo\", \"two\"),\n",
    "    (\"foo\", \"three\"),\n",
    "    (\"foo\", \"four\"),\n",
    "    (\"qux\", \"one\"),\n",
    "    (\"qux\", \"two\"),\n",
    "    (\"qux\", \"three\"),\n",
    "    (\"qux\", \"four\"),\n",
    "]\n",
    "\n",
    "column_tuples = [\n",
    "    (1.1, 1),\n",
    "    (1.1, 2),\n",
    "    (1.1, 3),\n",
    "    (1.1, 4),\n",
    "    (2.2, 1),\n",
    "    (2.2, 2),\n",
    "    (2.2, 3),\n",
    "    (2.2, 4),\n",
    "    (3.3, 1),\n",
    "    (3.3, 2),\n",
    "    (3.3, 3),\n",
    "    (3.3, 4),\n",
    "    (4.4, 1),\n",
    "    (4.4, 2),\n",
    "    (4.4, 3),\n",
    "    (4.4, 4)\n",
    "]\n",
    "\n",
    "pandas_index = pandas.MultiIndex.from_tuples(index_tuples, names=[\"first\", \"second\"])\n",
    "pandas_columns = pandas.MultiIndex.from_tuples(column_tuples, names=[\"1st\", \"2nd\"])\n",
    "frame_data = np.random.randint(0, 100, size=(16, 16))\n",
    "pandas_df = pandas.DataFrame(\n",
    "    frame_data,\n",
    "    index=pandas_index,\n",
    "    columns=[\"col{}\".format(i) for i in range(16)],\n",
    ")\n",
    "pandas_df.columns = pandas_columns\n",
    "pandas_df"
   ]
  },
  {
   "cell_type": "code",
   "execution_count": 2,
   "metadata": {},
   "outputs": [
    {
     "data": {
      "text/plain": "1st          1.1         2.2             3.3        \n2nd            2   3   4   1   2   3   4   1   2   3\nfirst second                                        \nbar   two     19  27  26  61  98   2  65  78  56  34\nbaz   four    59  39  78  16   0   2  39  48  46  56\n      one     32  78  80  60  69  45  63  31  97  75\n      three   55  71  67  62  22  28  59   4  65   0\n      two     20  60  11  95  13  84  29  95   9  34\nfoo   four    98  45  63   4  19  67   8  70  37  34\n      one     60   1  22  37  22  72  31  62  29  89\n      three   85  90  67  78   3  15  57  28  58  47",
      "text/html": "<div>\n<style scoped>\n    .dataframe tbody tr th:only-of-type {\n        vertical-align: middle;\n    }\n\n    .dataframe tbody tr th {\n        vertical-align: top;\n    }\n\n    .dataframe thead tr th {\n        text-align: left;\n    }\n\n    .dataframe thead tr:last-of-type th {\n        text-align: right;\n    }\n</style>\n<table border=\"1\" class=\"dataframe\">\n  <thead>\n    <tr>\n      <th></th>\n      <th>1st</th>\n      <th colspan=\"3\" halign=\"left\">1.1</th>\n      <th colspan=\"4\" halign=\"left\">2.2</th>\n      <th colspan=\"3\" halign=\"left\">3.3</th>\n    </tr>\n    <tr>\n      <th></th>\n      <th>2nd</th>\n      <th>2</th>\n      <th>3</th>\n      <th>4</th>\n      <th>1</th>\n      <th>2</th>\n      <th>3</th>\n      <th>4</th>\n      <th>1</th>\n      <th>2</th>\n      <th>3</th>\n    </tr>\n    <tr>\n      <th>first</th>\n      <th>second</th>\n      <th></th>\n      <th></th>\n      <th></th>\n      <th></th>\n      <th></th>\n      <th></th>\n      <th></th>\n      <th></th>\n      <th></th>\n      <th></th>\n    </tr>\n  </thead>\n  <tbody>\n    <tr>\n      <th>bar</th>\n      <th>two</th>\n      <td>19</td>\n      <td>27</td>\n      <td>26</td>\n      <td>61</td>\n      <td>98</td>\n      <td>2</td>\n      <td>65</td>\n      <td>78</td>\n      <td>56</td>\n      <td>34</td>\n    </tr>\n    <tr>\n      <th rowspan=\"4\" valign=\"top\">baz</th>\n      <th>four</th>\n      <td>59</td>\n      <td>39</td>\n      <td>78</td>\n      <td>16</td>\n      <td>0</td>\n      <td>2</td>\n      <td>39</td>\n      <td>48</td>\n      <td>46</td>\n      <td>56</td>\n    </tr>\n    <tr>\n      <th>one</th>\n      <td>32</td>\n      <td>78</td>\n      <td>80</td>\n      <td>60</td>\n      <td>69</td>\n      <td>45</td>\n      <td>63</td>\n      <td>31</td>\n      <td>97</td>\n      <td>75</td>\n    </tr>\n    <tr>\n      <th>three</th>\n      <td>55</td>\n      <td>71</td>\n      <td>67</td>\n      <td>62</td>\n      <td>22</td>\n      <td>28</td>\n      <td>59</td>\n      <td>4</td>\n      <td>65</td>\n      <td>0</td>\n    </tr>\n    <tr>\n      <th>two</th>\n      <td>20</td>\n      <td>60</td>\n      <td>11</td>\n      <td>95</td>\n      <td>13</td>\n      <td>84</td>\n      <td>29</td>\n      <td>95</td>\n      <td>9</td>\n      <td>34</td>\n    </tr>\n    <tr>\n      <th rowspan=\"3\" valign=\"top\">foo</th>\n      <th>four</th>\n      <td>98</td>\n      <td>45</td>\n      <td>63</td>\n      <td>4</td>\n      <td>19</td>\n      <td>67</td>\n      <td>8</td>\n      <td>70</td>\n      <td>37</td>\n      <td>34</td>\n    </tr>\n    <tr>\n      <th>one</th>\n      <td>60</td>\n      <td>1</td>\n      <td>22</td>\n      <td>37</td>\n      <td>22</td>\n      <td>72</td>\n      <td>31</td>\n      <td>62</td>\n      <td>29</td>\n      <td>89</td>\n    </tr>\n    <tr>\n      <th>three</th>\n      <td>85</td>\n      <td>90</td>\n      <td>67</td>\n      <td>78</td>\n      <td>3</td>\n      <td>15</td>\n      <td>57</td>\n      <td>28</td>\n      <td>58</td>\n      <td>47</td>\n    </tr>\n  </tbody>\n</table>\n</div>"
     },
     "execution_count": 2,
     "metadata": {},
     "output_type": "execute_result"
    }
   ],
   "source": [
    "pandas_df.sort_index().loc[(\"bar\", \"two\") : (\"foo\", \"three\"), (1.1, 2) : (3.3, 3)]"
   ]
  },
  {
   "cell_type": "code",
   "execution_count": 3,
   "metadata": {},
   "outputs": [
    {
     "ename": "TypeError",
     "evalue": "slice indices must be integers or None or have an __index__ method",
     "output_type": "error",
     "traceback": [
      "\u001B[0;31m---------------------------------------------------------------------------\u001B[0m",
      "\u001B[0;31mTypeError\u001B[0m                                 Traceback (most recent call last)",
      "\u001B[0;32m<ipython-input-3-aad95d5f6c1b>\u001B[0m in \u001B[0;36m<module>\u001B[0;34m\u001B[0m\n\u001B[0;32m----> 1\u001B[0;31m \u001B[0mpandas_df\u001B[0m\u001B[0;34m.\u001B[0m\u001B[0msort_index\u001B[0m\u001B[0;34m(\u001B[0m\u001B[0;34m)\u001B[0m\u001B[0;34m.\u001B[0m\u001B[0mloc\u001B[0m\u001B[0;34m[\u001B[0m\u001B[0;34m(\u001B[0m\u001B[0mslice\u001B[0m\u001B[0;34m(\u001B[0m\u001B[0;34m\"qux\"\u001B[0m\u001B[0;34m,\u001B[0m \u001B[0;34m\"bar\"\u001B[0m\u001B[0;34m,\u001B[0m \u001B[0;34m-\u001B[0m\u001B[0;36m2\u001B[0m\u001B[0;34m)\u001B[0m\u001B[0;34m,\u001B[0m \u001B[0mslice\u001B[0m\u001B[0;34m(\u001B[0m\u001B[0;34m\"one\"\u001B[0m\u001B[0;34m)\u001B[0m\u001B[0;34m)\u001B[0m\u001B[0;34m,\u001B[0m \u001B[0;34m(\u001B[0m\u001B[0mslice\u001B[0m\u001B[0;34m(\u001B[0m\u001B[0;36m3.3\u001B[0m\u001B[0;34m,\u001B[0m \u001B[0;36m1.1\u001B[0m\u001B[0;34m,\u001B[0m \u001B[0;34m-\u001B[0m\u001B[0;36m2\u001B[0m\u001B[0;34m)\u001B[0m\u001B[0;34m,\u001B[0m \u001B[0mslice\u001B[0m\u001B[0;34m(\u001B[0m\u001B[0;36m2\u001B[0m\u001B[0;34m,\u001B[0m \u001B[0;36m4\u001B[0m\u001B[0;34m,\u001B[0m \u001B[0;36m3\u001B[0m\u001B[0;34m)\u001B[0m\u001B[0;34m)\u001B[0m\u001B[0;34m]\u001B[0m\u001B[0;34m\u001B[0m\u001B[0;34m\u001B[0m\u001B[0m\n\u001B[0m\u001B[1;32m      2\u001B[0m \u001B[0;34m\u001B[0m\u001B[0m\n",
      "\u001B[0;32m~/work/miniconda3/envs/modin/lib/python3.8/site-packages/pandas/core/indexing.py\u001B[0m in \u001B[0;36m__getitem__\u001B[0;34m(self, key)\u001B[0m\n\u001B[1;32m    887\u001B[0m                     \u001B[0;31m# AttributeError for IntervalTree get_value\u001B[0m\u001B[0;34m\u001B[0m\u001B[0;34m\u001B[0m\u001B[0;34m\u001B[0m\u001B[0m\n\u001B[1;32m    888\u001B[0m                     \u001B[0;32mreturn\u001B[0m \u001B[0mself\u001B[0m\u001B[0;34m.\u001B[0m\u001B[0mobj\u001B[0m\u001B[0;34m.\u001B[0m\u001B[0m_get_value\u001B[0m\u001B[0;34m(\u001B[0m\u001B[0;34m*\u001B[0m\u001B[0mkey\u001B[0m\u001B[0;34m,\u001B[0m \u001B[0mtakeable\u001B[0m\u001B[0;34m=\u001B[0m\u001B[0mself\u001B[0m\u001B[0;34m.\u001B[0m\u001B[0m_takeable\u001B[0m\u001B[0;34m)\u001B[0m\u001B[0;34m\u001B[0m\u001B[0;34m\u001B[0m\u001B[0m\n\u001B[0;32m--> 889\u001B[0;31m             \u001B[0;32mreturn\u001B[0m \u001B[0mself\u001B[0m\u001B[0;34m.\u001B[0m\u001B[0m_getitem_tuple\u001B[0m\u001B[0;34m(\u001B[0m\u001B[0mkey\u001B[0m\u001B[0;34m)\u001B[0m\u001B[0;34m\u001B[0m\u001B[0;34m\u001B[0m\u001B[0m\n\u001B[0m\u001B[1;32m    890\u001B[0m         \u001B[0;32melse\u001B[0m\u001B[0;34m:\u001B[0m\u001B[0;34m\u001B[0m\u001B[0;34m\u001B[0m\u001B[0m\n\u001B[1;32m    891\u001B[0m             \u001B[0;31m# we by definition only have the 0th axis\u001B[0m\u001B[0;34m\u001B[0m\u001B[0;34m\u001B[0m\u001B[0;34m\u001B[0m\u001B[0m\n",
      "\u001B[0;32m~/work/miniconda3/envs/modin/lib/python3.8/site-packages/pandas/core/indexing.py\u001B[0m in \u001B[0;36m_getitem_tuple\u001B[0;34m(self, tup)\u001B[0m\n\u001B[1;32m   1058\u001B[0m     \u001B[0;32mdef\u001B[0m \u001B[0m_getitem_tuple\u001B[0m\u001B[0;34m(\u001B[0m\u001B[0mself\u001B[0m\u001B[0;34m,\u001B[0m \u001B[0mtup\u001B[0m\u001B[0;34m:\u001B[0m \u001B[0mTuple\u001B[0m\u001B[0;34m)\u001B[0m\u001B[0;34m:\u001B[0m\u001B[0;34m\u001B[0m\u001B[0;34m\u001B[0m\u001B[0m\n\u001B[1;32m   1059\u001B[0m         \u001B[0;32mwith\u001B[0m \u001B[0msuppress\u001B[0m\u001B[0;34m(\u001B[0m\u001B[0mIndexingError\u001B[0m\u001B[0;34m)\u001B[0m\u001B[0;34m:\u001B[0m\u001B[0;34m\u001B[0m\u001B[0;34m\u001B[0m\u001B[0m\n\u001B[0;32m-> 1060\u001B[0;31m             \u001B[0;32mreturn\u001B[0m \u001B[0mself\u001B[0m\u001B[0;34m.\u001B[0m\u001B[0m_getitem_lowerdim\u001B[0m\u001B[0;34m(\u001B[0m\u001B[0mtup\u001B[0m\u001B[0;34m)\u001B[0m\u001B[0;34m\u001B[0m\u001B[0;34m\u001B[0m\u001B[0m\n\u001B[0m\u001B[1;32m   1061\u001B[0m \u001B[0;34m\u001B[0m\u001B[0m\n\u001B[1;32m   1062\u001B[0m         \u001B[0;31m# no multi-index, so validate all of the indexers\u001B[0m\u001B[0;34m\u001B[0m\u001B[0;34m\u001B[0m\u001B[0;34m\u001B[0m\u001B[0m\n",
      "\u001B[0;32m~/work/miniconda3/envs/modin/lib/python3.8/site-packages/pandas/core/indexing.py\u001B[0m in \u001B[0;36m_getitem_lowerdim\u001B[0;34m(self, tup)\u001B[0m\n\u001B[1;32m    789\u001B[0m         \u001B[0;31m# we may have a nested tuples indexer here\u001B[0m\u001B[0;34m\u001B[0m\u001B[0;34m\u001B[0m\u001B[0;34m\u001B[0m\u001B[0m\n\u001B[1;32m    790\u001B[0m         \u001B[0;32mif\u001B[0m \u001B[0mself\u001B[0m\u001B[0;34m.\u001B[0m\u001B[0m_is_nested_tuple_indexer\u001B[0m\u001B[0;34m(\u001B[0m\u001B[0mtup\u001B[0m\u001B[0;34m)\u001B[0m\u001B[0;34m:\u001B[0m\u001B[0;34m\u001B[0m\u001B[0;34m\u001B[0m\u001B[0m\n\u001B[0;32m--> 791\u001B[0;31m             \u001B[0;32mreturn\u001B[0m \u001B[0mself\u001B[0m\u001B[0;34m.\u001B[0m\u001B[0m_getitem_nested_tuple\u001B[0m\u001B[0;34m(\u001B[0m\u001B[0mtup\u001B[0m\u001B[0;34m)\u001B[0m\u001B[0;34m\u001B[0m\u001B[0;34m\u001B[0m\u001B[0m\n\u001B[0m\u001B[1;32m    792\u001B[0m \u001B[0;34m\u001B[0m\u001B[0m\n\u001B[1;32m    793\u001B[0m         \u001B[0;31m# we maybe be using a tuple to represent multiple dimensions here\u001B[0m\u001B[0;34m\u001B[0m\u001B[0;34m\u001B[0m\u001B[0;34m\u001B[0m\u001B[0m\n",
      "\u001B[0;32m~/work/miniconda3/envs/modin/lib/python3.8/site-packages/pandas/core/indexing.py\u001B[0m in \u001B[0;36m_getitem_nested_tuple\u001B[0;34m(self, tup)\u001B[0m\n\u001B[1;32m    863\u001B[0m \u001B[0;34m\u001B[0m\u001B[0m\n\u001B[1;32m    864\u001B[0m             \u001B[0mcurrent_ndim\u001B[0m \u001B[0;34m=\u001B[0m \u001B[0mobj\u001B[0m\u001B[0;34m.\u001B[0m\u001B[0mndim\u001B[0m\u001B[0;34m\u001B[0m\u001B[0;34m\u001B[0m\u001B[0m\n\u001B[0;32m--> 865\u001B[0;31m             \u001B[0mobj\u001B[0m \u001B[0;34m=\u001B[0m \u001B[0mgetattr\u001B[0m\u001B[0;34m(\u001B[0m\u001B[0mobj\u001B[0m\u001B[0;34m,\u001B[0m \u001B[0mself\u001B[0m\u001B[0;34m.\u001B[0m\u001B[0mname\u001B[0m\u001B[0;34m)\u001B[0m\u001B[0;34m.\u001B[0m\u001B[0m_getitem_axis\u001B[0m\u001B[0;34m(\u001B[0m\u001B[0mkey\u001B[0m\u001B[0;34m,\u001B[0m \u001B[0maxis\u001B[0m\u001B[0;34m=\u001B[0m\u001B[0maxis\u001B[0m\u001B[0;34m)\u001B[0m\u001B[0;34m\u001B[0m\u001B[0;34m\u001B[0m\u001B[0m\n\u001B[0m\u001B[1;32m    866\u001B[0m             \u001B[0maxis\u001B[0m \u001B[0;34m+=\u001B[0m \u001B[0;36m1\u001B[0m\u001B[0;34m\u001B[0m\u001B[0;34m\u001B[0m\u001B[0m\n\u001B[1;32m    867\u001B[0m \u001B[0;34m\u001B[0m\u001B[0m\n",
      "\u001B[0;32m~/work/miniconda3/envs/modin/lib/python3.8/site-packages/pandas/core/indexing.py\u001B[0m in \u001B[0;36m_getitem_axis\u001B[0;34m(self, key, axis)\u001B[0m\n\u001B[1;32m   1115\u001B[0m             \u001B[0;31m# nested tuple slicing\u001B[0m\u001B[0;34m\u001B[0m\u001B[0;34m\u001B[0m\u001B[0;34m\u001B[0m\u001B[0m\n\u001B[1;32m   1116\u001B[0m             \u001B[0;32mif\u001B[0m \u001B[0mis_nested_tuple\u001B[0m\u001B[0;34m(\u001B[0m\u001B[0mkey\u001B[0m\u001B[0;34m,\u001B[0m \u001B[0mlabels\u001B[0m\u001B[0;34m)\u001B[0m\u001B[0;34m:\u001B[0m\u001B[0;34m\u001B[0m\u001B[0;34m\u001B[0m\u001B[0m\n\u001B[0;32m-> 1117\u001B[0;31m                 \u001B[0mlocs\u001B[0m \u001B[0;34m=\u001B[0m \u001B[0mlabels\u001B[0m\u001B[0;34m.\u001B[0m\u001B[0mget_locs\u001B[0m\u001B[0;34m(\u001B[0m\u001B[0mkey\u001B[0m\u001B[0;34m)\u001B[0m\u001B[0;34m\u001B[0m\u001B[0;34m\u001B[0m\u001B[0m\n\u001B[0m\u001B[1;32m   1118\u001B[0m                 \u001B[0mindexer\u001B[0m \u001B[0;34m=\u001B[0m \u001B[0;34m[\u001B[0m\u001B[0mslice\u001B[0m\u001B[0;34m(\u001B[0m\u001B[0;32mNone\u001B[0m\u001B[0;34m)\u001B[0m\u001B[0;34m]\u001B[0m \u001B[0;34m*\u001B[0m \u001B[0mself\u001B[0m\u001B[0;34m.\u001B[0m\u001B[0mndim\u001B[0m\u001B[0;34m\u001B[0m\u001B[0;34m\u001B[0m\u001B[0m\n\u001B[1;32m   1119\u001B[0m                 \u001B[0mindexer\u001B[0m\u001B[0;34m[\u001B[0m\u001B[0maxis\u001B[0m\u001B[0;34m]\u001B[0m \u001B[0;34m=\u001B[0m \u001B[0mlocs\u001B[0m\u001B[0;34m\u001B[0m\u001B[0;34m\u001B[0m\u001B[0m\n",
      "\u001B[0;32m~/work/miniconda3/envs/modin/lib/python3.8/site-packages/pandas/core/indexes/multi.py\u001B[0m in \u001B[0;36mget_locs\u001B[0;34m(self, seq)\u001B[0m\n\u001B[1;32m   3314\u001B[0m \u001B[0;34m\u001B[0m\u001B[0m\n\u001B[1;32m   3315\u001B[0m         \u001B[0;32massert\u001B[0m \u001B[0misinstance\u001B[0m\u001B[0;34m(\u001B[0m\u001B[0mindexer\u001B[0m\u001B[0;34m,\u001B[0m \u001B[0mInt64Index\u001B[0m\u001B[0;34m)\u001B[0m\u001B[0;34m,\u001B[0m \u001B[0mtype\u001B[0m\u001B[0;34m(\u001B[0m\u001B[0mindexer\u001B[0m\u001B[0;34m)\u001B[0m\u001B[0;34m\u001B[0m\u001B[0;34m\u001B[0m\u001B[0m\n\u001B[0;32m-> 3316\u001B[0;31m         \u001B[0mindexer\u001B[0m \u001B[0;34m=\u001B[0m \u001B[0mself\u001B[0m\u001B[0;34m.\u001B[0m\u001B[0m_reorder_indexer\u001B[0m\u001B[0;34m(\u001B[0m\u001B[0mseq\u001B[0m\u001B[0;34m,\u001B[0m \u001B[0mindexer\u001B[0m\u001B[0;34m)\u001B[0m\u001B[0;34m\u001B[0m\u001B[0;34m\u001B[0m\u001B[0m\n\u001B[0m\u001B[1;32m   3317\u001B[0m \u001B[0;34m\u001B[0m\u001B[0m\n\u001B[1;32m   3318\u001B[0m         \u001B[0;32mreturn\u001B[0m \u001B[0mindexer\u001B[0m\u001B[0;34m.\u001B[0m\u001B[0m_values\u001B[0m\u001B[0;34m\u001B[0m\u001B[0;34m\u001B[0m\u001B[0m\n",
      "\u001B[0;32m~/work/miniconda3/envs/modin/lib/python3.8/site-packages/pandas/core/indexes/multi.py\u001B[0m in \u001B[0;36m_reorder_indexer\u001B[0;34m(self, seq, indexer)\u001B[0m\n\u001B[1;32m   3378\u001B[0m                 \u001B[0mnew_order\u001B[0m \u001B[0;34m=\u001B[0m \u001B[0mkey_order_map\u001B[0m\u001B[0;34m[\u001B[0m\u001B[0mself\u001B[0m\u001B[0;34m.\u001B[0m\u001B[0mcodes\u001B[0m\u001B[0;34m[\u001B[0m\u001B[0mi\u001B[0m\u001B[0;34m]\u001B[0m\u001B[0;34m[\u001B[0m\u001B[0mindexer\u001B[0m\u001B[0;34m]\u001B[0m\u001B[0;34m]\u001B[0m\u001B[0;34m\u001B[0m\u001B[0;34m\u001B[0m\u001B[0m\n\u001B[1;32m   3379\u001B[0m             \u001B[0;32melif\u001B[0m \u001B[0misinstance\u001B[0m\u001B[0;34m(\u001B[0m\u001B[0mk\u001B[0m\u001B[0;34m,\u001B[0m \u001B[0mslice\u001B[0m\u001B[0;34m)\u001B[0m \u001B[0;32mand\u001B[0m \u001B[0mk\u001B[0m\u001B[0;34m.\u001B[0m\u001B[0mstep\u001B[0m \u001B[0;32mis\u001B[0m \u001B[0;32mnot\u001B[0m \u001B[0;32mNone\u001B[0m \u001B[0;32mand\u001B[0m \u001B[0mk\u001B[0m\u001B[0;34m.\u001B[0m\u001B[0mstep\u001B[0m \u001B[0;34m<\u001B[0m \u001B[0;36m0\u001B[0m\u001B[0;34m:\u001B[0m\u001B[0;34m\u001B[0m\u001B[0;34m\u001B[0m\u001B[0m\n\u001B[0;32m-> 3380\u001B[0;31m                 \u001B[0mnew_order\u001B[0m \u001B[0;34m=\u001B[0m \u001B[0mnp\u001B[0m\u001B[0;34m.\u001B[0m\u001B[0marange\u001B[0m\u001B[0;34m(\u001B[0m\u001B[0mn\u001B[0m\u001B[0;34m)\u001B[0m\u001B[0;34m[\u001B[0m\u001B[0mk\u001B[0m\u001B[0;34m]\u001B[0m\u001B[0;34m[\u001B[0m\u001B[0mindexer\u001B[0m\u001B[0;34m]\u001B[0m\u001B[0;34m\u001B[0m\u001B[0;34m\u001B[0m\u001B[0m\n\u001B[0m\u001B[1;32m   3381\u001B[0m             \u001B[0;32melif\u001B[0m \u001B[0misinstance\u001B[0m\u001B[0;34m(\u001B[0m\u001B[0mk\u001B[0m\u001B[0;34m,\u001B[0m \u001B[0mslice\u001B[0m\u001B[0;34m)\u001B[0m \u001B[0;32mand\u001B[0m \u001B[0mk\u001B[0m\u001B[0;34m.\u001B[0m\u001B[0mstart\u001B[0m \u001B[0;32mis\u001B[0m \u001B[0;32mNone\u001B[0m \u001B[0;32mand\u001B[0m \u001B[0mk\u001B[0m\u001B[0;34m.\u001B[0m\u001B[0mstop\u001B[0m \u001B[0;32mis\u001B[0m \u001B[0;32mNone\u001B[0m\u001B[0;34m:\u001B[0m\u001B[0;34m\u001B[0m\u001B[0;34m\u001B[0m\u001B[0m\n\u001B[1;32m   3382\u001B[0m                 \u001B[0;31m# slice(None) should not determine order GH#31330\u001B[0m\u001B[0;34m\u001B[0m\u001B[0;34m\u001B[0m\u001B[0;34m\u001B[0m\u001B[0m\n",
      "\u001B[0;31mTypeError\u001B[0m: slice indices must be integers or None or have an __index__ method"
     ]
    }
   ],
   "source": [
    "pandas_df.sort_index().loc[(slice(\"qux\", \"bar\", -2), slice(\"one\")), (slice(3.3, 1.1, -2), slice(2, 4, 3))]"
   ]
  },
  {
   "cell_type": "code",
   "execution_count": null,
   "metadata": {},
   "outputs": [],
   "source": [
    "pandas_df.sort_index().loc[(slice(\"qux\", \"bar\", -2), slice(\"one\")), (slice(None), slice(2, 4, 1))]"
   ]
  },
  {
   "cell_type": "code",
   "execution_count": 9,
   "metadata": {},
   "outputs": [
    {
     "data": {
      "text/plain": "1st          1.1             2.2             3.3             4.4            \n2nd            1   2   3   4   1   2   3   4   1   2   3   4   1   2   3   4\nfirst second                                                                \nbar   one     81  62  53  47  17  60  77  80  39  66  17   4  25  57  92  87\n      two     89  19  27  26  61  98   2  65  78  56  34  90  14  91  32  19\n      three   81   6  70  56  77   8  67  96  68  40   5  84  44  81  85  10\n      four    16  27  47  35  65  60  36  78  61   0  54   3  87  80  26  40\nfoo   one     91  60   1  22  37  22  72  31  62  29  89  31  82  16   1  63\n      two     50  36  57  65  68  63  86  10  96  22  30  26  36  93  94  72\n      three   47  85  90  67  78   3  15  57  28  58  47   0  22  30  59  20\n      four    95  98  45  63   4  19  67   8  70  37  34  63  14  58  72   0",
      "text/html": "<div>\n<style scoped>\n    .dataframe tbody tr th:only-of-type {\n        vertical-align: middle;\n    }\n\n    .dataframe tbody tr th {\n        vertical-align: top;\n    }\n\n    .dataframe thead tr th {\n        text-align: left;\n    }\n\n    .dataframe thead tr:last-of-type th {\n        text-align: right;\n    }\n</style>\n<table border=\"1\" class=\"dataframe\">\n  <thead>\n    <tr>\n      <th></th>\n      <th>1st</th>\n      <th colspan=\"4\" halign=\"left\">1.1</th>\n      <th colspan=\"4\" halign=\"left\">2.2</th>\n      <th colspan=\"4\" halign=\"left\">3.3</th>\n      <th colspan=\"4\" halign=\"left\">4.4</th>\n    </tr>\n    <tr>\n      <th></th>\n      <th>2nd</th>\n      <th>1</th>\n      <th>2</th>\n      <th>3</th>\n      <th>4</th>\n      <th>1</th>\n      <th>2</th>\n      <th>3</th>\n      <th>4</th>\n      <th>1</th>\n      <th>2</th>\n      <th>3</th>\n      <th>4</th>\n      <th>1</th>\n      <th>2</th>\n      <th>3</th>\n      <th>4</th>\n    </tr>\n    <tr>\n      <th>first</th>\n      <th>second</th>\n      <th></th>\n      <th></th>\n      <th></th>\n      <th></th>\n      <th></th>\n      <th></th>\n      <th></th>\n      <th></th>\n      <th></th>\n      <th></th>\n      <th></th>\n      <th></th>\n      <th></th>\n      <th></th>\n      <th></th>\n      <th></th>\n    </tr>\n  </thead>\n  <tbody>\n    <tr>\n      <th rowspan=\"4\" valign=\"top\">bar</th>\n      <th>one</th>\n      <td>81</td>\n      <td>62</td>\n      <td>53</td>\n      <td>47</td>\n      <td>17</td>\n      <td>60</td>\n      <td>77</td>\n      <td>80</td>\n      <td>39</td>\n      <td>66</td>\n      <td>17</td>\n      <td>4</td>\n      <td>25</td>\n      <td>57</td>\n      <td>92</td>\n      <td>87</td>\n    </tr>\n    <tr>\n      <th>two</th>\n      <td>89</td>\n      <td>19</td>\n      <td>27</td>\n      <td>26</td>\n      <td>61</td>\n      <td>98</td>\n      <td>2</td>\n      <td>65</td>\n      <td>78</td>\n      <td>56</td>\n      <td>34</td>\n      <td>90</td>\n      <td>14</td>\n      <td>91</td>\n      <td>32</td>\n      <td>19</td>\n    </tr>\n    <tr>\n      <th>three</th>\n      <td>81</td>\n      <td>6</td>\n      <td>70</td>\n      <td>56</td>\n      <td>77</td>\n      <td>8</td>\n      <td>67</td>\n      <td>96</td>\n      <td>68</td>\n      <td>40</td>\n      <td>5</td>\n      <td>84</td>\n      <td>44</td>\n      <td>81</td>\n      <td>85</td>\n      <td>10</td>\n    </tr>\n    <tr>\n      <th>four</th>\n      <td>16</td>\n      <td>27</td>\n      <td>47</td>\n      <td>35</td>\n      <td>65</td>\n      <td>60</td>\n      <td>36</td>\n      <td>78</td>\n      <td>61</td>\n      <td>0</td>\n      <td>54</td>\n      <td>3</td>\n      <td>87</td>\n      <td>80</td>\n      <td>26</td>\n      <td>40</td>\n    </tr>\n    <tr>\n      <th rowspan=\"4\" valign=\"top\">foo</th>\n      <th>one</th>\n      <td>91</td>\n      <td>60</td>\n      <td>1</td>\n      <td>22</td>\n      <td>37</td>\n      <td>22</td>\n      <td>72</td>\n      <td>31</td>\n      <td>62</td>\n      <td>29</td>\n      <td>89</td>\n      <td>31</td>\n      <td>82</td>\n      <td>16</td>\n      <td>1</td>\n      <td>63</td>\n    </tr>\n    <tr>\n      <th>two</th>\n      <td>50</td>\n      <td>36</td>\n      <td>57</td>\n      <td>65</td>\n      <td>68</td>\n      <td>63</td>\n      <td>86</td>\n      <td>10</td>\n      <td>96</td>\n      <td>22</td>\n      <td>30</td>\n      <td>26</td>\n      <td>36</td>\n      <td>93</td>\n      <td>94</td>\n      <td>72</td>\n    </tr>\n    <tr>\n      <th>three</th>\n      <td>47</td>\n      <td>85</td>\n      <td>90</td>\n      <td>67</td>\n      <td>78</td>\n      <td>3</td>\n      <td>15</td>\n      <td>57</td>\n      <td>28</td>\n      <td>58</td>\n      <td>47</td>\n      <td>0</td>\n      <td>22</td>\n      <td>30</td>\n      <td>59</td>\n      <td>20</td>\n    </tr>\n    <tr>\n      <th>four</th>\n      <td>95</td>\n      <td>98</td>\n      <td>45</td>\n      <td>63</td>\n      <td>4</td>\n      <td>19</td>\n      <td>67</td>\n      <td>8</td>\n      <td>70</td>\n      <td>37</td>\n      <td>34</td>\n      <td>63</td>\n      <td>14</td>\n      <td>58</td>\n      <td>72</td>\n      <td>0</td>\n    </tr>\n  </tbody>\n</table>\n</div>"
     },
     "execution_count": 9,
     "metadata": {},
     "output_type": "execute_result"
    }
   ],
   "source": [
    "pandas_df.loc[[\"bar\", \"foo\"]]"
   ]
  },
  {
   "cell_type": "code",
   "execution_count": 7,
   "outputs": [
    {
     "data": {
      "text/plain": "           col3\ncol1 col2      \n1    3        5\n2    4        6",
      "text/html": "<div>\n<style scoped>\n    .dataframe tbody tr th:only-of-type {\n        vertical-align: middle;\n    }\n\n    .dataframe tbody tr th {\n        vertical-align: top;\n    }\n\n    .dataframe thead th {\n        text-align: right;\n    }\n</style>\n<table border=\"1\" class=\"dataframe\">\n  <thead>\n    <tr style=\"text-align: right;\">\n      <th></th>\n      <th></th>\n      <th>col3</th>\n    </tr>\n    <tr>\n      <th>col1</th>\n      <th>col2</th>\n      <th></th>\n    </tr>\n  </thead>\n  <tbody>\n    <tr>\n      <th>1</th>\n      <th>3</th>\n      <td>5</td>\n    </tr>\n    <tr>\n      <th>2</th>\n      <th>4</th>\n      <td>6</td>\n    </tr>\n  </tbody>\n</table>\n</div>"
     },
     "execution_count": 7,
     "metadata": {},
     "output_type": "execute_result"
    }
   ],
   "source": [
    "d = {'col1': [1, 2], 'col2': [3, 4], 'col3': [5,6]}\n",
    "df = pandas.DataFrame(d)\n",
    "df = df.set_index(['col1', 'col2'])\n",
    "df"
   ],
   "metadata": {
    "collapsed": false,
    "pycharm": {
     "name": "#%%\n"
    }
   }
  },
  {
   "cell_type": "code",
   "execution_count": 8,
   "outputs": [
    {
     "data": {
      "text/plain": "           col3\ncol1 col2      \n1    3        5\n2    4        6",
      "text/html": "<div>\n<style scoped>\n    .dataframe tbody tr th:only-of-type {\n        vertical-align: middle;\n    }\n\n    .dataframe tbody tr th {\n        vertical-align: top;\n    }\n\n    .dataframe thead th {\n        text-align: right;\n    }\n</style>\n<table border=\"1\" class=\"dataframe\">\n  <thead>\n    <tr style=\"text-align: right;\">\n      <th></th>\n      <th></th>\n      <th>col3</th>\n    </tr>\n    <tr>\n      <th>col1</th>\n      <th>col2</th>\n      <th></th>\n    </tr>\n  </thead>\n  <tbody>\n    <tr>\n      <th>1</th>\n      <th>3</th>\n      <td>5</td>\n    </tr>\n    <tr>\n      <th>2</th>\n      <th>4</th>\n      <td>6</td>\n    </tr>\n  </tbody>\n</table>\n</div>"
     },
     "execution_count": 8,
     "metadata": {},
     "output_type": "execute_result"
    }
   ],
   "source": [
    "df.loc[[1,2]]"
   ],
   "metadata": {
    "collapsed": false,
    "pycharm": {
     "name": "#%%\n"
    }
   }
  }
 ],
 "metadata": {
  "kernelspec": {
   "display_name": "Python 3",
   "language": "python",
   "name": "python3"
  },
  "language_info": {
   "codemirror_mode": {
    "name": "ipython",
    "version": 3
   },
   "file_extension": ".py",
   "mimetype": "text/x-python",
   "name": "python",
   "nbconvert_exporter": "python",
   "pygments_lexer": "ipython3",
   "version": "3.8.6"
  }
 },
 "nbformat": 4,
 "nbformat_minor": 4
}